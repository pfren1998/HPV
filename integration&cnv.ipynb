{
 "cells": [
  {
   "cell_type": "markdown",
   "id": "0e0d46c8-a432-4279-b342-e1cdee16b65d",
   "metadata": {
    "tags": []
   },
   "source": [
    "# cnv"
   ]
  },
  {
   "cell_type": "markdown",
   "id": "afbf8974-1bb6-4bce-b931-35e77a91b821",
   "metadata": {
    "tags": []
   },
   "source": [
    "### calculate cnv"
   ]
  },
  {
   "cell_type": "code",
   "execution_count": 1,
   "id": "85b0e307-15ff-419c-a843-7e521f827276",
   "metadata": {
    "scrolled": true
   },
   "outputs": [
    {
     "name": "stderr",
     "output_type": "stream",
     "text": [
      "Attaching SeuratObject\n",
      "\n",
      "\n",
      "Attaching package: ‘dplyr’\n",
      "\n",
      "\n",
      "The following object is masked from ‘package:AnnotationDbi’:\n",
      "\n",
      "    select\n",
      "\n",
      "\n",
      "The following objects are masked from ‘package:IRanges’:\n",
      "\n",
      "    collapse, desc, intersect, setdiff, slice, union\n",
      "\n",
      "\n",
      "The following objects are masked from ‘package:S4Vectors’:\n",
      "\n",
      "    first, intersect, rename, setdiff, setequal, union\n",
      "\n",
      "\n",
      "The following object is masked from ‘package:Biobase’:\n",
      "\n",
      "    combine\n",
      "\n",
      "\n",
      "The following objects are masked from ‘package:BiocGenerics’:\n",
      "\n",
      "    combine, intersect, setdiff, union\n",
      "\n",
      "\n",
      "The following objects are masked from ‘package:stats’:\n",
      "\n",
      "    filter, lag\n",
      "\n",
      "\n",
      "The following objects are masked from ‘package:base’:\n",
      "\n",
      "    intersect, setdiff, setequal, union\n",
      "\n",
      "\n",
      "Loading required package: Rcpp\n",
      "\n",
      "\n",
      "Attaching package: ‘dbscan’\n",
      "\n",
      "\n",
      "The following object is masked from ‘package:stats’:\n",
      "\n",
      "    as.dendrogram\n",
      "\n",
      "\n",
      "Loading required package: pscl\n",
      "\n",
      "Classes and Methods for R developed in the\n",
      "Political Science Computational Laboratory\n",
      "Department of Political Science\n",
      "Stanford University\n",
      "Simon Jackman\n",
      "hurdle and zeroinfl functions by Achim Zeileis\n",
      "\n",
      "\n",
      "Attaching package: ‘purrr’\n",
      "\n",
      "\n",
      "The following object is masked from ‘package:scales’:\n",
      "\n",
      "    discard\n",
      "\n",
      "\n",
      "The following object is masked from ‘package:IRanges’:\n",
      "\n",
      "    reduce\n",
      "\n",
      "\n",
      "The following object is masked from ‘package:clusterProfiler’:\n",
      "\n",
      "    simplify\n",
      "\n",
      "\n",
      "Loading required package: R.oo\n",
      "\n",
      "Loading required package: R.methodsS3\n",
      "\n",
      "R.methodsS3 v1.8.2 (2022-06-13 22:00:14 UTC) successfully loaded. See ?R.methodsS3 for help.\n",
      "\n",
      "R.oo v1.25.0 (2022-06-12 02:20:02 UTC) successfully loaded. See ?R.oo for help.\n",
      "\n",
      "\n",
      "Attaching package: ‘R.oo’\n",
      "\n",
      "\n",
      "The following object is masked from ‘package:R.methodsS3’:\n",
      "\n",
      "    throw\n",
      "\n",
      "\n",
      "The following object is masked from ‘package:IRanges’:\n",
      "\n",
      "    trim\n",
      "\n",
      "\n",
      "The following objects are masked from ‘package:methods’:\n",
      "\n",
      "    getClasses, getMethods\n",
      "\n",
      "\n",
      "The following objects are masked from ‘package:base’:\n",
      "\n",
      "    attach, detach, load, save\n",
      "\n",
      "\n",
      "R.utils v2.12.2 (2022-11-11 22:00:03 UTC) successfully loaded. See ?R.utils for help.\n",
      "\n",
      "\n",
      "Attaching package: ‘R.utils’\n",
      "\n",
      "\n",
      "The following object is masked from ‘package:utils’:\n",
      "\n",
      "    timestamp\n",
      "\n",
      "\n",
      "The following objects are masked from ‘package:base’:\n",
      "\n",
      "    cat, commandArgs, getOption, isOpen, nullfile, parse, warnings\n",
      "\n",
      "\n",
      "------------------------------------------------------------------------------\n",
      "\n",
      "You have loaded plyr after dplyr - this is likely to cause problems.\n",
      "If you need functions from both plyr and dplyr, please load plyr first, then dplyr:\n",
      "library(plyr); library(dplyr)\n",
      "\n",
      "------------------------------------------------------------------------------\n",
      "\n",
      "\n",
      "Attaching package: ‘plyr’\n",
      "\n",
      "\n",
      "The following object is masked from ‘package:purrr’:\n",
      "\n",
      "    compact\n",
      "\n",
      "\n",
      "The following objects are masked from ‘package:dplyr’:\n",
      "\n",
      "    arrange, count, desc, failwith, id, mutate, rename, summarise,\n",
      "    summarize\n",
      "\n",
      "\n",
      "The following object is masked from ‘package:IRanges’:\n",
      "\n",
      "    desc\n",
      "\n",
      "\n",
      "The following object is masked from ‘package:S4Vectors’:\n",
      "\n",
      "    rename\n",
      "\n",
      "\n",
      "The following objects are masked from ‘package:clusterProfiler’:\n",
      "\n",
      "    arrange, mutate, rename, summarise\n",
      "\n",
      "\n",
      "Loading required package: parallel\n",
      "\n",
      "Loading required package: penalized\n",
      "\n",
      "Loading required package: survival\n",
      "\n",
      "Welcome to penalized. For extended examples, see vignette(\"penalized\").\n",
      "\n",
      "Loading required package: doParallel\n",
      "\n",
      "Loading required package: foreach\n",
      "\n",
      "\n",
      "Attaching package: ‘foreach’\n",
      "\n",
      "\n",
      "The following objects are masked from ‘package:purrr’:\n",
      "\n",
      "    accumulate, when\n",
      "\n",
      "\n",
      "Loading required package: iterators\n",
      "\n"
     ]
    }
   ],
   "source": [
    "library(Seurat)\n",
    "library(stringr)\n",
    "suppressMessages(library(ReactomePA))\n",
    "suppressMessages(library(clusterProfiler))\n",
    "suppressMessages(library(org.Hs.eg.db))\n",
    "library(ggsci)\n",
    "library(ggplot2)\n",
    "library(scales)\n",
    "library(dplyr)\n",
    "library(harmony) \n",
    "library(pheatmap)\n",
    "library(dbscan)\n",
    "require(pscl)\n",
    "library(Ridit)\n",
    "library(purrr)\n",
    "library(R.utils)\n",
    "library(plyr)\n",
    "library(scImpute)\n",
    "library(parallel)\n",
    "R.utils::setOption(\"clusterProfiler.download.method\",\"auto\")"
   ]
  },
  {
   "cell_type": "code",
   "execution_count": 2,
   "id": "cc0b375c-2924-46dd-bccc-229cb6a550b7",
   "metadata": {},
   "outputs": [],
   "source": [
    "epi = readRDS('~/HPV/res/seurat_rds/epi.rds')\n",
    "merged_data = readRDS('~/HPV/res/seurat_rds/merged_data.rds')"
   ]
  },
  {
   "cell_type": "code",
   "execution_count": 3,
   "id": "ec80be77-5e70-468b-a85a-7b299b6fb7f5",
   "metadata": {},
   "outputs": [
    {
     "data": {
      "text/html": [
       "<style>\n",
       ".list-inline {list-style: none; margin:0; padding: 0}\n",
       ".list-inline>li {display: inline-block}\n",
       ".list-inline>li:not(:last-child)::after {content: \"\\00b7\"; padding: 0 .5ex}\n",
       "</style>\n",
       "<ol class=list-inline><li>'Singlet'</li><li>'B_Epithelial'</li><li>'Epithelial_T'</li><li>'Epithelial_Neutrophil'</li><li>'Epithelial_Fibroblast'</li><li>'Epithelial_NK'</li><li>'Epithelial_Plasma'</li><li>'B_T'</li><li>'Neutrophil_NK'</li><li>'Epithelial_Monocyte'</li><li>'Endothelial_Epithelial'</li><li>'Epithelial_Macrophage'</li><li>'Fibroblast_T'</li><li>'Plasma_T'</li><li>'NK_Plasma'</li></ol>\n"
      ],
      "text/latex": [
       "\\begin{enumerate*}\n",
       "\\item 'Singlet'\n",
       "\\item 'B\\_Epithelial'\n",
       "\\item 'Epithelial\\_T'\n",
       "\\item 'Epithelial\\_Neutrophil'\n",
       "\\item 'Epithelial\\_Fibroblast'\n",
       "\\item 'Epithelial\\_NK'\n",
       "\\item 'Epithelial\\_Plasma'\n",
       "\\item 'B\\_T'\n",
       "\\item 'Neutrophil\\_NK'\n",
       "\\item 'Epithelial\\_Monocyte'\n",
       "\\item 'Endothelial\\_Epithelial'\n",
       "\\item 'Epithelial\\_Macrophage'\n",
       "\\item 'Fibroblast\\_T'\n",
       "\\item 'Plasma\\_T'\n",
       "\\item 'NK\\_Plasma'\n",
       "\\end{enumerate*}\n"
      ],
      "text/markdown": [
       "1. 'Singlet'\n",
       "2. 'B_Epithelial'\n",
       "3. 'Epithelial_T'\n",
       "4. 'Epithelial_Neutrophil'\n",
       "5. 'Epithelial_Fibroblast'\n",
       "6. 'Epithelial_NK'\n",
       "7. 'Epithelial_Plasma'\n",
       "8. 'B_T'\n",
       "9. 'Neutrophil_NK'\n",
       "10. 'Epithelial_Monocyte'\n",
       "11. 'Endothelial_Epithelial'\n",
       "12. 'Epithelial_Macrophage'\n",
       "13. 'Fibroblast_T'\n",
       "14. 'Plasma_T'\n",
       "15. 'NK_Plasma'\n",
       "\n",
       "\n"
      ],
      "text/plain": [
       " [1] \"Singlet\"                \"B_Epithelial\"           \"Epithelial_T\"          \n",
       " [4] \"Epithelial_Neutrophil\"  \"Epithelial_Fibroblast\"  \"Epithelial_NK\"         \n",
       " [7] \"Epithelial_Plasma\"      \"B_T\"                    \"Neutrophil_NK\"         \n",
       "[10] \"Epithelial_Monocyte\"    \"Endothelial_Epithelial\" \"Epithelial_Macrophage\" \n",
       "[13] \"Fibroblast_T\"           \"Plasma_T\"               \"NK_Plasma\"             "
      ]
     },
     "metadata": {},
     "output_type": "display_data"
    }
   ],
   "source": [
    "unique(epi$doublet)"
   ]
  },
  {
   "cell_type": "code",
   "execution_count": 4,
   "id": "de1d7df7-8c87-4361-85fc-c82b0b1f4381",
   "metadata": {},
   "outputs": [],
   "source": [
    "epi = epi[,!(epi$seurat_clusters %in% c('4','5','8','7','9'))]\n",
    "epi = epi[,epi$nFeature_RNA <= 8000 & epi$nCount_RNA <= 50000]\n",
    "merged_data = merged_data[,merged_data$major!='Epithelial']\n",
    "merged_data = merged_data[,merged_data$nFeature_RNA <= 5000 & merged_data$nCount_RNA <= 25000 & merged_data$doublet == 'Singlet']"
   ]
  },
  {
   "cell_type": "code",
   "execution_count": 5,
   "id": "7ddb4cb0-708a-451e-990f-2f98213b7ea1",
   "metadata": {},
   "outputs": [
    {
     "data": {
      "text/html": [
       "<style>\n",
       ".list-inline {list-style: none; margin:0; padding: 0}\n",
       ".list-inline>li {display: inline-block}\n",
       ".list-inline>li:not(:last-child)::after {content: \"\\00b7\"; padding: 0 .5ex}\n",
       "</style>\n",
       "<ol class=list-inline><li>28849</li><li>61270</li></ol>\n"
      ],
      "text/latex": [
       "\\begin{enumerate*}\n",
       "\\item 28849\n",
       "\\item 61270\n",
       "\\end{enumerate*}\n"
      ],
      "text/markdown": [
       "1. 28849\n",
       "2. 61270\n",
       "\n",
       "\n"
      ],
      "text/plain": [
       "[1] 28849 61270"
      ]
     },
     "metadata": {},
     "output_type": "display_data"
    }
   ],
   "source": [
    "dim(merged_data)"
   ]
  },
  {
   "cell_type": "code",
   "execution_count": 10,
   "id": "164074a4-b170-48ee-9ba4-86ecdb7dca0f",
   "metadata": {},
   "outputs": [
    {
     "data": {
      "text/html": [
       "<style>\n",
       ".list-inline {list-style: none; margin:0; padding: 0}\n",
       ".list-inline>li {display: inline-block}\n",
       ".list-inline>li:not(:last-child)::after {content: \"\\00b7\"; padding: 0 .5ex}\n",
       "</style>\n",
       "<ol class=list-inline><li>28659</li><li>10303</li></ol>\n"
      ],
      "text/latex": [
       "\\begin{enumerate*}\n",
       "\\item 28659\n",
       "\\item 10303\n",
       "\\end{enumerate*}\n"
      ],
      "text/markdown": [
       "1. 28659\n",
       "2. 10303\n",
       "\n",
       "\n"
      ],
      "text/plain": [
       "[1] 28659 10303"
      ]
     },
     "metadata": {},
     "output_type": "display_data"
    },
    {
     "data": {
      "text/html": [
       "<style>\n",
       ".list-inline {list-style: none; margin:0; padding: 0}\n",
       ".list-inline>li {display: inline-block}\n",
       ".list-inline>li:not(:last-child)::after {content: \"\\00b7\"; padding: 0 .5ex}\n",
       "</style>\n",
       "<ol class=list-inline><li>28659</li><li>61270</li></ol>\n"
      ],
      "text/latex": [
       "\\begin{enumerate*}\n",
       "\\item 28659\n",
       "\\item 61270\n",
       "\\end{enumerate*}\n"
      ],
      "text/markdown": [
       "1. 28659\n",
       "2. 61270\n",
       "\n",
       "\n"
      ],
      "text/plain": [
       "[1] 28659 61270"
      ]
     },
     "metadata": {},
     "output_type": "display_data"
    }
   ],
   "source": [
    "#ch1 chr10 .... chr2 chr21 ...\n",
    "gene_loc = read.table('~/HPV/ref/genome/hs/genes.bed',header = FALSE, sep = '\\t')\n",
    "gene_loc = gene_loc[!duplicated(gene_loc$V4),]\n",
    "gene_loc = gene_loc[which(gene_loc$V4 %in% rownames(epi)),]\n",
    "epi=epi[match(gene_loc$V4,rownames(epi)),]\n",
    "merged_data=merged_data[match(gene_loc$V4,rownames(merged_data)),]\n",
    "dim(epi)\n",
    "dim(merged_data)"
   ]
  },
  {
   "cell_type": "code",
   "execution_count": 11,
   "id": "d785714c-47ac-4e99-8603-f368be5b5498",
   "metadata": {},
   "outputs": [
    {
     "data": {
      "text/html": [
       "<style>\n",
       ".list-inline {list-style: none; margin:0; padding: 0}\n",
       ".list-inline>li {display: inline-block}\n",
       ".list-inline>li:not(:last-child)::after {content: \"\\00b7\"; padding: 0 .5ex}\n",
       "</style>\n",
       "<ol class=list-inline><li>'T'</li><li>'B'</li><li>'NK'</li><li>'pDC'</li><li>'Fibroblast'</li><li>'Endothelial'</li><li>'Neutrophil'</li><li>'DC'</li><li>'Macrophage'</li><li>'Monocyte'</li><li>'Plasma'</li><li>'Mast'</li></ol>\n"
      ],
      "text/latex": [
       "\\begin{enumerate*}\n",
       "\\item 'T'\n",
       "\\item 'B'\n",
       "\\item 'NK'\n",
       "\\item 'pDC'\n",
       "\\item 'Fibroblast'\n",
       "\\item 'Endothelial'\n",
       "\\item 'Neutrophil'\n",
       "\\item 'DC'\n",
       "\\item 'Macrophage'\n",
       "\\item 'Monocyte'\n",
       "\\item 'Plasma'\n",
       "\\item 'Mast'\n",
       "\\end{enumerate*}\n"
      ],
      "text/markdown": [
       "1. 'T'\n",
       "2. 'B'\n",
       "3. 'NK'\n",
       "4. 'pDC'\n",
       "5. 'Fibroblast'\n",
       "6. 'Endothelial'\n",
       "7. 'Neutrophil'\n",
       "8. 'DC'\n",
       "9. 'Macrophage'\n",
       "10. 'Monocyte'\n",
       "11. 'Plasma'\n",
       "12. 'Mast'\n",
       "\n",
       "\n"
      ],
      "text/plain": [
       " [1] \"T\"           \"B\"           \"NK\"          \"pDC\"         \"Fibroblast\" \n",
       " [6] \"Endothelial\" \"Neutrophil\"  \"DC\"          \"Macrophage\"  \"Monocyte\"   \n",
       "[11] \"Plasma\"      \"Mast\"       "
      ]
     },
     "metadata": {},
     "output_type": "display_data"
    }
   ],
   "source": [
    "unique(merged_data$major)"
   ]
  },
  {
   "cell_type": "code",
   "execution_count": 12,
   "id": "54f89ac1-7ad8-450f-a5da-7a9d5f18545f",
   "metadata": {},
   "outputs": [
    {
     "name": "stderr",
     "output_type": "stream",
     "text": [
      "Warning message in asMethod(object):\n",
      "“sparse->dense coercion: allocating vector of size 2.2 GiB”\n"
     ]
    }
   ],
   "source": [
    "expr = GetAssayData(epi,slot = 'data')\n",
    "mean_ref = lapply(unique(merged_data$major),function(x){\n",
    "    return(rowMeans(merged_data[,merged_data$major == x]))\n",
    "}) %>% reduce(cbind)\n",
    "colnames(mean_ref) = unique(merged_data$major)\n",
    "mean_immune = mean_ref[,c('T','B','NK','pDC','Neutrophil','DC','Macrophage','Monocyte','Plasma','Mast')] %>% rowMeans()\n",
    "mean_stromal = mean_ref[,c('Fibroblast','Endothelial')] %>% rowMeans()\n",
    "mean_ref = cbind(mean_immune,mean_stromal) %>% rowMeans()\n",
    "expr_dif = expr - mean_ref"
   ]
  },
  {
   "cell_type": "code",
   "execution_count": 13,
   "id": "61519c01-8acf-4786-81d8-43a31924c54f",
   "metadata": {},
   "outputs": [
    {
     "data": {
      "text/html": [
       "23"
      ],
      "text/latex": [
       "23"
      ],
      "text/markdown": [
       "23"
      ],
      "text/plain": [
       "[1] 23"
      ]
     },
     "metadata": {},
     "output_type": "display_data"
    },
    {
     "data": {
      "text/html": [
       "<style>\n",
       ".list-inline {list-style: none; margin:0; padding: 0}\n",
       ".list-inline>li {display: inline-block}\n",
       ".list-inline>li:not(:last-child)::after {content: \"\\00b7\"; padding: 0 .5ex}\n",
       "</style>\n",
       "<ol class=list-inline><li>'chr1'</li><li>'chr10'</li><li>'chr11'</li><li>'chr12'</li><li>'chr13'</li><li>'chr14'</li><li>'chr15'</li><li>'chr16'</li><li>'chr17'</li><li>'chr18'</li><li>'chr19'</li><li>'chr2'</li><li>'chr20'</li><li>'chr21'</li><li>'chr22'</li><li>'chr3'</li><li>'chr4'</li><li>'chr5'</li><li>'chr6'</li><li>'chr7'</li><li>'chr8'</li><li>'chr9'</li><li>'chrX'</li></ol>\n"
      ],
      "text/latex": [
       "\\begin{enumerate*}\n",
       "\\item 'chr1'\n",
       "\\item 'chr10'\n",
       "\\item 'chr11'\n",
       "\\item 'chr12'\n",
       "\\item 'chr13'\n",
       "\\item 'chr14'\n",
       "\\item 'chr15'\n",
       "\\item 'chr16'\n",
       "\\item 'chr17'\n",
       "\\item 'chr18'\n",
       "\\item 'chr19'\n",
       "\\item 'chr2'\n",
       "\\item 'chr20'\n",
       "\\item 'chr21'\n",
       "\\item 'chr22'\n",
       "\\item 'chr3'\n",
       "\\item 'chr4'\n",
       "\\item 'chr5'\n",
       "\\item 'chr6'\n",
       "\\item 'chr7'\n",
       "\\item 'chr8'\n",
       "\\item 'chr9'\n",
       "\\item 'chrX'\n",
       "\\end{enumerate*}\n"
      ],
      "text/markdown": [
       "1. 'chr1'\n",
       "2. 'chr10'\n",
       "3. 'chr11'\n",
       "4. 'chr12'\n",
       "5. 'chr13'\n",
       "6. 'chr14'\n",
       "7. 'chr15'\n",
       "8. 'chr16'\n",
       "9. 'chr17'\n",
       "10. 'chr18'\n",
       "11. 'chr19'\n",
       "12. 'chr2'\n",
       "13. 'chr20'\n",
       "14. 'chr21'\n",
       "15. 'chr22'\n",
       "16. 'chr3'\n",
       "17. 'chr4'\n",
       "18. 'chr5'\n",
       "19. 'chr6'\n",
       "20. 'chr7'\n",
       "21. 'chr8'\n",
       "22. 'chr9'\n",
       "23. 'chrX'\n",
       "\n",
       "\n"
      ],
      "text/plain": [
       " [1] \"chr1\"  \"chr10\" \"chr11\" \"chr12\" \"chr13\" \"chr14\" \"chr15\" \"chr16\" \"chr17\"\n",
       "[10] \"chr18\" \"chr19\" \"chr2\"  \"chr20\" \"chr21\" \"chr22\" \"chr3\"  \"chr4\"  \"chr5\" \n",
       "[19] \"chr6\"  \"chr7\"  \"chr8\"  \"chr9\"  \"chrX\" "
      ]
     },
     "metadata": {},
     "output_type": "display_data"
    }
   ],
   "source": [
    "#remove chromosomes with gene number less than 100\n",
    "freq = table(gene_loc$V1)\n",
    "valid_chr = names(freq)[freq > 100]\n",
    "length(valid_chr)\n",
    "valid_chr"
   ]
  },
  {
   "cell_type": "code",
   "execution_count": 14,
   "id": "33020646-a6f5-4040-a73b-3ccd61b5c0e6",
   "metadata": {},
   "outputs": [],
   "source": [
    "result <- mclapply(1:23, function(i) {\n",
    "    message(i)\n",
    "    gene_loc = gene_loc[gene_loc$V1 == valid_chr[i],]\n",
    "    cnv_scores = list()\n",
    "    for (gene in gene_loc$V4[51:(nrow(gene_loc)-50)]){\n",
    "        gene_index = which(rownames(expr_dif) == gene)\n",
    "        window_index = window_index = c((gene_index-50):(gene_index+50))\n",
    "        cnv_scores[[gene]] = colSums(expr_dif[window_index,])/101\n",
    "    }\n",
    "    cnv_score = cnv_scores %>% reduce(rbind)\n",
    "    rownames(cnv_score) = names(cnv_scores)\n",
    "    return(cnv_score)\n",
    "}, mc.cores = 23)"
   ]
  },
  {
   "cell_type": "code",
   "execution_count": 15,
   "id": "76e962c6-2e80-4627-8b2a-1cbba46964eb",
   "metadata": {},
   "outputs": [],
   "source": [
    "cnv_score = result %>% reduce(rbind)\n",
    "cnv_score=t(scale(cnv_score))\n",
    "saveRDS(cnv_score, file = '~/HPV/res/epi/hpv_inte/cnv_score.rds')"
   ]
  },
  {
   "cell_type": "markdown",
   "id": "aff4d3cd-3827-4b12-9293-f76b1f5d5e4a",
   "metadata": {},
   "source": [
    "### calculate pvalue"
   ]
  },
  {
   "cell_type": "code",
   "execution_count": 16,
   "id": "189a933d-0201-4413-bf0b-09f4bd9060f8",
   "metadata": {
    "scrolled": true
   },
   "outputs": [
    {
     "name": "stderr",
     "output_type": "stream",
     "text": [
      "Warning message in fun(libname, pkgname):\n",
      "“bedtoolsr was built with bedtools version 2.30.0 but you have version 2.31.0 installed. Function syntax may have changed and wrapper will not function correctly. To fix this, please install bedtools version 2.30.0 and either add it to your PATH or run:\n",
      "options(bedtools.path = \\\"[bedtools path]\\\")”\n"
     ]
    }
   ],
   "source": [
    "library(Seurat)\n",
    "library(stringr)\n",
    "suppressMessages(library(ReactomePA))\n",
    "suppressMessages(library(clusterProfiler))\n",
    "suppressMessages(library(org.Hs.eg.db))\n",
    "library(ggsci)\n",
    "library(ggplot2)\n",
    "library(scales)\n",
    "library(dplyr)\n",
    "library(harmony) \n",
    "library(pheatmap)\n",
    "library(dbscan)\n",
    "require(pscl)\n",
    "library(Ridit)\n",
    "library(purrr)\n",
    "library(R.utils)\n",
    "library(plyr)\n",
    "library(scImpute)\n",
    "library(parallel)\n",
    "options(bedtools.path = \"~/anaconda3/envs/gencode/bin/\")\n",
    "library(bedtoolsr)\n",
    "library(ggrepel)"
   ]
  },
  {
   "cell_type": "code",
   "execution_count": 17,
   "id": "e93101cc-348a-4931-8ec3-03180398e8b1",
   "metadata": {},
   "outputs": [],
   "source": [
    "epi = readRDS('~/HPV/res/seurat_rds/epi.rds')\n",
    "epi = epi[,!(epi$seurat_clusters %in% c('4','5','8','7','9'))]\n",
    "epi = epi[,epi$nFeature_RNA <= 8000 & epi$nCount_RNA <= 50000]"
   ]
  },
  {
   "cell_type": "code",
   "execution_count": 18,
   "id": "bcbdd8f9-91a5-40eb-b9ec-e6575711d28f",
   "metadata": {},
   "outputs": [],
   "source": [
    "cnv_score = readRDS('~/HPV/res/epi/hpv_inte/cnv_score.rds')"
   ]
  },
  {
   "cell_type": "code",
   "execution_count": 19,
   "id": "6239469d-029a-4bf5-899a-6182f5636eb6",
   "metadata": {},
   "outputs": [
    {
     "data": {
      "text/html": [
       "<style>\n",
       ".list-inline {list-style: none; margin:0; padding: 0}\n",
       ".list-inline>li {display: inline-block}\n",
       ".list-inline>li:not(:last-child)::after {content: \"\\00b7\"; padding: 0 .5ex}\n",
       "</style>\n",
       "<ol class=list-inline><li>28668</li><li>10303</li></ol>\n"
      ],
      "text/latex": [
       "\\begin{enumerate*}\n",
       "\\item 28668\n",
       "\\item 10303\n",
       "\\end{enumerate*}\n"
      ],
      "text/markdown": [
       "1. 28668\n",
       "2. 10303\n",
       "\n",
       "\n"
      ],
      "text/plain": [
       "[1] 28668 10303"
      ]
     },
     "metadata": {},
     "output_type": "display_data"
    },
    {
     "data": {
      "text/html": [
       "<style>\n",
       ".list-inline {list-style: none; margin:0; padding: 0}\n",
       ".list-inline>li {display: inline-block}\n",
       ".list-inline>li:not(:last-child)::after {content: \"\\00b7\"; padding: 0 .5ex}\n",
       "</style>\n",
       "<ol class=list-inline><li>10303</li><li>26332</li></ol>\n"
      ],
      "text/latex": [
       "\\begin{enumerate*}\n",
       "\\item 10303\n",
       "\\item 26332\n",
       "\\end{enumerate*}\n"
      ],
      "text/markdown": [
       "1. 10303\n",
       "2. 26332\n",
       "\n",
       "\n"
      ],
      "text/plain": [
       "[1] 10303 26332"
      ]
     },
     "metadata": {},
     "output_type": "display_data"
    }
   ],
   "source": [
    "dim(epi)\n",
    "dim(cnv_score)"
   ]
  },
  {
   "cell_type": "code",
   "execution_count": 20,
   "id": "4157ec6b-c2b5-4705-9984-cd3b6ca08f62",
   "metadata": {},
   "outputs": [],
   "source": [
    "flank_gene_top = readRDS('~/HPV/res/epi/hpv_inte/flank_gene_top.rds')\n",
    "within_gene_top = readRDS('~/HPV/res/epi/hpv_inte/within_gene_top.rds')"
   ]
  },
  {
   "cell_type": "code",
   "execution_count": 21,
   "id": "e5220856-084b-4ae4-967a-8ed28f6eed6d",
   "metadata": {},
   "outputs": [],
   "source": [
    "within_genes = unique(unlist(unlist(str_split(epi$Hs_gene_within,';'))))\n",
    "within_genes = within_genes[-which(within_genes=='')]\n",
    "flank_genes = unique(unlist(unlist(str_split(epi$Hs_gene_flank,';'))))\n",
    "flank_genes = flank_genes[-which(flank_genes=='')]"
   ]
  },
  {
   "cell_type": "code",
   "execution_count": 22,
   "id": "2f6a20b1-b314-4c0d-9396-7b3ce3940b72",
   "metadata": {},
   "outputs": [],
   "source": [
    "hpv_within =  matrix(0, ncol = ncol(epi),nrow = length(within_genes))\n",
    "rownames(hpv_within) = within_genes\n",
    "colnames(hpv_within) = colnames(epi)\n",
    "hpv_flank =  matrix(0, ncol = ncol(epi),nrow = length(flank_genes))\n",
    "rownames(hpv_flank) = flank_genes\n",
    "colnames(hpv_flank) = colnames(epi)\n",
    "within_indx = which(epi$Hs_gene_within!='')\n",
    "flank_index = which(epi$Hs_gene_flank!='')\n",
    "for (j in 1:nrow(hpv_within)){\n",
    "    hpv_within[j,] = ifelse(str_detect(epi$Hs_gene_within,within_genes[j]),yes = 1,no = 0)\n",
    "}\n",
    "for (j in 1:nrow(hpv_flank)){\n",
    "    hpv_flank[j,] = ifelse(str_detect(epi$Hs_gene_flank,flank_genes[j]),yes = 1,no = 0)\n",
    "}\n",
    "hpv_within = CreateSeuratObject(counts = hpv_within)\n",
    "hpv_within@meta.data = epi@meta.data\n",
    "hpv_flank = CreateSeuratObject(counts = hpv_flank)\n",
    "hpv_flank@meta.data = epi@meta.data"
   ]
  },
  {
   "cell_type": "code",
   "execution_count": 23,
   "id": "75d78616-7e14-48c2-9e26-325e2af1a9b1",
   "metadata": {},
   "outputs": [
    {
     "data": {
      "text/html": [
       "<style>\n",
       ".list-inline {list-style: none; margin:0; padding: 0}\n",
       ".list-inline>li {display: inline-block}\n",
       ".list-inline>li:not(:last-child)::after {content: \"\\00b7\"; padding: 0 .5ex}\n",
       "</style>\n",
       "<ol class=list-inline><li>393</li><li>10303</li></ol>\n"
      ],
      "text/latex": [
       "\\begin{enumerate*}\n",
       "\\item 393\n",
       "\\item 10303\n",
       "\\end{enumerate*}\n"
      ],
      "text/markdown": [
       "1. 393\n",
       "2. 10303\n",
       "\n",
       "\n"
      ],
      "text/plain": [
       "[1]   393 10303"
      ]
     },
     "metadata": {},
     "output_type": "display_data"
    },
    {
     "data": {
      "text/html": [
       "<style>\n",
       ".list-inline {list-style: none; margin:0; padding: 0}\n",
       ".list-inline>li {display: inline-block}\n",
       ".list-inline>li:not(:last-child)::after {content: \"\\00b7\"; padding: 0 .5ex}\n",
       "</style>\n",
       "<ol class=list-inline><li>610</li><li>10303</li></ol>\n"
      ],
      "text/latex": [
       "\\begin{enumerate*}\n",
       "\\item 610\n",
       "\\item 10303\n",
       "\\end{enumerate*}\n"
      ],
      "text/markdown": [
       "1. 610\n",
       "2. 10303\n",
       "\n",
       "\n"
      ],
      "text/plain": [
       "[1]   610 10303"
      ]
     },
     "metadata": {},
     "output_type": "display_data"
    }
   ],
   "source": [
    "dim(hpv_flank)\n",
    "dim(hpv_within)"
   ]
  },
  {
   "cell_type": "code",
   "execution_count": 24,
   "id": "68e25372-7889-471e-87cc-45b4a27380f7",
   "metadata": {},
   "outputs": [],
   "source": [
    "cal_chi = function(inte_genes, inte_expr){\n",
    "    pvalue = c()\n",
    "    enrich = c()\n",
    "    genes = c()\n",
    "    ninte = c()\n",
    "    for (gene in inte_genes){\n",
    "        if (gene %in% colnames(cnv_score)){ \n",
    "            hpv_inte = GetAssayData(inte_expr)[gene,] %>% mapvalues(from = c(0,1),to = c('non-integrated','integrated'))\n",
    "            hpv_inte = factor(hpv_inte,levels = c('integrated','non-integrated'))\n",
    "            cnv = cnv_score[,gene]\n",
    "            cnv_level = rep('gain',ncol(inte_expr))\n",
    "            cnv_level[cnv < 0]  = 'loss'\n",
    "            freq = table(hpv_inte,cnv_level)\n",
    "            if (sum(freq < 5)==0){\n",
    "                message(gene)\n",
    "                res = fisher.test(freq)\n",
    "                print(freq)\n",
    "                print(res)\n",
    "                p = res$p.value\n",
    "                odds_ratio = res$estimate\n",
    "                genes = c(genes, gene)\n",
    "                enrich = c(enrich, odds_ratio)\n",
    "                pvalue = c(pvalue, p)\n",
    "                ninte = c(ninte, length(which(hpv_inte == 'integrated')))\n",
    "            }\n",
    "        }\n",
    "    }\n",
    "    return(data.frame(genes = genes, enrich = enrich, pvalue = pvalue, ninte = ninte))\n",
    "}"
   ]
  },
  {
   "cell_type": "code",
   "execution_count": 25,
   "id": "a3e5b99d-49d6-46c8-8643-27ba41f77566",
   "metadata": {
    "scrolled": true
   },
   "outputs": [],
   "source": [
    "flank_res = cal_chi(flank_gene_top$genes,hpv_flank)"
   ]
  },
  {
   "cell_type": "code",
   "execution_count": 26,
   "id": "6304b3e4-8458-4658-89ba-6d14d42fd247",
   "metadata": {},
   "outputs": [
    {
     "data": {
      "text/html": [],
      "text/latex": [],
      "text/markdown": [],
      "text/plain": [
       "<0 x 0 matrix>"
      ]
     },
     "metadata": {},
     "output_type": "display_data"
    }
   ],
   "source": [
    "flank_res"
   ]
  },
  {
   "cell_type": "code",
   "execution_count": 27,
   "id": "4d4ad75e-da1a-4786-af7d-3923dd34fd14",
   "metadata": {
    "scrolled": true,
    "tags": []
   },
   "outputs": [
    {
     "name": "stderr",
     "output_type": "stream",
     "text": [
      "NRG1\n",
      "\n"
     ]
    },
    {
     "name": "stdout",
     "output_type": "stream",
     "text": [
      "                cnv_level\n",
      "hpv_inte         gain loss\n",
      "  integrated        5   11\n",
      "  non-integrated 2882 7405\n",
      "\n",
      "\tFisher's Exact Test for Count Data\n",
      "\n",
      "data:  freq\n",
      "p-value = 0.7828\n",
      "alternative hypothesis: true odds ratio is not equal to 1\n",
      "95 percent confidence interval:\n",
      " 0.3178357 3.6499022\n",
      "sample estimates:\n",
      "odds ratio \n",
      "  1.167865 \n",
      "\n"
     ]
    },
    {
     "name": "stderr",
     "output_type": "stream",
     "text": [
      "CNBD1\n",
      "\n"
     ]
    },
    {
     "name": "stdout",
     "output_type": "stream",
     "text": [
      "                cnv_level\n",
      "hpv_inte         gain loss\n",
      "  integrated      147   46\n",
      "  non-integrated 4415 5695\n",
      "\n",
      "\tFisher's Exact Test for Count Data\n",
      "\n",
      "data:  freq\n",
      "p-value < 2.2e-16\n",
      "alternative hypothesis: true odds ratio is not equal to 1\n",
      "95 percent confidence interval:\n",
      " 2.933756 5.885165\n",
      "sample estimates:\n",
      "odds ratio \n",
      "  4.121604 \n",
      "\n"
     ]
    },
    {
     "name": "stderr",
     "output_type": "stream",
     "text": [
      "NMNAT2\n",
      "\n"
     ]
    },
    {
     "name": "stdout",
     "output_type": "stream",
     "text": [
      "                cnv_level\n",
      "hpv_inte         gain loss\n",
      "  integrated       10   22\n",
      "  non-integrated 5318 4953\n",
      "\n",
      "\tFisher's Exact Test for Count Data\n",
      "\n",
      "data:  freq\n",
      "p-value = 0.02159\n",
      "alternative hypothesis: true odds ratio is not equal to 1\n",
      "95 percent confidence interval:\n",
      " 0.1787964 0.9328469\n",
      "sample estimates:\n",
      "odds ratio \n",
      "   0.42338 \n",
      "\n"
     ]
    },
    {
     "name": "stderr",
     "output_type": "stream",
     "text": [
      "STARD8\n",
      "\n"
     ]
    },
    {
     "name": "stdout",
     "output_type": "stream",
     "text": [
      "                cnv_level\n",
      "hpv_inte         gain loss\n",
      "  integrated       33   77\n",
      "  non-integrated 2391 7802\n",
      "\n",
      "\tFisher's Exact Test for Count Data\n",
      "\n",
      "data:  freq\n",
      "p-value = 0.1137\n",
      "alternative hypothesis: true odds ratio is not equal to 1\n",
      "95 percent confidence interval:\n",
      " 0.8982887 2.1344752\n",
      "sample estimates:\n",
      "odds ratio \n",
      "  1.398409 \n",
      "\n"
     ]
    },
    {
     "name": "stderr",
     "output_type": "stream",
     "text": [
      "TLN2\n",
      "\n"
     ]
    },
    {
     "name": "stdout",
     "output_type": "stream",
     "text": [
      "                cnv_level\n",
      "hpv_inte         gain loss\n",
      "  integrated       34   48\n",
      "  non-integrated 4474 5747\n",
      "\n",
      "\tFisher's Exact Test for Count Data\n",
      "\n",
      "data:  freq\n",
      "p-value = 0.7379\n",
      "alternative hypothesis: true odds ratio is not equal to 1\n",
      "95 percent confidence interval:\n",
      " 0.5675383 1.4443014\n",
      "sample estimates:\n",
      "odds ratio \n",
      "   0.90986 \n",
      "\n"
     ]
    },
    {
     "name": "stderr",
     "output_type": "stream",
     "text": [
      "SLC8A1\n",
      "\n"
     ]
    },
    {
     "name": "stdout",
     "output_type": "stream",
     "text": [
      "                cnv_level\n",
      "hpv_inte         gain loss\n",
      "  integrated        8   67\n",
      "  non-integrated 1964 8264\n",
      "\n",
      "\tFisher's Exact Test for Count Data\n",
      "\n",
      "data:  freq\n",
      "p-value = 0.07541\n",
      "alternative hypothesis: true odds ratio is not equal to 1\n",
      "95 percent confidence interval:\n",
      " 0.2080531 1.0503657\n",
      "sample estimates:\n",
      "odds ratio \n",
      " 0.5024512 \n",
      "\n"
     ]
    },
    {
     "name": "stderr",
     "output_type": "stream",
     "text": [
      "GLUL\n",
      "\n"
     ]
    },
    {
     "name": "stdout",
     "output_type": "stream",
     "text": [
      "                cnv_level\n",
      "hpv_inte         gain loss\n",
      "  integrated      205   62\n",
      "  non-integrated 6284 3752\n",
      "\n",
      "\tFisher's Exact Test for Count Data\n",
      "\n",
      "data:  freq\n",
      "p-value = 1.255e-06\n",
      "alternative hypothesis: true odds ratio is not equal to 1\n",
      "95 percent confidence interval:\n",
      " 1.474540 2.674816\n",
      "sample estimates:\n",
      "odds ratio \n",
      "  1.974068 \n",
      "\n"
     ]
    },
    {
     "name": "stderr",
     "output_type": "stream",
     "text": [
      "PTPN13\n",
      "\n"
     ]
    },
    {
     "name": "stdout",
     "output_type": "stream",
     "text": [
      "                cnv_level\n",
      "hpv_inte         gain loss\n",
      "  integrated       15  251\n",
      "  non-integrated 1871 8166\n",
      "\n",
      "\tFisher's Exact Test for Count Data\n",
      "\n",
      "data:  freq\n",
      "p-value = 1.536e-09\n",
      "alternative hypothesis: true odds ratio is not equal to 1\n",
      "95 percent confidence interval:\n",
      " 0.1434683 0.4399065\n",
      "sample estimates:\n",
      "odds ratio \n",
      " 0.2608474 \n",
      "\n"
     ]
    }
   ],
   "source": [
    "within_res = cal_chi(within_gene_top$genes,hpv_within)"
   ]
  },
  {
   "cell_type": "code",
   "execution_count": 28,
   "id": "c6af2c1e-41c7-4bcf-a102-633a2473ad2c",
   "metadata": {},
   "outputs": [
    {
     "data": {
      "text/html": [
       "<table class=\"dataframe\">\n",
       "<caption>A data.frame: 8 × 4</caption>\n",
       "<thead>\n",
       "\t<tr><th scope=col>genes</th><th scope=col>enrich</th><th scope=col>pvalue</th><th scope=col>ninte</th></tr>\n",
       "\t<tr><th scope=col>&lt;chr&gt;</th><th scope=col>&lt;dbl&gt;</th><th scope=col>&lt;dbl&gt;</th><th scope=col>&lt;int&gt;</th></tr>\n",
       "</thead>\n",
       "<tbody>\n",
       "\t<tr><td>NRG1  </td><td>1.1678654</td><td>7.828465e-01</td><td> 16</td></tr>\n",
       "\t<tr><td>CNBD1 </td><td>4.1216036</td><td>1.765391e-19</td><td>193</td></tr>\n",
       "\t<tr><td>NMNAT2</td><td>0.4233800</td><td>2.158998e-02</td><td> 32</td></tr>\n",
       "\t<tr><td>STARD8</td><td>1.3984086</td><td>1.137040e-01</td><td>110</td></tr>\n",
       "\t<tr><td>TLN2  </td><td>0.9098600</td><td>7.378575e-01</td><td> 82</td></tr>\n",
       "\t<tr><td>SLC8A1</td><td>0.5024512</td><td>7.540947e-02</td><td> 75</td></tr>\n",
       "\t<tr><td>GLUL  </td><td>1.9740682</td><td>1.254776e-06</td><td>267</td></tr>\n",
       "\t<tr><td>PTPN13</td><td>0.2608474</td><td>1.535951e-09</td><td>266</td></tr>\n",
       "</tbody>\n",
       "</table>\n"
      ],
      "text/latex": [
       "A data.frame: 8 × 4\n",
       "\\begin{tabular}{llll}\n",
       " genes & enrich & pvalue & ninte\\\\\n",
       " <chr> & <dbl> & <dbl> & <int>\\\\\n",
       "\\hline\n",
       "\t NRG1   & 1.1678654 & 7.828465e-01 &  16\\\\\n",
       "\t CNBD1  & 4.1216036 & 1.765391e-19 & 193\\\\\n",
       "\t NMNAT2 & 0.4233800 & 2.158998e-02 &  32\\\\\n",
       "\t STARD8 & 1.3984086 & 1.137040e-01 & 110\\\\\n",
       "\t TLN2   & 0.9098600 & 7.378575e-01 &  82\\\\\n",
       "\t SLC8A1 & 0.5024512 & 7.540947e-02 &  75\\\\\n",
       "\t GLUL   & 1.9740682 & 1.254776e-06 & 267\\\\\n",
       "\t PTPN13 & 0.2608474 & 1.535951e-09 & 266\\\\\n",
       "\\end{tabular}\n"
      ],
      "text/markdown": [
       "\n",
       "A data.frame: 8 × 4\n",
       "\n",
       "| genes &lt;chr&gt; | enrich &lt;dbl&gt; | pvalue &lt;dbl&gt; | ninte &lt;int&gt; |\n",
       "|---|---|---|---|\n",
       "| NRG1   | 1.1678654 | 7.828465e-01 |  16 |\n",
       "| CNBD1  | 4.1216036 | 1.765391e-19 | 193 |\n",
       "| NMNAT2 | 0.4233800 | 2.158998e-02 |  32 |\n",
       "| STARD8 | 1.3984086 | 1.137040e-01 | 110 |\n",
       "| TLN2   | 0.9098600 | 7.378575e-01 |  82 |\n",
       "| SLC8A1 | 0.5024512 | 7.540947e-02 |  75 |\n",
       "| GLUL   | 1.9740682 | 1.254776e-06 | 267 |\n",
       "| PTPN13 | 0.2608474 | 1.535951e-09 | 266 |\n",
       "\n"
      ],
      "text/plain": [
       "  genes  enrich    pvalue       ninte\n",
       "1 NRG1   1.1678654 7.828465e-01  16  \n",
       "2 CNBD1  4.1216036 1.765391e-19 193  \n",
       "3 NMNAT2 0.4233800 2.158998e-02  32  \n",
       "4 STARD8 1.3984086 1.137040e-01 110  \n",
       "5 TLN2   0.9098600 7.378575e-01  82  \n",
       "6 SLC8A1 0.5024512 7.540947e-02  75  \n",
       "7 GLUL   1.9740682 1.254776e-06 267  \n",
       "8 PTPN13 0.2608474 1.535951e-09 266  "
      ]
     },
     "metadata": {},
     "output_type": "display_data"
    }
   ],
   "source": [
    "within_res"
   ]
  },
  {
   "cell_type": "code",
   "execution_count": 29,
   "id": "2339ae35-8319-421f-811e-081bfc299bde",
   "metadata": {},
   "outputs": [],
   "source": [
    "gene_loc = read.table('~/HPV/ref/genome/hs/genes.bed',header = FALSE, sep = '\\t')\n",
    "gene_loc = gene_loc[!duplicated(gene_loc$V4),]"
   ]
  },
  {
   "cell_type": "code",
   "execution_count": 30,
   "id": "e4e6a605-13ee-43e6-9350-578216f96cf8",
   "metadata": {},
   "outputs": [],
   "source": [
    "res = rbind(flank_res,within_res)\n",
    "gene_loc = read.table('~/HPV/ref/genome/hs/genes.bed',header = FALSE, sep = '\\t')\n",
    "gene_loc = gene_loc[!duplicated(gene_loc$V4),]\n",
    "res[,c('chr','start','end')] = gene_loc[match(res$genes,gene_loc$V4),c(1,2,3)]\n",
    "res = res[,c('chr','start','end', 'genes', 'enrich', 'pvalue')]\n",
    "res = bt.sort(res)\n",
    "colnames(res) = c('chr','start','end', 'genes', 'enrich', 'pvalue')"
   ]
  },
  {
   "cell_type": "code",
   "execution_count": 31,
   "id": "a9ccd0df-7820-45f6-b92b-38b3ddb5a70c",
   "metadata": {},
   "outputs": [],
   "source": [
    "chr_band = read.table('~/HPV/ref/genome/hs/cytoBand.txt',header = FALSE, sep = '\\t')"
   ]
  },
  {
   "cell_type": "code",
   "execution_count": 32,
   "id": "820bcf4d-a101-49dd-a4a7-ac4e21f2af3a",
   "metadata": {},
   "outputs": [],
   "source": [
    "band = bt.intersect(chr_band,res,wa = TRUE)\n",
    "res$Band = paste0(band$V1,band$V4)\n",
    "res$Band = gsub('chr','',res$Band)\n",
    "saveRDS(res,file = '~/HPV/res/epi/hpv_inte/cnv_geom_point.rds')"
   ]
  },
  {
   "cell_type": "code",
   "execution_count": 33,
   "id": "6c60542f-777d-427b-91f5-65ae8c2f4693",
   "metadata": {},
   "outputs": [
    {
     "data": {
      "image/png": "[encoded data removed]",
      "text/plain": [
       "plot without title"
      ]
     },
     "metadata": {
      "image/png": {
       "height": 168,
       "width": 228
      }
     },
     "output_type": "display_data"
    }
   ],
   "source": [
    "options(repr.plot.width = 3.8, repr.plot.height = 2.8)\n",
    "ggplot(res, aes(x=-log10(pvalue), y=enrich)) +\n",
    "  geom_point(aes(color = Band), size = 1.2) + \n",
    "  scale_x_log10(breaks = trans_breaks(\"log10\", function(x) 10^x), labels = trans_format(\"log10\", math_format(10^.x))) + \n",
    "  labs(x = '-log10(pvalue)', y = 'Odds ratio') + \n",
    "  scale_fill_discrete(name = \"Band\") + \n",
    "  geom_hline(mapping=aes(yintercept=1), color=\"gray\",linetype = 2) +\n",
    "  geom_vline(mapping=aes(xintercept=-log10(0.1)), color=\"gray\",linetype = 2) + \n",
    "  geom_text_repel( \n",
    "    data=res %>% filter(pvalue<=0.1),\n",
    "    aes(label=genes),\n",
    "    size = 3\n",
    "  ) + theme_classic()"
   ]
  },
  {
   "cell_type": "code",
   "execution_count": 34,
   "id": "537a100c-f2a6-4d31-b53f-5459f79d3ae4",
   "metadata": {},
   "outputs": [],
   "source": [
    "cnv_genes = list()\n",
    "gos = list()\n",
    "for (i in 1:nrow(within_res)){\n",
    "    target = within_res[i,'genes']\n",
    "    gene_loc[gene_loc$V4==target,]\n",
    "    loc_sub = gene_loc[gene_loc$V1 == res$chr[res$genes == target],]\n",
    "    index = which(loc_sub$V4==target)\n",
    "    genes = loc_sub$V4[c((index-50):(index+50))]\n",
    "    go <- enrichGO(genes,ont = \"BP\",OrgDb = 'org.Hs.eg.db',keyType = \"SYMBOL\")\n",
    "    cnv_genes[[target]] = genes\n",
    "    gos[[target]] = go\n",
    "}"
   ]
  },
  {
   "cell_type": "code",
   "execution_count": 35,
   "id": "af85a793-f983-4ce7-b8f0-b0fb894fe9e1",
   "metadata": {},
   "outputs": [
    {
     "data": {
      "text/html": [
       "<style>\n",
       ".list-inline {list-style: none; margin:0; padding: 0}\n",
       ".list-inline>li {display: inline-block}\n",
       ".list-inline>li:not(:last-child)::after {content: \"\\00b7\"; padding: 0 .5ex}\n",
       "</style>\n",
       "<ol class=list-inline><li>'AC009902.2'</li><li>'FABP5'</li><li>'AC018616.1'</li><li>'PMP2'</li><li>'FABP9'</li><li>'FABP4'</li><li>'AC023644.1'</li><li>'FABP12'</li><li>'IMPA1'</li><li>'SLC10A5'</li><li>'ZFAND1'</li><li>'CHMP4C'</li><li>'AC132219.1'</li><li>'SNX16'</li><li>'LINC02235'</li><li>'AC060765.2'</li><li>'LINC02839'</li><li>'AC060765.1'</li><li>'AC105031.2'</li><li>'LINC01419'</li><li>'AC015522.1'</li><li>'RALYL'</li><li>'LRRCC1'</li><li>'AC011773.4'</li><li>'E2F5'</li><li>'AC011773.1'</li><li>'RBIS'</li><li>'CA13'</li><li>'AC011773.3'</li><li>'AC011773.2'</li><li>'CA1'</li><li>'CA3'</li><li>'CA3-AS1'</li><li>'CA2'</li><li>'AC084734.1'</li><li>'AC100801.1'</li><li>'LINC02849'</li><li>'AC100801.2'</li><li>'ATP6V0D2'</li><li>'PSKH2'</li><li>'AC023194.3'</li><li>'AC084128.1'</li><li>'SLC7A13'</li><li>'AC103760.1'</li><li>'WWP1'</li><li>'RMDN1'</li><li>'CPNE3'</li><li>'CNGB3'</li><li>'AC090572.3'</li><li>'AC090572.2'</li><li>'CNBD1'</li><li>'AF121898.1'</li><li>'DCAF4L2'</li><li>'AC037450.1'</li><li>'MMP16'</li><li>'AC090578.1'</li><li>'AC090578.2'</li><li>'AC090578.3'</li><li>'AF117829.1'</li><li>'RIPK2'</li><li>'OSGIN2'</li><li>'NBN'</li><li>'DECR1'</li><li>'CALB1'</li><li>'AC004083.1'</li><li>'LINC00534'</li><li>'LINC01030'</li><li>'TMEM64'</li><li>'AC106038.1'</li><li>'NECAB1'</li><li>'AC103770.1'</li><li>'C8orf88'</li><li>'PIP4P2'</li><li>'AC087439.1'</li><li>'AC087439.2'</li><li>'OTUD6B-AS1'</li><li>'OTUD6B'</li><li>'LRRC69'</li><li>'SLC26A7'</li><li>'AC103409.1'</li><li>'RUNX1T1'</li><li>'AF181450.1'</li><li>'AC022695.2'</li><li>'AC022695.3'</li><li>'AC091096.1'</li><li>'AC104211.2'</li><li>'AC104211.4'</li><li>'AC104211.1'</li><li>'AC104211.3'</li><li>'AC117834.2'</li><li>'AC117834.1'</li><li>'TRIQK'</li><li>'C8orf87'</li><li>'LINC00535'</li><li>'AC016885.1'</li><li>'AC016885.2'</li><li>'FAM92A'</li><li>'AC120053.1'</li><li>'AC010834.3'</li><li>'RBM12B'</li><li>'AC010834.1'</li></ol>\n"
      ],
      "text/latex": [
       "\\begin{enumerate*}\n",
       "\\item 'AC009902.2'\n",
       "\\item 'FABP5'\n",
       "\\item 'AC018616.1'\n",
       "\\item 'PMP2'\n",
       "\\item 'FABP9'\n",
       "\\item 'FABP4'\n",
       "\\item 'AC023644.1'\n",
       "\\item 'FABP12'\n",
       "\\item 'IMPA1'\n",
       "\\item 'SLC10A5'\n",
       "\\item 'ZFAND1'\n",
       "\\item 'CHMP4C'\n",
       "\\item 'AC132219.1'\n",
       "\\item 'SNX16'\n",
       "\\item 'LINC02235'\n",
       "\\item 'AC060765.2'\n",
       "\\item 'LINC02839'\n",
       "\\item 'AC060765.1'\n",
       "\\item 'AC105031.2'\n",
       "\\item 'LINC01419'\n",
       "\\item 'AC015522.1'\n",
       "\\item 'RALYL'\n",
       "\\item 'LRRCC1'\n",
       "\\item 'AC011773.4'\n",
       "\\item 'E2F5'\n",
       "\\item 'AC011773.1'\n",
       "\\item 'RBIS'\n",
       "\\item 'CA13'\n",
       "\\item 'AC011773.3'\n",
       "\\item 'AC011773.2'\n",
       "\\item 'CA1'\n",
       "\\item 'CA3'\n",
       "\\item 'CA3-AS1'\n",
       "\\item 'CA2'\n",
       "\\item 'AC084734.1'\n",
       "\\item 'AC100801.1'\n",
       "\\item 'LINC02849'\n",
       "\\item 'AC100801.2'\n",
       "\\item 'ATP6V0D2'\n",
       "\\item 'PSKH2'\n",
       "\\item 'AC023194.3'\n",
       "\\item 'AC084128.1'\n",
       "\\item 'SLC7A13'\n",
       "\\item 'AC103760.1'\n",
       "\\item 'WWP1'\n",
       "\\item 'RMDN1'\n",
       "\\item 'CPNE3'\n",
       "\\item 'CNGB3'\n",
       "\\item 'AC090572.3'\n",
       "\\item 'AC090572.2'\n",
       "\\item 'CNBD1'\n",
       "\\item 'AF121898.1'\n",
       "\\item 'DCAF4L2'\n",
       "\\item 'AC037450.1'\n",
       "\\item 'MMP16'\n",
       "\\item 'AC090578.1'\n",
       "\\item 'AC090578.2'\n",
       "\\item 'AC090578.3'\n",
       "\\item 'AF117829.1'\n",
       "\\item 'RIPK2'\n",
       "\\item 'OSGIN2'\n",
       "\\item 'NBN'\n",
       "\\item 'DECR1'\n",
       "\\item 'CALB1'\n",
       "\\item 'AC004083.1'\n",
       "\\item 'LINC00534'\n",
       "\\item 'LINC01030'\n",
       "\\item 'TMEM64'\n",
       "\\item 'AC106038.1'\n",
       "\\item 'NECAB1'\n",
       "\\item 'AC103770.1'\n",
       "\\item 'C8orf88'\n",
       "\\item 'PIP4P2'\n",
       "\\item 'AC087439.1'\n",
       "\\item 'AC087439.2'\n",
       "\\item 'OTUD6B-AS1'\n",
       "\\item 'OTUD6B'\n",
       "\\item 'LRRC69'\n",
       "\\item 'SLC26A7'\n",
       "\\item 'AC103409.1'\n",
       "\\item 'RUNX1T1'\n",
       "\\item 'AF181450.1'\n",
       "\\item 'AC022695.2'\n",
       "\\item 'AC022695.3'\n",
       "\\item 'AC091096.1'\n",
       "\\item 'AC104211.2'\n",
       "\\item 'AC104211.4'\n",
       "\\item 'AC104211.1'\n",
       "\\item 'AC104211.3'\n",
       "\\item 'AC117834.2'\n",
       "\\item 'AC117834.1'\n",
       "\\item 'TRIQK'\n",
       "\\item 'C8orf87'\n",
       "\\item 'LINC00535'\n",
       "\\item 'AC016885.1'\n",
       "\\item 'AC016885.2'\n",
       "\\item 'FAM92A'\n",
       "\\item 'AC120053.1'\n",
       "\\item 'AC010834.3'\n",
       "\\item 'RBM12B'\n",
       "\\item 'AC010834.1'\n",
       "\\end{enumerate*}\n"
      ],
      "text/markdown": [
       "1. 'AC009902.2'\n",
       "2. 'FABP5'\n",
       "3. 'AC018616.1'\n",
       "4. 'PMP2'\n",
       "5. 'FABP9'\n",
       "6. 'FABP4'\n",
       "7. 'AC023644.1'\n",
       "8. 'FABP12'\n",
       "9. 'IMPA1'\n",
       "10. 'SLC10A5'\n",
       "11. 'ZFAND1'\n",
       "12. 'CHMP4C'\n",
       "13. 'AC132219.1'\n",
       "14. 'SNX16'\n",
       "15. 'LINC02235'\n",
       "16. 'AC060765.2'\n",
       "17. 'LINC02839'\n",
       "18. 'AC060765.1'\n",
       "19. 'AC105031.2'\n",
       "20. 'LINC01419'\n",
       "21. 'AC015522.1'\n",
       "22. 'RALYL'\n",
       "23. 'LRRCC1'\n",
       "24. 'AC011773.4'\n",
       "25. 'E2F5'\n",
       "26. 'AC011773.1'\n",
       "27. 'RBIS'\n",
       "28. 'CA13'\n",
       "29. 'AC011773.3'\n",
       "30. 'AC011773.2'\n",
       "31. 'CA1'\n",
       "32. 'CA3'\n",
       "33. 'CA3-AS1'\n",
       "34. 'CA2'\n",
       "35. 'AC084734.1'\n",
       "36. 'AC100801.1'\n",
       "37. 'LINC02849'\n",
       "38. 'AC100801.2'\n",
       "39. 'ATP6V0D2'\n",
       "40. 'PSKH2'\n",
       "41. 'AC023194.3'\n",
       "42. 'AC084128.1'\n",
       "43. 'SLC7A13'\n",
       "44. 'AC103760.1'\n",
       "45. 'WWP1'\n",
       "46. 'RMDN1'\n",
       "47. 'CPNE3'\n",
       "48. 'CNGB3'\n",
       "49. 'AC090572.3'\n",
       "50. 'AC090572.2'\n",
       "51. 'CNBD1'\n",
       "52. 'AF121898.1'\n",
       "53. 'DCAF4L2'\n",
       "54. 'AC037450.1'\n",
       "55. 'MMP16'\n",
       "56. 'AC090578.1'\n",
       "57. 'AC090578.2'\n",
       "58. 'AC090578.3'\n",
       "59. 'AF117829.1'\n",
       "60. 'RIPK2'\n",
       "61. 'OSGIN2'\n",
       "62. 'NBN'\n",
       "63. 'DECR1'\n",
       "64. 'CALB1'\n",
       "65. 'AC004083.1'\n",
       "66. 'LINC00534'\n",
       "67. 'LINC01030'\n",
       "68. 'TMEM64'\n",
       "69. 'AC106038.1'\n",
       "70. 'NECAB1'\n",
       "71. 'AC103770.1'\n",
       "72. 'C8orf88'\n",
       "73. 'PIP4P2'\n",
       "74. 'AC087439.1'\n",
       "75. 'AC087439.2'\n",
       "76. 'OTUD6B-AS1'\n",
       "77. 'OTUD6B'\n",
       "78. 'LRRC69'\n",
       "79. 'SLC26A7'\n",
       "80. 'AC103409.1'\n",
       "81. 'RUNX1T1'\n",
       "82. 'AF181450.1'\n",
       "83. 'AC022695.2'\n",
       "84. 'AC022695.3'\n",
       "85. 'AC091096.1'\n",
       "86. 'AC104211.2'\n",
       "87. 'AC104211.4'\n",
       "88. 'AC104211.1'\n",
       "89. 'AC104211.3'\n",
       "90. 'AC117834.2'\n",
       "91. 'AC117834.1'\n",
       "92. 'TRIQK'\n",
       "93. 'C8orf87'\n",
       "94. 'LINC00535'\n",
       "95. 'AC016885.1'\n",
       "96. 'AC016885.2'\n",
       "97. 'FAM92A'\n",
       "98. 'AC120053.1'\n",
       "99. 'AC010834.3'\n",
       "100. 'RBM12B'\n",
       "101. 'AC010834.1'\n",
       "\n",
       "\n"
      ],
      "text/plain": [
       "  [1] \"AC009902.2\" \"FABP5\"      \"AC018616.1\" \"PMP2\"       \"FABP9\"     \n",
       "  [6] \"FABP4\"      \"AC023644.1\" \"FABP12\"     \"IMPA1\"      \"SLC10A5\"   \n",
       " [11] \"ZFAND1\"     \"CHMP4C\"     \"AC132219.1\" \"SNX16\"      \"LINC02235\" \n",
       " [16] \"AC060765.2\" \"LINC02839\"  \"AC060765.1\" \"AC105031.2\" \"LINC01419\" \n",
       " [21] \"AC015522.1\" \"RALYL\"      \"LRRCC1\"     \"AC011773.4\" \"E2F5\"      \n",
       " [26] \"AC011773.1\" \"RBIS\"       \"CA13\"       \"AC011773.3\" \"AC011773.2\"\n",
       " [31] \"CA1\"        \"CA3\"        \"CA3-AS1\"    \"CA2\"        \"AC084734.1\"\n",
       " [36] \"AC100801.1\" \"LINC02849\"  \"AC100801.2\" \"ATP6V0D2\"   \"PSKH2\"     \n",
       " [41] \"AC023194.3\" \"AC084128.1\" \"SLC7A13\"    \"AC103760.1\" \"WWP1\"      \n",
       " [46] \"RMDN1\"      \"CPNE3\"      \"CNGB3\"      \"AC090572.3\" \"AC090572.2\"\n",
       " [51] \"CNBD1\"      \"AF121898.1\" \"DCAF4L2\"    \"AC037450.1\" \"MMP16\"     \n",
       " [56] \"AC090578.1\" \"AC090578.2\" \"AC090578.3\" \"AF117829.1\" \"RIPK2\"     \n",
       " [61] \"OSGIN2\"     \"NBN\"        \"DECR1\"      \"CALB1\"      \"AC004083.1\"\n",
       " [66] \"LINC00534\"  \"LINC01030\"  \"TMEM64\"     \"AC106038.1\" \"NECAB1\"    \n",
       " [71] \"AC103770.1\" \"C8orf88\"    \"PIP4P2\"     \"AC087439.1\" \"AC087439.2\"\n",
       " [76] \"OTUD6B-AS1\" \"OTUD6B\"     \"LRRC69\"     \"SLC26A7\"    \"AC103409.1\"\n",
       " [81] \"RUNX1T1\"    \"AF181450.1\" \"AC022695.2\" \"AC022695.3\" \"AC091096.1\"\n",
       " [86] \"AC104211.2\" \"AC104211.4\" \"AC104211.1\" \"AC104211.3\" \"AC117834.2\"\n",
       " [91] \"AC117834.1\" \"TRIQK\"      \"C8orf87\"    \"LINC00535\"  \"AC016885.1\"\n",
       " [96] \"AC016885.2\" \"FAM92A\"     \"AC120053.1\" \"AC010834.3\" \"RBM12B\"    \n",
       "[101] \"AC010834.1\""
      ]
     },
     "metadata": {},
     "output_type": "display_data"
    }
   ],
   "source": [
    "cnv_genes[['CNBD1']]"
   ]
  },
  {
   "cell_type": "code",
   "execution_count": 36,
   "id": "87669f4a-a226-4664-94f7-6b42e7704534",
   "metadata": {},
   "outputs": [
    {
     "data": {
      "text/html": [
       "<table class=\"dataframe\">\n",
       "<caption>A data.frame: 10 × 2</caption>\n",
       "<thead>\n",
       "\t<tr><th></th><th scope=col>Description</th><th scope=col>geneID</th></tr>\n",
       "\t<tr><th></th><th scope=col>&lt;chr&gt;</th><th scope=col>&lt;chr&gt;</th></tr>\n",
       "</thead>\n",
       "<tbody>\n",
       "\t<tr><th scope=row>GO:0015849</th><td>organic acid transport                           </td><td>FABP5/PMP2/FABP9/FABP4/FABP12/SLC10A5/SLC7A13/SLC26A7</td></tr>\n",
       "\t<tr><th scope=row>GO:0006730</th><td>one-carbon metabolic process                     </td><td>CA13/CA1/CA3/CA2                                     </td></tr>\n",
       "\t<tr><th scope=row>GO:0015908</th><td>fatty acid transport                             </td><td>FABP5/PMP2/FABP9/FABP4/FABP12                        </td></tr>\n",
       "\t<tr><th scope=row>GO:0006869</th><td>lipid transport                                  </td><td>FABP5/PMP2/FABP9/FABP4/FABP12/SLC10A5                </td></tr>\n",
       "\t<tr><th scope=row>GO:0010876</th><td>lipid localization                               </td><td>FABP5/PMP2/FABP9/FABP4/FABP12/SLC10A5                </td></tr>\n",
       "\t<tr><th scope=row>GO:0120162</th><td>positive regulation of cold-induced thermogenesis</td><td>FABP5/FABP4/DECR1                                    </td></tr>\n",
       "\t<tr><th scope=row>GO:0070050</th><td>neuron cellular homeostasis                      </td><td>CA2/CALB1                                            </td></tr>\n",
       "\t<tr><th scope=row>GO:0106106</th><td>cold-induced thermogenesis                       </td><td>FABP5/FABP4/DECR1                                    </td></tr>\n",
       "\t<tr><th scope=row>GO:0120161</th><td>regulation of cold-induced thermogenesis         </td><td>FABP5/FABP4/DECR1                                    </td></tr>\n",
       "\t<tr><th scope=row>GO:1990845</th><td>adaptive thermogenesis                           </td><td>FABP5/FABP4/DECR1                                    </td></tr>\n",
       "</tbody>\n",
       "</table>\n"
      ],
      "text/latex": [
       "A data.frame: 10 × 2\n",
       "\\begin{tabular}{r|ll}\n",
       "  & Description & geneID\\\\\n",
       "  & <chr> & <chr>\\\\\n",
       "\\hline\n",
       "\tGO:0015849 & organic acid transport                            & FABP5/PMP2/FABP9/FABP4/FABP12/SLC10A5/SLC7A13/SLC26A7\\\\\n",
       "\tGO:0006730 & one-carbon metabolic process                      & CA13/CA1/CA3/CA2                                     \\\\\n",
       "\tGO:0015908 & fatty acid transport                              & FABP5/PMP2/FABP9/FABP4/FABP12                        \\\\\n",
       "\tGO:0006869 & lipid transport                                   & FABP5/PMP2/FABP9/FABP4/FABP12/SLC10A5                \\\\\n",
       "\tGO:0010876 & lipid localization                                & FABP5/PMP2/FABP9/FABP4/FABP12/SLC10A5                \\\\\n",
       "\tGO:0120162 & positive regulation of cold-induced thermogenesis & FABP5/FABP4/DECR1                                    \\\\\n",
       "\tGO:0070050 & neuron cellular homeostasis                       & CA2/CALB1                                            \\\\\n",
       "\tGO:0106106 & cold-induced thermogenesis                        & FABP5/FABP4/DECR1                                    \\\\\n",
       "\tGO:0120161 & regulation of cold-induced thermogenesis          & FABP5/FABP4/DECR1                                    \\\\\n",
       "\tGO:1990845 & adaptive thermogenesis                            & FABP5/FABP4/DECR1                                    \\\\\n",
       "\\end{tabular}\n"
      ],
      "text/markdown": [
       "\n",
       "A data.frame: 10 × 2\n",
       "\n",
       "| <!--/--> | Description &lt;chr&gt; | geneID &lt;chr&gt; |\n",
       "|---|---|---|\n",
       "| GO:0015849 | organic acid transport                            | FABP5/PMP2/FABP9/FABP4/FABP12/SLC10A5/SLC7A13/SLC26A7 |\n",
       "| GO:0006730 | one-carbon metabolic process                      | CA13/CA1/CA3/CA2                                      |\n",
       "| GO:0015908 | fatty acid transport                              | FABP5/PMP2/FABP9/FABP4/FABP12                         |\n",
       "| GO:0006869 | lipid transport                                   | FABP5/PMP2/FABP9/FABP4/FABP12/SLC10A5                 |\n",
       "| GO:0010876 | lipid localization                                | FABP5/PMP2/FABP9/FABP4/FABP12/SLC10A5                 |\n",
       "| GO:0120162 | positive regulation of cold-induced thermogenesis | FABP5/FABP4/DECR1                                     |\n",
       "| GO:0070050 | neuron cellular homeostasis                       | CA2/CALB1                                             |\n",
       "| GO:0106106 | cold-induced thermogenesis                        | FABP5/FABP4/DECR1                                     |\n",
       "| GO:0120161 | regulation of cold-induced thermogenesis          | FABP5/FABP4/DECR1                                     |\n",
       "| GO:1990845 | adaptive thermogenesis                            | FABP5/FABP4/DECR1                                     |\n",
       "\n"
      ],
      "text/plain": [
       "           Description                                      \n",
       "GO:0015849 organic acid transport                           \n",
       "GO:0006730 one-carbon metabolic process                     \n",
       "GO:0015908 fatty acid transport                             \n",
       "GO:0006869 lipid transport                                  \n",
       "GO:0010876 lipid localization                               \n",
       "GO:0120162 positive regulation of cold-induced thermogenesis\n",
       "GO:0070050 neuron cellular homeostasis                      \n",
       "GO:0106106 cold-induced thermogenesis                       \n",
       "GO:0120161 regulation of cold-induced thermogenesis         \n",
       "GO:1990845 adaptive thermogenesis                           \n",
       "           geneID                                               \n",
       "GO:0015849 FABP5/PMP2/FABP9/FABP4/FABP12/SLC10A5/SLC7A13/SLC26A7\n",
       "GO:0006730 CA13/CA1/CA3/CA2                                     \n",
       "GO:0015908 FABP5/PMP2/FABP9/FABP4/FABP12                        \n",
       "GO:0006869 FABP5/PMP2/FABP9/FABP4/FABP12/SLC10A5                \n",
       "GO:0010876 FABP5/PMP2/FABP9/FABP4/FABP12/SLC10A5                \n",
       "GO:0120162 FABP5/FABP4/DECR1                                    \n",
       "GO:0070050 CA2/CALB1                                            \n",
       "GO:0106106 FABP5/FABP4/DECR1                                    \n",
       "GO:0120161 FABP5/FABP4/DECR1                                    \n",
       "GO:1990845 FABP5/FABP4/DECR1                                    "
      ]
     },
     "metadata": {},
     "output_type": "display_data"
    }
   ],
   "source": [
    "gos[['CNBD1']]@result[1:10,c('Description','geneID')]"
   ]
  },
  {
   "cell_type": "code",
   "execution_count": 37,
   "id": "3c6195b2-a1b2-4220-be5d-cdc87a426562",
   "metadata": {},
   "outputs": [
    {
     "data": {
      "image/png": "[encoded data removed]",
      "text/plain": [
       "plot without title"
      ]
     },
     "metadata": {
      "image/png": {
       "height": 192,
       "width": 360
      }
     },
     "output_type": "display_data"
    }
   ],
   "source": [
    "options(repr.plot.width =6, repr.plot.height = 3.2)\n",
    "dotplot(gos[['CNBD1']])"
   ]
  },
  {
   "cell_type": "code",
   "execution_count": 38,
   "id": "51f39db3-f9c8-47b1-b9e1-10d1b003ebb0",
   "metadata": {},
   "outputs": [],
   "source": [
    "saveRDS(gos[['CNBD1']],file = '~/HPV/res/epi/hpv_inte/inte_go.rds')"
   ]
  },
  {
   "cell_type": "code",
   "execution_count": 39,
   "id": "2cd718db-187a-415b-8c0b-bc3aedecb448",
   "metadata": {},
   "outputs": [
    {
     "data": {
      "text/plain": [
       "\n",
       "Epi_COL17A1   Epi_MKI67   Epi_KRT6C   Epi_ERO1A  Epi_OXPHOS      others \n",
       "0.011775362 0.035087719 0.025023607 0.009493671                         \n",
       "  Epi_MHCII \n",
       "0.004566210 "
      ]
     },
     "metadata": {},
     "output_type": "display_data"
    }
   ],
   "source": [
    "table(epi$curated[str_detect(epi$Hs_gene_within,'CNBD1')])/table(epi$curated)"
   ]
  },
  {
   "cell_type": "code",
   "execution_count": 40,
   "id": "96c5dcb1-8cfa-474c-99b5-37ce5eea3232",
   "metadata": {},
   "outputs": [],
   "source": [
    "res = table(epi$curated[str_detect(epi$Hs_gene_within,'CNBD1')])/table(epi$curated)\n",
    "res = data.frame(ct = names(res),number = as.vector(res))"
   ]
  },
  {
   "cell_type": "code",
   "execution_count": 41,
   "id": "d6b7f8e7-4863-41f8-9112-4986a67be025",
   "metadata": {},
   "outputs": [
    {
     "data": {
      "text/html": [
       "<table class=\"dataframe\">\n",
       "<caption>A data.frame: 7 × 2</caption>\n",
       "<thead>\n",
       "\t<tr><th scope=col>ct</th><th scope=col>number</th></tr>\n",
       "\t<tr><th scope=col>&lt;chr&gt;</th><th scope=col>&lt;dbl&gt;</th></tr>\n",
       "</thead>\n",
       "<tbody>\n",
       "\t<tr><td>Epi_COL17A1</td><td>0.011775362</td></tr>\n",
       "\t<tr><td>Epi_MKI67  </td><td>0.035087719</td></tr>\n",
       "\t<tr><td>Epi_KRT6C  </td><td>0.025023607</td></tr>\n",
       "\t<tr><td>Epi_ERO1A  </td><td>0.009493671</td></tr>\n",
       "\t<tr><td>Epi_OXPHOS </td><td>        NaN</td></tr>\n",
       "\t<tr><td>others     </td><td>        NaN</td></tr>\n",
       "\t<tr><td>Epi_MHCII  </td><td>0.004566210</td></tr>\n",
       "</tbody>\n",
       "</table>\n"
      ],
      "text/latex": [
       "A data.frame: 7 × 2\n",
       "\\begin{tabular}{ll}\n",
       " ct & number\\\\\n",
       " <chr> & <dbl>\\\\\n",
       "\\hline\n",
       "\t Epi\\_COL17A1 & 0.011775362\\\\\n",
       "\t Epi\\_MKI67   & 0.035087719\\\\\n",
       "\t Epi\\_KRT6C   & 0.025023607\\\\\n",
       "\t Epi\\_ERO1A   & 0.009493671\\\\\n",
       "\t Epi\\_OXPHOS  &         NaN\\\\\n",
       "\t others      &         NaN\\\\\n",
       "\t Epi\\_MHCII   & 0.004566210\\\\\n",
       "\\end{tabular}\n"
      ],
      "text/markdown": [
       "\n",
       "A data.frame: 7 × 2\n",
       "\n",
       "| ct &lt;chr&gt; | number &lt;dbl&gt; |\n",
       "|---|---|\n",
       "| Epi_COL17A1 | 0.011775362 |\n",
       "| Epi_MKI67   | 0.035087719 |\n",
       "| Epi_KRT6C   | 0.025023607 |\n",
       "| Epi_ERO1A   | 0.009493671 |\n",
       "| Epi_OXPHOS  |         NaN |\n",
       "| others      |         NaN |\n",
       "| Epi_MHCII   | 0.004566210 |\n",
       "\n"
      ],
      "text/plain": [
       "  ct          number     \n",
       "1 Epi_COL17A1 0.011775362\n",
       "2 Epi_MKI67   0.035087719\n",
       "3 Epi_KRT6C   0.025023607\n",
       "4 Epi_ERO1A   0.009493671\n",
       "5 Epi_OXPHOS          NaN\n",
       "6 others              NaN\n",
       "7 Epi_MHCII   0.004566210"
      ]
     },
     "metadata": {},
     "output_type": "display_data"
    }
   ],
   "source": [
    "res"
   ]
  },
  {
   "cell_type": "code",
   "execution_count": 42,
   "id": "f667e775-0593-401b-8858-f1f5ac740ce4",
   "metadata": {},
   "outputs": [],
   "source": [
    "saveRDS(res,file = '~/HPV/res/epi/hpv_inte/CNBD1_number.rds')"
   ]
  },
  {
   "cell_type": "code",
   "execution_count": 43,
   "id": "c8dfcd63-c517-4027-836a-b54fd27cc6f7",
   "metadata": {},
   "outputs": [
    {
     "data": {
      "image/png": "[encoded data removed]",
      "text/plain": [
       "plot without title"
      ]
     },
     "metadata": {
      "image/png": {
       "height": 192,
       "width": 240
      }
     },
     "output_type": "display_data"
    }
   ],
   "source": [
    "options(repr.plot.width = 4, repr.plot.height = 3.2)\n",
    "DotPlot(epi,features = c('FABP5','FABP9','FABP4','FABP12'),group.by = 'curated',cols = c('white','#ED1C25')) + theme_bw() + labs(x = '',y='') +\n",
    "      theme(\n",
    "      axis.text.x = element_text(family=\"Helvetica\",size=9,colour = \"black\",angle = 90, vjust = 0.5, hjust=1),\n",
    "      axis.text.y = element_text(family=\"Helvetica\",size=9,colour = \"black\"),\n",
    "      strip.text.x = element_text(size = 12, color = \"black\", family=\"Helvetica\"),\n",
    "      strip.background = element_blank())"
   ]
  },
  {
   "cell_type": "markdown",
   "id": "4c892924-c796-4277-8aba-c68de60e8c85",
   "metadata": {
    "tags": []
   },
   "source": [
    "# survival"
   ]
  },
  {
   "cell_type": "code",
   "execution_count": 44,
   "id": "7608e54b-4e00-482f-b857-f0b6ecca9bed",
   "metadata": {},
   "outputs": [
    {
     "name": "stderr",
     "output_type": "stream",
     "text": [
      "\n",
      "Attaching package: ‘data.table’\n",
      "\n",
      "\n",
      "The following objects are masked from ‘package:reshape2’:\n",
      "\n",
      "    dcast, melt\n",
      "\n",
      "\n",
      "The following object is masked from ‘package:purrr’:\n",
      "\n",
      "    transpose\n",
      "\n",
      "\n",
      "The following objects are masked from ‘package:dplyr’:\n",
      "\n",
      "    between, first, last\n",
      "\n",
      "\n",
      "The following object is masked from ‘package:IRanges’:\n",
      "\n",
      "    shift\n",
      "\n",
      "\n",
      "The following objects are masked from ‘package:S4Vectors’:\n",
      "\n",
      "    first, second\n",
      "\n",
      "\n",
      "Loading required package: ggpubr\n",
      "\n",
      "\n",
      "Attaching package: ‘ggpubr’\n",
      "\n",
      "\n",
      "The following object is masked from ‘package:plyr’:\n",
      "\n",
      "    mutate\n",
      "\n",
      "\n",
      "\n",
      "Attaching package: ‘survminer’\n",
      "\n",
      "\n",
      "The following object is masked from ‘package:survival’:\n",
      "\n",
      "    myeloma\n",
      "\n",
      "\n",
      "Loading required package: annotate\n",
      "\n",
      "Loading required package: XML\n",
      "\n",
      "Loading required package: graph\n",
      "\n",
      "\n",
      "Attaching package: ‘graph’\n",
      "\n",
      "\n",
      "The following object is masked from ‘package:XML’:\n",
      "\n",
      "    addNode\n",
      "\n",
      "\n",
      "The following object is masked from ‘package:plyr’:\n",
      "\n",
      "    join\n",
      "\n",
      "\n",
      "The following object is masked from ‘package:stringr’:\n",
      "\n",
      "    boundary\n",
      "\n",
      "\n"
     ]
    }
   ],
   "source": [
    "library(reshape2)\n",
    "library(survival)\n",
    "library(data.table)\n",
    "library(stringr)\n",
    "library(survminer)\n",
    "library(ggsurvfit)\n",
    "library(GSEABase)\n",
    "library(AUCell)"
   ]
  },
  {
   "cell_type": "code",
   "execution_count": 45,
   "id": "672e01ff-13b2-4cdf-8d4d-5d07b33a51d5",
   "metadata": {},
   "outputs": [
    {
     "data": {
      "text/plain": [
       "\n",
       " 01  06  11 \n",
       "303   2   3 "
      ]
     },
     "metadata": {},
     "output_type": "display_data"
    }
   ],
   "source": [
    "expr = fread('~/HPV/data/rna/tcga/RNA',header = T, sep = '\\t')\n",
    "expr = as.data.frame(expr)\n",
    "rownames(expr) = expr[,1]\n",
    "expr = expr[,-1]\n",
    "\n",
    "table(unlist(lapply(colnames(expr), function(x){\n",
    "    unlist(str_split(x,'-'))[4]\n",
    "})))\n",
    "expr = expr[,str_which(colnames(expr),'-01')]"
   ]
  },
  {
   "cell_type": "code",
   "execution_count": 46,
   "id": "6775bd78-6be2-4c5d-b13e-62a4a1682436",
   "metadata": {},
   "outputs": [],
   "source": [
    "squamous = read.table('~/HPV/data/rna/tcga/squamous_patient.tsv',header = TRUE,sep = '\\t')\n",
    "survive = read.table('~/HPV/data/rna//tcga//Survival',header = TRUE,sep = '\\t')\n",
    "survive = survive[str_which(survive$sample,'-01'),]"
   ]
  },
  {
   "cell_type": "code",
   "execution_count": 47,
   "id": "6de95038-8ca0-4520-8923-afcc759a5e71",
   "metadata": {},
   "outputs": [],
   "source": [
    "patient = list(unique(squamous$Case.ID), gsub('-01','',colnames(expr),survive$X_PATIENT)) %>% purrr::reduce(intersect)\n",
    "expr = expr[,which(gsub('-01','',colnames(expr)) %in% patient)]\n",
    "survive = survive[survive$X_PATIENT %in% patient,]"
   ]
  },
  {
   "cell_type": "code",
   "execution_count": 48,
   "id": "5e2c0105-b85e-4eab-9162-504be82b7118",
   "metadata": {},
   "outputs": [],
   "source": [
    "colnames(expr) = gsub('-01','',colnames(expr))\n",
    "expr = expr[,patient]\n",
    "rownames(survive) = survive$X_PATIENT\n",
    "survive = survive[patient,]"
   ]
  },
  {
   "cell_type": "code",
   "execution_count": 49,
   "id": "3bfc86ec-7d27-4802-82ba-16ec285489ea",
   "metadata": {},
   "outputs": [],
   "source": [
    "survive$sig = colMeans(expr[c('FABP4','FABP5','FABP12','FABP9'),])"
   ]
  },
  {
   "cell_type": "code",
   "execution_count": 50,
   "id": "910a54c2-4d85-4f79-a7da-2e1bc541c090",
   "metadata": {},
   "outputs": [
    {
     "data": {
      "text/plain": [
       "$sig\n"
      ]
     },
     "metadata": {},
     "output_type": "display_data"
    },
    {
     "data": {
      "image/png": "[encoded data removed]",
      "text/plain": [
       "plot without title"
      ]
     },
     "metadata": {
      "image/png": {
       "height": 240,
       "width": 300
      }
     },
     "output_type": "display_data"
    }
   ],
   "source": [
    "res.cut <- surv_cutpoint(survive, time = \"OS.time\", event = \"OS\",\n",
    "                         variables = c(\"sig\") \n",
    "                         )\n",
    "options(repr.plot.width = 5, repr.plot.height = 4)\n",
    "plot(res.cut,'sig')"
   ]
  },
  {
   "cell_type": "code",
   "execution_count": 51,
   "id": "f0493b4c-48e4-48ab-8ce7-13c357449293",
   "metadata": {},
   "outputs": [],
   "source": [
    "sur = function(survive){\n",
    "    p = survfit2(Surv(OS.time,OS) ~ signature, data = survive[survive$signature!='others',]) %>% \n",
    "      ggsurvfit() + \n",
    "        add_risktable(risktable_stats = 'n.risk', theme = theme_test()+\n",
    "                      theme(axis.title = element_blank(),title = element_blank(),\n",
    "                            axis.text.x = element_blank(),\n",
    "                            axis.ticks.x=element_blank(),\n",
    "                            axis.text.y = element_text(color=\"black\",size=10)),\n",
    "                    combine_groups=F,risktable_height = 0.23) +\n",
    "        annotate(geom = \"text\", x = 0, y = 0.2, label = paste0('P = ',p.value) ,hjust = 0, vjust = 1) + \n",
    "        scale_x_continuous(breaks = seq(0,6000,1000)) + \n",
    "        theme_classic() + \n",
    "        theme(legend.position = c(0.8,0.8),axis.title.x = element_text(size = 13),axis.title.y = element_text(size = 13),\n",
    "              axis.text.x = element_text(size = 12),\n",
    "              axis.text.y = element_text(size = 12),\n",
    "              legend.text = element_text(size = 11),\n",
    "            ) + \n",
    "        scale_color_manual(values = colors,\n",
    "                            breaks = c('High', 'Low'),\n",
    "                            labels = c('High', 'Low'))\n",
    "    return(p)\n",
    "}"
   ]
  },
  {
   "cell_type": "code",
   "execution_count": 52,
   "id": "5082c76b-58a9-4b2e-981d-303ee18274b0",
   "metadata": {},
   "outputs": [
    {
     "data": {
      "image/png": "[encoded data removed]",
      "text/plain": [
       "plot without title"
      ]
     },
     "metadata": {
      "image/png": {
       "height": 240,
       "width": 270
      }
     },
     "output_type": "display_data"
    }
   ],
   "source": [
    "survive$signature = c('others')\n",
    "survive$signature[survive$sig >= 5.49] = 'High'\n",
    "survive$signature[survive$sig < 5.49] = 'Low'\n",
    "colors = c(\"#F8766D\", \"#22C8CC\")\n",
    "names(colors) = c('High', 'Low')\n",
    "res = survdiff(Surv(OS.time,OS) ~ signature, data = survive[survive$signature!='others',])\n",
    "p.value <- round(1 - pchisq(res$chisq, length(res$n) -1),digits = 2)\n",
    "#plot\n",
    "options(repr.plot.width = 4.5, repr.plot.height = 4)\n",
    "sur(survive)"
   ]
  },
  {
   "cell_type": "code",
   "execution_count": 53,
   "id": "cb5d475f-c9f7-4a0a-8e01-a82654822b28",
   "metadata": {},
   "outputs": [],
   "source": [
    "saveRDS(survive,file = '~/HPV/res/epi/hpv_inte/survive.rds')"
   ]
  },
  {
   "cell_type": "code",
   "execution_count": 54,
   "id": "e9796c87-1256-4df3-b333-ac4ba050c4db",
   "metadata": {},
   "outputs": [
    {
     "data": {
      "text/html": [
       "0"
      ],
      "text/latex": [
       "0"
      ],
      "text/markdown": [
       "0"
      ],
      "text/plain": [
       "[1] 0"
      ]
     },
     "metadata": {},
     "output_type": "display_data"
    }
   ],
   "source": [
    "p.value"
   ]
  },
  {
   "cell_type": "code",
   "execution_count": 1,
   "id": "9597a111-310b-4b65-aa45-f703aad750d2",
   "metadata": {},
   "outputs": [],
   "source": [
    "rds = readRDS('~/HPV/res/epi/hpv_inte/inte_go.rds')"
   ]
  },
  {
   "cell_type": "code",
   "execution_count": 4,
   "id": "26860325-c4af-42d0-a37e-e56df46cc925",
   "metadata": {},
   "outputs": [
    {
     "data": {
      "text/html": [
       "<table class=\"dataframe\">\n",
       "<caption>A data.frame: 768 × 9</caption>\n",
       "<thead>\n",
       "\t<tr><th></th><th scope=col>ID</th><th scope=col>Description</th><th scope=col>GeneRatio</th><th scope=col>BgRatio</th><th scope=col>pvalue</th><th scope=col>p.adjust</th><th scope=col>qvalue</th><th scope=col>geneID</th><th scope=col>Count</th></tr>\n",
       "\t<tr><th></th><th scope=col>&lt;chr&gt;</th><th scope=col>&lt;chr&gt;</th><th scope=col>&lt;chr&gt;</th><th scope=col>&lt;chr&gt;</th><th scope=col>&lt;dbl&gt;</th><th scope=col>&lt;dbl&gt;</th><th scope=col>&lt;dbl&gt;</th><th scope=col>&lt;chr&gt;</th><th scope=col>&lt;int&gt;</th></tr>\n",
       "</thead>\n",
       "<tbody>\n",
       "\t<tr><th scope=row>GO:0015849</th><td>GO:0015849</td><td>organic acid transport                                      </td><td>8/39</td><td>324/18903</td><td>2.647148e-07</td><td>0.0002033010</td><td>0.0001761050</td><td>FABP5/PMP2/FABP9/FABP4/FABP12/SLC10A5/SLC7A13/SLC26A7</td><td>8</td></tr>\n",
       "\t<tr><th scope=row>GO:0006730</th><td>GO:0006730</td><td>one-carbon metabolic process                                </td><td>4/39</td><td>39/18903 </td><td>1.207754e-06</td><td>0.0004637777</td><td>0.0004017372</td><td>CA13/CA1/CA3/CA2                                     </td><td>4</td></tr>\n",
       "\t<tr><th scope=row>GO:0015908</th><td>GO:0015908</td><td>fatty acid transport                                        </td><td>5/39</td><td>101/18903</td><td>1.964306e-06</td><td>0.0005028622</td><td>0.0004355934</td><td>FABP5/PMP2/FABP9/FABP4/FABP12                        </td><td>5</td></tr>\n",
       "\t<tr><th scope=row>GO:0006869</th><td>GO:0006869</td><td>lipid transport                                             </td><td>6/39</td><td>433/18903</td><td>2.398692e-04</td><td>0.0460548949</td><td>0.0398940428</td><td>FABP5/PMP2/FABP9/FABP4/FABP12/SLC10A5                </td><td>6</td></tr>\n",
       "\t<tr><th scope=row>GO:0010876</th><td>GO:0010876</td><td>lipid localization                                          </td><td>6/39</td><td>483/18903</td><td>4.301250e-04</td><td>0.0660671986</td><td>0.0572292619</td><td>FABP5/PMP2/FABP9/FABP4/FABP12/SLC10A5                </td><td>6</td></tr>\n",
       "\t<tr><th scope=row>GO:0120162</th><td>GO:0120162</td><td>positive regulation of cold-induced thermogenesis           </td><td>3/39</td><td>98/18903 </td><td>1.078484e-03</td><td>0.1380459176</td><td>0.1195792488</td><td>FABP5/FABP4/DECR1                                    </td><td>3</td></tr>\n",
       "\t<tr><th scope=row>GO:0070050</th><td>GO:0070050</td><td>neuron cellular homeostasis                                 </td><td>2/39</td><td>41/18903 </td><td>3.232640e-03</td><td>0.2582659782</td><td>0.2237172399</td><td>CA2/CALB1                                            </td><td>2</td></tr>\n",
       "\t<tr><th scope=row>GO:0106106</th><td>GO:0106106</td><td>cold-induced thermogenesis                                  </td><td>3/39</td><td>147/18903</td><td>3.430543e-03</td><td>0.2582659782</td><td>0.2237172399</td><td>FABP5/FABP4/DECR1                                    </td><td>3</td></tr>\n",
       "\t<tr><th scope=row>GO:0120161</th><td>GO:0120161</td><td>regulation of cold-induced thermogenesis                    </td><td>3/39</td><td>147/18903</td><td>3.430543e-03</td><td>0.2582659782</td><td>0.2237172399</td><td>FABP5/FABP4/DECR1                                    </td><td>3</td></tr>\n",
       "\t<tr><th scope=row>GO:1990845</th><td>GO:1990845</td><td>adaptive thermogenesis                                      </td><td>3/39</td><td>160/18903</td><td>4.350070e-03</td><td>0.2582659782</td><td>0.2237172399</td><td>FABP5/FABP4/DECR1                                    </td><td>3</td></tr>\n",
       "\t<tr><th scope=row>GO:0007034</th><td>GO:0007034</td><td>vacuolar transport                                          </td><td>3/39</td><td>162/18903</td><td>4.503522e-03</td><td>0.2582659782</td><td>0.2237172399</td><td>CHMP4C/SNX16/ATP6V0D2                                </td><td>3</td></tr>\n",
       "\t<tr><th scope=row>GO:0051452</th><td>GO:0051452</td><td>intracellular pH reduction                                  </td><td>2/39</td><td>52/18903 </td><td>5.153269e-03</td><td>0.2582659782</td><td>0.2237172399</td><td>CA2/ATP6V0D2                                         </td><td>2</td></tr>\n",
       "\t<tr><th scope=row>GO:0051480</th><td>GO:0051480</td><td>regulation of cytosolic calcium ion concentration           </td><td>2/39</td><td>52/18903 </td><td>5.153269e-03</td><td>0.2582659782</td><td>0.2237172399</td><td>CALB1/TMEM64                                         </td><td>2</td></tr>\n",
       "\t<tr><th scope=row>GO:0001659</th><td>GO:0001659</td><td>temperature homeostasis                                     </td><td>3/39</td><td>178/18903</td><td>5.850027e-03</td><td>0.2582659782</td><td>0.2237172399</td><td>FABP5/FABP4/DECR1                                    </td><td>3</td></tr>\n",
       "\t<tr><th scope=row>GO:0072348</th><td>GO:0072348</td><td>sulfur compound transport                                   </td><td>2/39</td><td>56/18903 </td><td>5.953962e-03</td><td>0.2582659782</td><td>0.2237172399</td><td>SLC7A13/SLC26A7                                      </td><td>2</td></tr>\n",
       "\t<tr><th scope=row>GO:0007080</th><td>GO:0007080</td><td>mitotic metaphase plate congression                         </td><td>2/39</td><td>57/18903 </td><td>6.162472e-03</td><td>0.2582659782</td><td>0.2237172399</td><td>CHMP4C/RMDN1                                         </td><td>2</td></tr>\n",
       "\t<tr><th scope=row>GO:0010972</th><td>GO:0010972</td><td>negative regulation of G2/M transition of mitotic cell cycle</td><td>2/39</td><td>64/18903 </td><td>7.713856e-03</td><td>0.2582659782</td><td>0.2237172399</td><td>CHMP4C/NBN                                           </td><td>2</td></tr>\n",
       "\t<tr><th scope=row>GO:1902750</th><td>GO:1902750</td><td>negative regulation of cell cycle G2/M phase transition     </td><td>2/39</td><td>66/18903 </td><td>8.186211e-03</td><td>0.2582659782</td><td>0.2237172399</td><td>CHMP4C/NBN                                           </td><td>2</td></tr>\n",
       "\t<tr><th scope=row>GO:0015909</th><td>GO:0015909</td><td>long-chain fatty acid transport                             </td><td>2/39</td><td>67/18903 </td><td>8.427171e-03</td><td>0.2582659782</td><td>0.2237172399</td><td>FABP5/FABP4                                          </td><td>2</td></tr>\n",
       "\t<tr><th scope=row>GO:0051310</th><td>GO:0051310</td><td>metaphase plate congression                                 </td><td>2/39</td><td>71/18903 </td><td>9.422582e-03</td><td>0.2582659782</td><td>0.2237172399</td><td>CHMP4C/RMDN1                                         </td><td>2</td></tr>\n",
       "\t<tr><th scope=row>GO:0008333</th><td>GO:0008333</td><td>endosome to lysosome transport                              </td><td>2/39</td><td>73/18903 </td><td>9.939042e-03</td><td>0.2582659782</td><td>0.2237172399</td><td>CHMP4C/SNX16                                         </td><td>2</td></tr>\n",
       "\t<tr><th scope=row>GO:0051303</th><td>GO:0051303</td><td>establishment of chromosome localization                    </td><td>2/39</td><td>82/18903 </td><td>1.241458e-02</td><td>0.2582659782</td><td>0.2237172399</td><td>CHMP4C/RMDN1                                         </td><td>2</td></tr>\n",
       "\t<tr><th scope=row>GO:0051453</th><td>GO:0051453</td><td>regulation of intracellular pH                              </td><td>2/39</td><td>85/18903 </td><td>1.329375e-02</td><td>0.2582659782</td><td>0.2237172399</td><td>CA2/ATP6V0D2                                         </td><td>2</td></tr>\n",
       "\t<tr><th scope=row>GO:0045444</th><td>GO:0045444</td><td>fat cell differentiation                                    </td><td>3/39</td><td>244/18903</td><td>1.379051e-02</td><td>0.2582659782</td><td>0.2237172399</td><td>FABP4/TMEM64/RUNX1T1                                 </td><td>3</td></tr>\n",
       "\t<tr><th scope=row>GO:0050000</th><td>GO:0050000</td><td>chromosome localization                                     </td><td>2/39</td><td>89/18903 </td><td>1.450700e-02</td><td>0.2582659782</td><td>0.2237172399</td><td>CHMP4C/RMDN1                                         </td><td>2</td></tr>\n",
       "\t<tr><th scope=row>GO:0030641</th><td>GO:0030641</td><td>regulation of cellular pH                                   </td><td>2/39</td><td>90/18903 </td><td>1.481756e-02</td><td>0.2582659782</td><td>0.2237172399</td><td>CA2/ATP6V0D2                                         </td><td>2</td></tr>\n",
       "\t<tr><th scope=row>GO:0006835</th><td>GO:0006835</td><td>dicarboxylic acid transport                                 </td><td>2/39</td><td>93/18903 </td><td>1.576640e-02</td><td>0.2582659782</td><td>0.2237172399</td><td>SLC7A13/SLC26A7                                      </td><td>2</td></tr>\n",
       "\t<tr><th scope=row>GO:0006885</th><td>GO:0006885</td><td>regulation of pH                                            </td><td>2/39</td><td>99/18903 </td><td>1.774029e-02</td><td>0.2582659782</td><td>0.2237172399</td><td>CA2/ATP6V0D2                                         </td><td>2</td></tr>\n",
       "\t<tr><th scope=row>GO:0010389</th><td>GO:0010389</td><td>regulation of G2/M transition of mitotic cell cycle         </td><td>2/39</td><td>99/18903 </td><td>1.774029e-02</td><td>0.2582659782</td><td>0.2237172399</td><td>CHMP4C/NBN                                           </td><td>2</td></tr>\n",
       "\t<tr><th scope=row>GO:0030003</th><td>GO:0030003</td><td>cellular cation homeostasis                                 </td><td>4/39</td><td>499/18903</td><td>1.902800e-02</td><td>0.2582659782</td><td>0.2237172399</td><td>CA2/ATP6V0D2/CALB1/TMEM64                            </td><td>4</td></tr>\n",
       "\t<tr><th scope=row>⋮</th><td>⋮</td><td>⋮</td><td>⋮</td><td>⋮</td><td>⋮</td><td>⋮</td><td>⋮</td><td>⋮</td><td>⋮</td></tr>\n",
       "\t<tr><th scope=row>GO:0001558</th><td>GO:0001558</td><td>regulation of cell growth                                          </td><td>1/39</td><td>422/18903</td><td>0.5858046</td><td>0.6087928</td><td>0.5273534</td><td>OSGIN2 </td><td>1</td></tr>\n",
       "\t<tr><th scope=row>GO:0052548</th><td>GO:0052548</td><td>regulation of endopeptidase activity                               </td><td>1/39</td><td>428/18903</td><td>0.5910221</td><td>0.6133851</td><td>0.5313314</td><td>RIPK2  </td><td>1</td></tr>\n",
       "\t<tr><th scope=row>GO:0031331</th><td>GO:0031331</td><td>positive regulation of cellular catabolic process                  </td><td>1/39</td><td>429/18903</td><td>0.5918854</td><td>0.6134521</td><td>0.5313894</td><td>RIPK2  </td><td>1</td></tr>\n",
       "\t<tr><th scope=row>GO:0022412</th><td>GO:0022412</td><td>cellular process involved in reproduction in multicellular organism</td><td>1/39</td><td>430/18903</td><td>0.5927470</td><td>0.6135171</td><td>0.5314457</td><td>FABP9  </td><td>1</td></tr>\n",
       "\t<tr><th scope=row>GO:0006979</th><td>GO:0006979</td><td>response to oxidative stress                                       </td><td>1/39</td><td>434/18903</td><td>0.5961755</td><td>0.6162353</td><td>0.5338003</td><td>CA3    </td><td>1</td></tr>\n",
       "\t<tr><th scope=row>GO:0045936</th><td>GO:0045936</td><td>negative regulation of phosphate metabolic process                 </td><td>1/39</td><td>440/18903</td><td>0.6012657</td><td>0.6206614</td><td>0.5376343</td><td>FABP4  </td><td>1</td></tr>\n",
       "\t<tr><th scope=row>GO:0010563</th><td>GO:0010563</td><td>negative regulation of phosphorus metabolic process                </td><td>1/39</td><td>441/18903</td><td>0.6021080</td><td>0.6206965</td><td>0.5376647</td><td>FABP4  </td><td>1</td></tr>\n",
       "\t<tr><th scope=row>GO:0042060</th><td>GO:0042060</td><td>wound healing                                                      </td><td>1/39</td><td>442/18903</td><td>0.6029485</td><td>0.6207298</td><td>0.5376936</td><td>CHMP4C </td><td>1</td></tr>\n",
       "\t<tr><th scope=row>GO:0048568</th><td>GO:0048568</td><td>embryonic organ development                                        </td><td>1/39</td><td>449/18903</td><td>0.6087839</td><td>0.6242413</td><td>0.5407354</td><td>MMP16  </td><td>1</td></tr>\n",
       "\t<tr><th scope=row>GO:0072594</th><td>GO:0072594</td><td>establishment of protein localization to organelle                 </td><td>1/39</td><td>449/18903</td><td>0.6087839</td><td>0.6242413</td><td>0.5407354</td><td>SNX16  </td><td>1</td></tr>\n",
       "\t<tr><th scope=row>GO:0002696</th><td>GO:0002696</td><td>positive regulation of leukocyte activation                        </td><td>1/39</td><td>450/18903</td><td>0.6096107</td><td>0.6242413</td><td>0.5407354</td><td>RIPK2  </td><td>1</td></tr>\n",
       "\t<tr><th scope=row>GO:0043161</th><td>GO:0043161</td><td>proteasome-mediated ubiquitin-dependent protein catabolic process  </td><td>1/39</td><td>450/18903</td><td>0.6096107</td><td>0.6242413</td><td>0.5407354</td><td>WWP1   </td><td>1</td></tr>\n",
       "\t<tr><th scope=row>GO:1903829</th><td>GO:1903829</td><td>positive regulation of protein localization                        </td><td>1/39</td><td>451/18903</td><td>0.6104358</td><td>0.6242539</td><td>0.5407462</td><td>ZFAND1 </td><td>1</td></tr>\n",
       "\t<tr><th scope=row>GO:0051090</th><td>GO:0051090</td><td>regulation of DNA-binding transcription factor activity            </td><td>1/39</td><td>454/18903</td><td>0.6129008</td><td>0.6259413</td><td>0.5422079</td><td>RIPK2  </td><td>1</td></tr>\n",
       "\t<tr><th scope=row>GO:0016055</th><td>GO:0016055</td><td>Wnt signaling pathway                                              </td><td>1/39</td><td>456/18903</td><td>0.6145357</td><td>0.6267775</td><td>0.5429323</td><td>TMEM64 </td><td>1</td></tr>\n",
       "\t<tr><th scope=row>GO:0198738</th><td>GO:0198738</td><td>cell-cell signaling by wnt                                         </td><td>1/39</td><td>458/18903</td><td>0.6161639</td><td>0.6275989</td><td>0.5436438</td><td>TMEM64 </td><td>1</td></tr>\n",
       "\t<tr><th scope=row>GO:0052547</th><td>GO:0052547</td><td>regulation of peptidase activity                                   </td><td>1/39</td><td>459/18903</td><td>0.6169755</td><td>0.6275989</td><td>0.5436438</td><td>RIPK2  </td><td>1</td></tr>\n",
       "\t<tr><th scope=row>GO:0002443</th><td>GO:0002443</td><td>leukocyte mediated immunity                                        </td><td>1/39</td><td>463/18903</td><td>0.6202052</td><td>0.6300497</td><td>0.5457667</td><td>NBN    </td><td>1</td></tr>\n",
       "\t<tr><th scope=row>GO:0050867</th><td>GO:0050867</td><td>positive regulation of cell activation                             </td><td>1/39</td><td>467/18903</td><td>0.6234082</td><td>0.6324670</td><td>0.5478607</td><td>RIPK2  </td><td>1</td></tr>\n",
       "\t<tr><th scope=row>GO:0008380</th><td>GO:0008380</td><td>RNA splicing                                                       </td><td>1/39</td><td>469/18903</td><td>0.6249999</td><td>0.6332453</td><td>0.5485348</td><td>RBM12B </td><td>1</td></tr>\n",
       "\t<tr><th scope=row>GO:1903131</th><td>GO:1903131</td><td>mononuclear cell differentiation                                   </td><td>1/39</td><td>473/18903</td><td>0.6281636</td><td>0.6356122</td><td>0.5505851</td><td>RIPK2  </td><td>1</td></tr>\n",
       "\t<tr><th scope=row>GO:0045785</th><td>GO:0045785</td><td>positive regulation of cell adhesion                               </td><td>1/39</td><td>484/18903</td><td>0.6367302</td><td>0.6432927</td><td>0.5572382</td><td>RIPK2  </td><td>1</td></tr>\n",
       "\t<tr><th scope=row>GO:0001819</th><td>GO:0001819</td><td>positive regulation of cytokine production                         </td><td>1/39</td><td>486/18903</td><td>0.6382670</td><td>0.6432927</td><td>0.5572382</td><td>RIPK2  </td><td>1</td></tr>\n",
       "\t<tr><th scope=row>GO:0006417</th><td>GO:0006417</td><td>regulation of translation                                          </td><td>1/39</td><td>486/18903</td><td>0.6382670</td><td>0.6432927</td><td>0.5572382</td><td>C8orf88</td><td>1</td></tr>\n",
       "\t<tr><th scope=row>GO:0022613</th><td>GO:0022613</td><td>ribonucleoprotein complex biogenesis                               </td><td>1/39</td><td>489/18903</td><td>0.6405603</td><td>0.6446793</td><td>0.5584393</td><td>RBIS   </td><td>1</td></tr>\n",
       "\t<tr><th scope=row>GO:0022407</th><td>GO:0022407</td><td>regulation of cell-cell adhesion                                   </td><td>1/39</td><td>490/18903</td><td>0.6413216</td><td>0.6446793</td><td>0.5584393</td><td>RIPK2  </td><td>1</td></tr>\n",
       "\t<tr><th scope=row>GO:0016049</th><td>GO:0016049</td><td>cell growth                                                        </td><td>1/39</td><td>493/18903</td><td>0.6435960</td><td>0.6458563</td><td>0.5594589</td><td>OSGIN2 </td><td>1</td></tr>\n",
       "\t<tr><th scope=row>GO:0019221</th><td>GO:0019221</td><td>cytokine-mediated signaling pathway                                </td><td>1/39</td><td>496/18903</td><td>0.6458563</td><td>0.6458563</td><td>0.5594589</td><td>RIPK2  </td><td>1</td></tr>\n",
       "\t<tr><th scope=row>GO:0033674</th><td>GO:0033674</td><td>positive regulation of kinase activity                             </td><td>1/39</td><td>496/18903</td><td>0.6458563</td><td>0.6458563</td><td>0.5594589</td><td>NBN    </td><td>1</td></tr>\n",
       "\t<tr><th scope=row>GO:0043410</th><td>GO:0043410</td><td>positive regulation of MAPK cascade                                </td><td>1/39</td><td>496/18903</td><td>0.6458563</td><td>0.6458563</td><td>0.5594589</td><td>RIPK2  </td><td>1</td></tr>\n",
       "</tbody>\n",
       "</table>\n"
      ],
      "text/latex": [
       "A data.frame: 768 × 9\n",
       "\\begin{tabular}{r|lllllllll}\n",
       "  & ID & Description & GeneRatio & BgRatio & pvalue & p.adjust & qvalue & geneID & Count\\\\\n",
       "  & <chr> & <chr> & <chr> & <chr> & <dbl> & <dbl> & <dbl> & <chr> & <int>\\\\\n",
       "\\hline\n",
       "\tGO:0015849 & GO:0015849 & organic acid transport                                       & 8/39 & 324/18903 & 2.647148e-07 & 0.0002033010 & 0.0001761050 & FABP5/PMP2/FABP9/FABP4/FABP12/SLC10A5/SLC7A13/SLC26A7 & 8\\\\\n",
       "\tGO:0006730 & GO:0006730 & one-carbon metabolic process                                 & 4/39 & 39/18903  & 1.207754e-06 & 0.0004637777 & 0.0004017372 & CA13/CA1/CA3/CA2                                      & 4\\\\\n",
       "\tGO:0015908 & GO:0015908 & fatty acid transport                                         & 5/39 & 101/18903 & 1.964306e-06 & 0.0005028622 & 0.0004355934 & FABP5/PMP2/FABP9/FABP4/FABP12                         & 5\\\\\n",
       "\tGO:0006869 & GO:0006869 & lipid transport                                              & 6/39 & 433/18903 & 2.398692e-04 & 0.0460548949 & 0.0398940428 & FABP5/PMP2/FABP9/FABP4/FABP12/SLC10A5                 & 6\\\\\n",
       "\tGO:0010876 & GO:0010876 & lipid localization                                           & 6/39 & 483/18903 & 4.301250e-04 & 0.0660671986 & 0.0572292619 & FABP5/PMP2/FABP9/FABP4/FABP12/SLC10A5                 & 6\\\\\n",
       "\tGO:0120162 & GO:0120162 & positive regulation of cold-induced thermogenesis            & 3/39 & 98/18903  & 1.078484e-03 & 0.1380459176 & 0.1195792488 & FABP5/FABP4/DECR1                                     & 3\\\\\n",
       "\tGO:0070050 & GO:0070050 & neuron cellular homeostasis                                  & 2/39 & 41/18903  & 3.232640e-03 & 0.2582659782 & 0.2237172399 & CA2/CALB1                                             & 2\\\\\n",
       "\tGO:0106106 & GO:0106106 & cold-induced thermogenesis                                   & 3/39 & 147/18903 & 3.430543e-03 & 0.2582659782 & 0.2237172399 & FABP5/FABP4/DECR1                                     & 3\\\\\n",
       "\tGO:0120161 & GO:0120161 & regulation of cold-induced thermogenesis                     & 3/39 & 147/18903 & 3.430543e-03 & 0.2582659782 & 0.2237172399 & FABP5/FABP4/DECR1                                     & 3\\\\\n",
       "\tGO:1990845 & GO:1990845 & adaptive thermogenesis                                       & 3/39 & 160/18903 & 4.350070e-03 & 0.2582659782 & 0.2237172399 & FABP5/FABP4/DECR1                                     & 3\\\\\n",
       "\tGO:0007034 & GO:0007034 & vacuolar transport                                           & 3/39 & 162/18903 & 4.503522e-03 & 0.2582659782 & 0.2237172399 & CHMP4C/SNX16/ATP6V0D2                                 & 3\\\\\n",
       "\tGO:0051452 & GO:0051452 & intracellular pH reduction                                   & 2/39 & 52/18903  & 5.153269e-03 & 0.2582659782 & 0.2237172399 & CA2/ATP6V0D2                                          & 2\\\\\n",
       "\tGO:0051480 & GO:0051480 & regulation of cytosolic calcium ion concentration            & 2/39 & 52/18903  & 5.153269e-03 & 0.2582659782 & 0.2237172399 & CALB1/TMEM64                                          & 2\\\\\n",
       "\tGO:0001659 & GO:0001659 & temperature homeostasis                                      & 3/39 & 178/18903 & 5.850027e-03 & 0.2582659782 & 0.2237172399 & FABP5/FABP4/DECR1                                     & 3\\\\\n",
       "\tGO:0072348 & GO:0072348 & sulfur compound transport                                    & 2/39 & 56/18903  & 5.953962e-03 & 0.2582659782 & 0.2237172399 & SLC7A13/SLC26A7                                       & 2\\\\\n",
       "\tGO:0007080 & GO:0007080 & mitotic metaphase plate congression                          & 2/39 & 57/18903  & 6.162472e-03 & 0.2582659782 & 0.2237172399 & CHMP4C/RMDN1                                          & 2\\\\\n",
       "\tGO:0010972 & GO:0010972 & negative regulation of G2/M transition of mitotic cell cycle & 2/39 & 64/18903  & 7.713856e-03 & 0.2582659782 & 0.2237172399 & CHMP4C/NBN                                            & 2\\\\\n",
       "\tGO:1902750 & GO:1902750 & negative regulation of cell cycle G2/M phase transition      & 2/39 & 66/18903  & 8.186211e-03 & 0.2582659782 & 0.2237172399 & CHMP4C/NBN                                            & 2\\\\\n",
       "\tGO:0015909 & GO:0015909 & long-chain fatty acid transport                              & 2/39 & 67/18903  & 8.427171e-03 & 0.2582659782 & 0.2237172399 & FABP5/FABP4                                           & 2\\\\\n",
       "\tGO:0051310 & GO:0051310 & metaphase plate congression                                  & 2/39 & 71/18903  & 9.422582e-03 & 0.2582659782 & 0.2237172399 & CHMP4C/RMDN1                                          & 2\\\\\n",
       "\tGO:0008333 & GO:0008333 & endosome to lysosome transport                               & 2/39 & 73/18903  & 9.939042e-03 & 0.2582659782 & 0.2237172399 & CHMP4C/SNX16                                          & 2\\\\\n",
       "\tGO:0051303 & GO:0051303 & establishment of chromosome localization                     & 2/39 & 82/18903  & 1.241458e-02 & 0.2582659782 & 0.2237172399 & CHMP4C/RMDN1                                          & 2\\\\\n",
       "\tGO:0051453 & GO:0051453 & regulation of intracellular pH                               & 2/39 & 85/18903  & 1.329375e-02 & 0.2582659782 & 0.2237172399 & CA2/ATP6V0D2                                          & 2\\\\\n",
       "\tGO:0045444 & GO:0045444 & fat cell differentiation                                     & 3/39 & 244/18903 & 1.379051e-02 & 0.2582659782 & 0.2237172399 & FABP4/TMEM64/RUNX1T1                                  & 3\\\\\n",
       "\tGO:0050000 & GO:0050000 & chromosome localization                                      & 2/39 & 89/18903  & 1.450700e-02 & 0.2582659782 & 0.2237172399 & CHMP4C/RMDN1                                          & 2\\\\\n",
       "\tGO:0030641 & GO:0030641 & regulation of cellular pH                                    & 2/39 & 90/18903  & 1.481756e-02 & 0.2582659782 & 0.2237172399 & CA2/ATP6V0D2                                          & 2\\\\\n",
       "\tGO:0006835 & GO:0006835 & dicarboxylic acid transport                                  & 2/39 & 93/18903  & 1.576640e-02 & 0.2582659782 & 0.2237172399 & SLC7A13/SLC26A7                                       & 2\\\\\n",
       "\tGO:0006885 & GO:0006885 & regulation of pH                                             & 2/39 & 99/18903  & 1.774029e-02 & 0.2582659782 & 0.2237172399 & CA2/ATP6V0D2                                          & 2\\\\\n",
       "\tGO:0010389 & GO:0010389 & regulation of G2/M transition of mitotic cell cycle          & 2/39 & 99/18903  & 1.774029e-02 & 0.2582659782 & 0.2237172399 & CHMP4C/NBN                                            & 2\\\\\n",
       "\tGO:0030003 & GO:0030003 & cellular cation homeostasis                                  & 4/39 & 499/18903 & 1.902800e-02 & 0.2582659782 & 0.2237172399 & CA2/ATP6V0D2/CALB1/TMEM64                             & 4\\\\\n",
       "\t⋮ & ⋮ & ⋮ & ⋮ & ⋮ & ⋮ & ⋮ & ⋮ & ⋮ & ⋮\\\\\n",
       "\tGO:0001558 & GO:0001558 & regulation of cell growth                                           & 1/39 & 422/18903 & 0.5858046 & 0.6087928 & 0.5273534 & OSGIN2  & 1\\\\\n",
       "\tGO:0052548 & GO:0052548 & regulation of endopeptidase activity                                & 1/39 & 428/18903 & 0.5910221 & 0.6133851 & 0.5313314 & RIPK2   & 1\\\\\n",
       "\tGO:0031331 & GO:0031331 & positive regulation of cellular catabolic process                   & 1/39 & 429/18903 & 0.5918854 & 0.6134521 & 0.5313894 & RIPK2   & 1\\\\\n",
       "\tGO:0022412 & GO:0022412 & cellular process involved in reproduction in multicellular organism & 1/39 & 430/18903 & 0.5927470 & 0.6135171 & 0.5314457 & FABP9   & 1\\\\\n",
       "\tGO:0006979 & GO:0006979 & response to oxidative stress                                        & 1/39 & 434/18903 & 0.5961755 & 0.6162353 & 0.5338003 & CA3     & 1\\\\\n",
       "\tGO:0045936 & GO:0045936 & negative regulation of phosphate metabolic process                  & 1/39 & 440/18903 & 0.6012657 & 0.6206614 & 0.5376343 & FABP4   & 1\\\\\n",
       "\tGO:0010563 & GO:0010563 & negative regulation of phosphorus metabolic process                 & 1/39 & 441/18903 & 0.6021080 & 0.6206965 & 0.5376647 & FABP4   & 1\\\\\n",
       "\tGO:0042060 & GO:0042060 & wound healing                                                       & 1/39 & 442/18903 & 0.6029485 & 0.6207298 & 0.5376936 & CHMP4C  & 1\\\\\n",
       "\tGO:0048568 & GO:0048568 & embryonic organ development                                         & 1/39 & 449/18903 & 0.6087839 & 0.6242413 & 0.5407354 & MMP16   & 1\\\\\n",
       "\tGO:0072594 & GO:0072594 & establishment of protein localization to organelle                  & 1/39 & 449/18903 & 0.6087839 & 0.6242413 & 0.5407354 & SNX16   & 1\\\\\n",
       "\tGO:0002696 & GO:0002696 & positive regulation of leukocyte activation                         & 1/39 & 450/18903 & 0.6096107 & 0.6242413 & 0.5407354 & RIPK2   & 1\\\\\n",
       "\tGO:0043161 & GO:0043161 & proteasome-mediated ubiquitin-dependent protein catabolic process   & 1/39 & 450/18903 & 0.6096107 & 0.6242413 & 0.5407354 & WWP1    & 1\\\\\n",
       "\tGO:1903829 & GO:1903829 & positive regulation of protein localization                         & 1/39 & 451/18903 & 0.6104358 & 0.6242539 & 0.5407462 & ZFAND1  & 1\\\\\n",
       "\tGO:0051090 & GO:0051090 & regulation of DNA-binding transcription factor activity             & 1/39 & 454/18903 & 0.6129008 & 0.6259413 & 0.5422079 & RIPK2   & 1\\\\\n",
       "\tGO:0016055 & GO:0016055 & Wnt signaling pathway                                               & 1/39 & 456/18903 & 0.6145357 & 0.6267775 & 0.5429323 & TMEM64  & 1\\\\\n",
       "\tGO:0198738 & GO:0198738 & cell-cell signaling by wnt                                          & 1/39 & 458/18903 & 0.6161639 & 0.6275989 & 0.5436438 & TMEM64  & 1\\\\\n",
       "\tGO:0052547 & GO:0052547 & regulation of peptidase activity                                    & 1/39 & 459/18903 & 0.6169755 & 0.6275989 & 0.5436438 & RIPK2   & 1\\\\\n",
       "\tGO:0002443 & GO:0002443 & leukocyte mediated immunity                                         & 1/39 & 463/18903 & 0.6202052 & 0.6300497 & 0.5457667 & NBN     & 1\\\\\n",
       "\tGO:0050867 & GO:0050867 & positive regulation of cell activation                              & 1/39 & 467/18903 & 0.6234082 & 0.6324670 & 0.5478607 & RIPK2   & 1\\\\\n",
       "\tGO:0008380 & GO:0008380 & RNA splicing                                                        & 1/39 & 469/18903 & 0.6249999 & 0.6332453 & 0.5485348 & RBM12B  & 1\\\\\n",
       "\tGO:1903131 & GO:1903131 & mononuclear cell differentiation                                    & 1/39 & 473/18903 & 0.6281636 & 0.6356122 & 0.5505851 & RIPK2   & 1\\\\\n",
       "\tGO:0045785 & GO:0045785 & positive regulation of cell adhesion                                & 1/39 & 484/18903 & 0.6367302 & 0.6432927 & 0.5572382 & RIPK2   & 1\\\\\n",
       "\tGO:0001819 & GO:0001819 & positive regulation of cytokine production                          & 1/39 & 486/18903 & 0.6382670 & 0.6432927 & 0.5572382 & RIPK2   & 1\\\\\n",
       "\tGO:0006417 & GO:0006417 & regulation of translation                                           & 1/39 & 486/18903 & 0.6382670 & 0.6432927 & 0.5572382 & C8orf88 & 1\\\\\n",
       "\tGO:0022613 & GO:0022613 & ribonucleoprotein complex biogenesis                                & 1/39 & 489/18903 & 0.6405603 & 0.6446793 & 0.5584393 & RBIS    & 1\\\\\n",
       "\tGO:0022407 & GO:0022407 & regulation of cell-cell adhesion                                    & 1/39 & 490/18903 & 0.6413216 & 0.6446793 & 0.5584393 & RIPK2   & 1\\\\\n",
       "\tGO:0016049 & GO:0016049 & cell growth                                                         & 1/39 & 493/18903 & 0.6435960 & 0.6458563 & 0.5594589 & OSGIN2  & 1\\\\\n",
       "\tGO:0019221 & GO:0019221 & cytokine-mediated signaling pathway                                 & 1/39 & 496/18903 & 0.6458563 & 0.6458563 & 0.5594589 & RIPK2   & 1\\\\\n",
       "\tGO:0033674 & GO:0033674 & positive regulation of kinase activity                              & 1/39 & 496/18903 & 0.6458563 & 0.6458563 & 0.5594589 & NBN     & 1\\\\\n",
       "\tGO:0043410 & GO:0043410 & positive regulation of MAPK cascade                                 & 1/39 & 496/18903 & 0.6458563 & 0.6458563 & 0.5594589 & RIPK2   & 1\\\\\n",
       "\\end{tabular}\n"
      ],
      "text/markdown": [
       "\n",
       "A data.frame: 768 × 9\n",
       "\n",
       "| <!--/--> | ID &lt;chr&gt; | Description &lt;chr&gt; | GeneRatio &lt;chr&gt; | BgRatio &lt;chr&gt; | pvalue &lt;dbl&gt; | p.adjust &lt;dbl&gt; | qvalue &lt;dbl&gt; | geneID &lt;chr&gt; | Count &lt;int&gt; |\n",
       "|---|---|---|---|---|---|---|---|---|---|\n",
       "| GO:0015849 | GO:0015849 | organic acid transport                                       | 8/39 | 324/18903 | 2.647148e-07 | 0.0002033010 | 0.0001761050 | FABP5/PMP2/FABP9/FABP4/FABP12/SLC10A5/SLC7A13/SLC26A7 | 8 |\n",
       "| GO:0006730 | GO:0006730 | one-carbon metabolic process                                 | 4/39 | 39/18903  | 1.207754e-06 | 0.0004637777 | 0.0004017372 | CA13/CA1/CA3/CA2                                      | 4 |\n",
       "| GO:0015908 | GO:0015908 | fatty acid transport                                         | 5/39 | 101/18903 | 1.964306e-06 | 0.0005028622 | 0.0004355934 | FABP5/PMP2/FABP9/FABP4/FABP12                         | 5 |\n",
       "| GO:0006869 | GO:0006869 | lipid transport                                              | 6/39 | 433/18903 | 2.398692e-04 | 0.0460548949 | 0.0398940428 | FABP5/PMP2/FABP9/FABP4/FABP12/SLC10A5                 | 6 |\n",
       "| GO:0010876 | GO:0010876 | lipid localization                                           | 6/39 | 483/18903 | 4.301250e-04 | 0.0660671986 | 0.0572292619 | FABP5/PMP2/FABP9/FABP4/FABP12/SLC10A5                 | 6 |\n",
       "| GO:0120162 | GO:0120162 | positive regulation of cold-induced thermogenesis            | 3/39 | 98/18903  | 1.078484e-03 | 0.1380459176 | 0.1195792488 | FABP5/FABP4/DECR1                                     | 3 |\n",
       "| GO:0070050 | GO:0070050 | neuron cellular homeostasis                                  | 2/39 | 41/18903  | 3.232640e-03 | 0.2582659782 | 0.2237172399 | CA2/CALB1                                             | 2 |\n",
       "| GO:0106106 | GO:0106106 | cold-induced thermogenesis                                   | 3/39 | 147/18903 | 3.430543e-03 | 0.2582659782 | 0.2237172399 | FABP5/FABP4/DECR1                                     | 3 |\n",
       "| GO:0120161 | GO:0120161 | regulation of cold-induced thermogenesis                     | 3/39 | 147/18903 | 3.430543e-03 | 0.2582659782 | 0.2237172399 | FABP5/FABP4/DECR1                                     | 3 |\n",
       "| GO:1990845 | GO:1990845 | adaptive thermogenesis                                       | 3/39 | 160/18903 | 4.350070e-03 | 0.2582659782 | 0.2237172399 | FABP5/FABP4/DECR1                                     | 3 |\n",
       "| GO:0007034 | GO:0007034 | vacuolar transport                                           | 3/39 | 162/18903 | 4.503522e-03 | 0.2582659782 | 0.2237172399 | CHMP4C/SNX16/ATP6V0D2                                 | 3 |\n",
       "| GO:0051452 | GO:0051452 | intracellular pH reduction                                   | 2/39 | 52/18903  | 5.153269e-03 | 0.2582659782 | 0.2237172399 | CA2/ATP6V0D2                                          | 2 |\n",
       "| GO:0051480 | GO:0051480 | regulation of cytosolic calcium ion concentration            | 2/39 | 52/18903  | 5.153269e-03 | 0.2582659782 | 0.2237172399 | CALB1/TMEM64                                          | 2 |\n",
       "| GO:0001659 | GO:0001659 | temperature homeostasis                                      | 3/39 | 178/18903 | 5.850027e-03 | 0.2582659782 | 0.2237172399 | FABP5/FABP4/DECR1                                     | 3 |\n",
       "| GO:0072348 | GO:0072348 | sulfur compound transport                                    | 2/39 | 56/18903  | 5.953962e-03 | 0.2582659782 | 0.2237172399 | SLC7A13/SLC26A7                                       | 2 |\n",
       "| GO:0007080 | GO:0007080 | mitotic metaphase plate congression                          | 2/39 | 57/18903  | 6.162472e-03 | 0.2582659782 | 0.2237172399 | CHMP4C/RMDN1                                          | 2 |\n",
       "| GO:0010972 | GO:0010972 | negative regulation of G2/M transition of mitotic cell cycle | 2/39 | 64/18903  | 7.713856e-03 | 0.2582659782 | 0.2237172399 | CHMP4C/NBN                                            | 2 |\n",
       "| GO:1902750 | GO:1902750 | negative regulation of cell cycle G2/M phase transition      | 2/39 | 66/18903  | 8.186211e-03 | 0.2582659782 | 0.2237172399 | CHMP4C/NBN                                            | 2 |\n",
       "| GO:0015909 | GO:0015909 | long-chain fatty acid transport                              | 2/39 | 67/18903  | 8.427171e-03 | 0.2582659782 | 0.2237172399 | FABP5/FABP4                                           | 2 |\n",
       "| GO:0051310 | GO:0051310 | metaphase plate congression                                  | 2/39 | 71/18903  | 9.422582e-03 | 0.2582659782 | 0.2237172399 | CHMP4C/RMDN1                                          | 2 |\n",
       "| GO:0008333 | GO:0008333 | endosome to lysosome transport                               | 2/39 | 73/18903  | 9.939042e-03 | 0.2582659782 | 0.2237172399 | CHMP4C/SNX16                                          | 2 |\n",
       "| GO:0051303 | GO:0051303 | establishment of chromosome localization                     | 2/39 | 82/18903  | 1.241458e-02 | 0.2582659782 | 0.2237172399 | CHMP4C/RMDN1                                          | 2 |\n",
       "| GO:0051453 | GO:0051453 | regulation of intracellular pH                               | 2/39 | 85/18903  | 1.329375e-02 | 0.2582659782 | 0.2237172399 | CA2/ATP6V0D2                                          | 2 |\n",
       "| GO:0045444 | GO:0045444 | fat cell differentiation                                     | 3/39 | 244/18903 | 1.379051e-02 | 0.2582659782 | 0.2237172399 | FABP4/TMEM64/RUNX1T1                                  | 3 |\n",
       "| GO:0050000 | GO:0050000 | chromosome localization                                      | 2/39 | 89/18903  | 1.450700e-02 | 0.2582659782 | 0.2237172399 | CHMP4C/RMDN1                                          | 2 |\n",
       "| GO:0030641 | GO:0030641 | regulation of cellular pH                                    | 2/39 | 90/18903  | 1.481756e-02 | 0.2582659782 | 0.2237172399 | CA2/ATP6V0D2                                          | 2 |\n",
       "| GO:0006835 | GO:0006835 | dicarboxylic acid transport                                  | 2/39 | 93/18903  | 1.576640e-02 | 0.2582659782 | 0.2237172399 | SLC7A13/SLC26A7                                       | 2 |\n",
       "| GO:0006885 | GO:0006885 | regulation of pH                                             | 2/39 | 99/18903  | 1.774029e-02 | 0.2582659782 | 0.2237172399 | CA2/ATP6V0D2                                          | 2 |\n",
       "| GO:0010389 | GO:0010389 | regulation of G2/M transition of mitotic cell cycle          | 2/39 | 99/18903  | 1.774029e-02 | 0.2582659782 | 0.2237172399 | CHMP4C/NBN                                            | 2 |\n",
       "| GO:0030003 | GO:0030003 | cellular cation homeostasis                                  | 4/39 | 499/18903 | 1.902800e-02 | 0.2582659782 | 0.2237172399 | CA2/ATP6V0D2/CALB1/TMEM64                             | 4 |\n",
       "| ⋮ | ⋮ | ⋮ | ⋮ | ⋮ | ⋮ | ⋮ | ⋮ | ⋮ | ⋮ |\n",
       "| GO:0001558 | GO:0001558 | regulation of cell growth                                           | 1/39 | 422/18903 | 0.5858046 | 0.6087928 | 0.5273534 | OSGIN2  | 1 |\n",
       "| GO:0052548 | GO:0052548 | regulation of endopeptidase activity                                | 1/39 | 428/18903 | 0.5910221 | 0.6133851 | 0.5313314 | RIPK2   | 1 |\n",
       "| GO:0031331 | GO:0031331 | positive regulation of cellular catabolic process                   | 1/39 | 429/18903 | 0.5918854 | 0.6134521 | 0.5313894 | RIPK2   | 1 |\n",
       "| GO:0022412 | GO:0022412 | cellular process involved in reproduction in multicellular organism | 1/39 | 430/18903 | 0.5927470 | 0.6135171 | 0.5314457 | FABP9   | 1 |\n",
       "| GO:0006979 | GO:0006979 | response to oxidative stress                                        | 1/39 | 434/18903 | 0.5961755 | 0.6162353 | 0.5338003 | CA3     | 1 |\n",
       "| GO:0045936 | GO:0045936 | negative regulation of phosphate metabolic process                  | 1/39 | 440/18903 | 0.6012657 | 0.6206614 | 0.5376343 | FABP4   | 1 |\n",
       "| GO:0010563 | GO:0010563 | negative regulation of phosphorus metabolic process                 | 1/39 | 441/18903 | 0.6021080 | 0.6206965 | 0.5376647 | FABP4   | 1 |\n",
       "| GO:0042060 | GO:0042060 | wound healing                                                       | 1/39 | 442/18903 | 0.6029485 | 0.6207298 | 0.5376936 | CHMP4C  | 1 |\n",
       "| GO:0048568 | GO:0048568 | embryonic organ development                                         | 1/39 | 449/18903 | 0.6087839 | 0.6242413 | 0.5407354 | MMP16   | 1 |\n",
       "| GO:0072594 | GO:0072594 | establishment of protein localization to organelle                  | 1/39 | 449/18903 | 0.6087839 | 0.6242413 | 0.5407354 | SNX16   | 1 |\n",
       "| GO:0002696 | GO:0002696 | positive regulation of leukocyte activation                         | 1/39 | 450/18903 | 0.6096107 | 0.6242413 | 0.5407354 | RIPK2   | 1 |\n",
       "| GO:0043161 | GO:0043161 | proteasome-mediated ubiquitin-dependent protein catabolic process   | 1/39 | 450/18903 | 0.6096107 | 0.6242413 | 0.5407354 | WWP1    | 1 |\n",
       "| GO:1903829 | GO:1903829 | positive regulation of protein localization                         | 1/39 | 451/18903 | 0.6104358 | 0.6242539 | 0.5407462 | ZFAND1  | 1 |\n",
       "| GO:0051090 | GO:0051090 | regulation of DNA-binding transcription factor activity             | 1/39 | 454/18903 | 0.6129008 | 0.6259413 | 0.5422079 | RIPK2   | 1 |\n",
       "| GO:0016055 | GO:0016055 | Wnt signaling pathway                                               | 1/39 | 456/18903 | 0.6145357 | 0.6267775 | 0.5429323 | TMEM64  | 1 |\n",
       "| GO:0198738 | GO:0198738 | cell-cell signaling by wnt                                          | 1/39 | 458/18903 | 0.6161639 | 0.6275989 | 0.5436438 | TMEM64  | 1 |\n",
       "| GO:0052547 | GO:0052547 | regulation of peptidase activity                                    | 1/39 | 459/18903 | 0.6169755 | 0.6275989 | 0.5436438 | RIPK2   | 1 |\n",
       "| GO:0002443 | GO:0002443 | leukocyte mediated immunity                                         | 1/39 | 463/18903 | 0.6202052 | 0.6300497 | 0.5457667 | NBN     | 1 |\n",
       "| GO:0050867 | GO:0050867 | positive regulation of cell activation                              | 1/39 | 467/18903 | 0.6234082 | 0.6324670 | 0.5478607 | RIPK2   | 1 |\n",
       "| GO:0008380 | GO:0008380 | RNA splicing                                                        | 1/39 | 469/18903 | 0.6249999 | 0.6332453 | 0.5485348 | RBM12B  | 1 |\n",
       "| GO:1903131 | GO:1903131 | mononuclear cell differentiation                                    | 1/39 | 473/18903 | 0.6281636 | 0.6356122 | 0.5505851 | RIPK2   | 1 |\n",
       "| GO:0045785 | GO:0045785 | positive regulation of cell adhesion                                | 1/39 | 484/18903 | 0.6367302 | 0.6432927 | 0.5572382 | RIPK2   | 1 |\n",
       "| GO:0001819 | GO:0001819 | positive regulation of cytokine production                          | 1/39 | 486/18903 | 0.6382670 | 0.6432927 | 0.5572382 | RIPK2   | 1 |\n",
       "| GO:0006417 | GO:0006417 | regulation of translation                                           | 1/39 | 486/18903 | 0.6382670 | 0.6432927 | 0.5572382 | C8orf88 | 1 |\n",
       "| GO:0022613 | GO:0022613 | ribonucleoprotein complex biogenesis                                | 1/39 | 489/18903 | 0.6405603 | 0.6446793 | 0.5584393 | RBIS    | 1 |\n",
       "| GO:0022407 | GO:0022407 | regulation of cell-cell adhesion                                    | 1/39 | 490/18903 | 0.6413216 | 0.6446793 | 0.5584393 | RIPK2   | 1 |\n",
       "| GO:0016049 | GO:0016049 | cell growth                                                         | 1/39 | 493/18903 | 0.6435960 | 0.6458563 | 0.5594589 | OSGIN2  | 1 |\n",
       "| GO:0019221 | GO:0019221 | cytokine-mediated signaling pathway                                 | 1/39 | 496/18903 | 0.6458563 | 0.6458563 | 0.5594589 | RIPK2   | 1 |\n",
       "| GO:0033674 | GO:0033674 | positive regulation of kinase activity                              | 1/39 | 496/18903 | 0.6458563 | 0.6458563 | 0.5594589 | NBN     | 1 |\n",
       "| GO:0043410 | GO:0043410 | positive regulation of MAPK cascade                                 | 1/39 | 496/18903 | 0.6458563 | 0.6458563 | 0.5594589 | RIPK2   | 1 |\n",
       "\n"
      ],
      "text/plain": [
       "           ID        \n",
       "GO:0015849 GO:0015849\n",
       "GO:0006730 GO:0006730\n",
       "GO:0015908 GO:0015908\n",
       "GO:0006869 GO:0006869\n",
       "GO:0010876 GO:0010876\n",
       "GO:0120162 GO:0120162\n",
       "GO:0070050 GO:0070050\n",
       "GO:0106106 GO:0106106\n",
       "GO:0120161 GO:0120161\n",
       "GO:1990845 GO:1990845\n",
       "GO:0007034 GO:0007034\n",
       "GO:0051452 GO:0051452\n",
       "GO:0051480 GO:0051480\n",
       "GO:0001659 GO:0001659\n",
       "GO:0072348 GO:0072348\n",
       "GO:0007080 GO:0007080\n",
       "GO:0010972 GO:0010972\n",
       "GO:1902750 GO:1902750\n",
       "GO:0015909 GO:0015909\n",
       "GO:0051310 GO:0051310\n",
       "GO:0008333 GO:0008333\n",
       "GO:0051303 GO:0051303\n",
       "GO:0051453 GO:0051453\n",
       "GO:0045444 GO:0045444\n",
       "GO:0050000 GO:0050000\n",
       "GO:0030641 GO:0030641\n",
       "GO:0006835 GO:0006835\n",
       "GO:0006885 GO:0006885\n",
       "GO:0010389 GO:0010389\n",
       "GO:0030003 GO:0030003\n",
       "⋮          ⋮         \n",
       "GO:0001558 GO:0001558\n",
       "GO:0052548 GO:0052548\n",
       "GO:0031331 GO:0031331\n",
       "GO:0022412 GO:0022412\n",
       "GO:0006979 GO:0006979\n",
       "GO:0045936 GO:0045936\n",
       "GO:0010563 GO:0010563\n",
       "GO:0042060 GO:0042060\n",
       "GO:0048568 GO:0048568\n",
       "GO:0072594 GO:0072594\n",
       "GO:0002696 GO:0002696\n",
       "GO:0043161 GO:0043161\n",
       "GO:1903829 GO:1903829\n",
       "GO:0051090 GO:0051090\n",
       "GO:0016055 GO:0016055\n",
       "GO:0198738 GO:0198738\n",
       "GO:0052547 GO:0052547\n",
       "GO:0002443 GO:0002443\n",
       "GO:0050867 GO:0050867\n",
       "GO:0008380 GO:0008380\n",
       "GO:1903131 GO:1903131\n",
       "GO:0045785 GO:0045785\n",
       "GO:0001819 GO:0001819\n",
       "GO:0006417 GO:0006417\n",
       "GO:0022613 GO:0022613\n",
       "GO:0022407 GO:0022407\n",
       "GO:0016049 GO:0016049\n",
       "GO:0019221 GO:0019221\n",
       "GO:0033674 GO:0033674\n",
       "GO:0043410 GO:0043410\n",
       "           Description                                                        \n",
       "GO:0015849 organic acid transport                                             \n",
       "GO:0006730 one-carbon metabolic process                                       \n",
       "GO:0015908 fatty acid transport                                               \n",
       "GO:0006869 lipid transport                                                    \n",
       "GO:0010876 lipid localization                                                 \n",
       "GO:0120162 positive regulation of cold-induced thermogenesis                  \n",
       "GO:0070050 neuron cellular homeostasis                                        \n",
       "GO:0106106 cold-induced thermogenesis                                         \n",
       "GO:0120161 regulation of cold-induced thermogenesis                           \n",
       "GO:1990845 adaptive thermogenesis                                             \n",
       "GO:0007034 vacuolar transport                                                 \n",
       "GO:0051452 intracellular pH reduction                                         \n",
       "GO:0051480 regulation of cytosolic calcium ion concentration                  \n",
       "GO:0001659 temperature homeostasis                                            \n",
       "GO:0072348 sulfur compound transport                                          \n",
       "GO:0007080 mitotic metaphase plate congression                                \n",
       "GO:0010972 negative regulation of G2/M transition of mitotic cell cycle       \n",
       "GO:1902750 negative regulation of cell cycle G2/M phase transition            \n",
       "GO:0015909 long-chain fatty acid transport                                    \n",
       "GO:0051310 metaphase plate congression                                        \n",
       "GO:0008333 endosome to lysosome transport                                     \n",
       "GO:0051303 establishment of chromosome localization                           \n",
       "GO:0051453 regulation of intracellular pH                                     \n",
       "GO:0045444 fat cell differentiation                                           \n",
       "GO:0050000 chromosome localization                                            \n",
       "GO:0030641 regulation of cellular pH                                          \n",
       "GO:0006835 dicarboxylic acid transport                                        \n",
       "GO:0006885 regulation of pH                                                   \n",
       "GO:0010389 regulation of G2/M transition of mitotic cell cycle                \n",
       "GO:0030003 cellular cation homeostasis                                        \n",
       "⋮          ⋮                                                                  \n",
       "GO:0001558 regulation of cell growth                                          \n",
       "GO:0052548 regulation of endopeptidase activity                               \n",
       "GO:0031331 positive regulation of cellular catabolic process                  \n",
       "GO:0022412 cellular process involved in reproduction in multicellular organism\n",
       "GO:0006979 response to oxidative stress                                       \n",
       "GO:0045936 negative regulation of phosphate metabolic process                 \n",
       "GO:0010563 negative regulation of phosphorus metabolic process                \n",
       "GO:0042060 wound healing                                                      \n",
       "GO:0048568 embryonic organ development                                        \n",
       "GO:0072594 establishment of protein localization to organelle                 \n",
       "GO:0002696 positive regulation of leukocyte activation                        \n",
       "GO:0043161 proteasome-mediated ubiquitin-dependent protein catabolic process  \n",
       "GO:1903829 positive regulation of protein localization                        \n",
       "GO:0051090 regulation of DNA-binding transcription factor activity            \n",
       "GO:0016055 Wnt signaling pathway                                              \n",
       "GO:0198738 cell-cell signaling by wnt                                         \n",
       "GO:0052547 regulation of peptidase activity                                   \n",
       "GO:0002443 leukocyte mediated immunity                                        \n",
       "GO:0050867 positive regulation of cell activation                             \n",
       "GO:0008380 RNA splicing                                                       \n",
       "GO:1903131 mononuclear cell differentiation                                   \n",
       "GO:0045785 positive regulation of cell adhesion                               \n",
       "GO:0001819 positive regulation of cytokine production                         \n",
       "GO:0006417 regulation of translation                                          \n",
       "GO:0022613 ribonucleoprotein complex biogenesis                               \n",
       "GO:0022407 regulation of cell-cell adhesion                                   \n",
       "GO:0016049 cell growth                                                        \n",
       "GO:0019221 cytokine-mediated signaling pathway                                \n",
       "GO:0033674 positive regulation of kinase activity                             \n",
       "GO:0043410 positive regulation of MAPK cascade                                \n",
       "           GeneRatio BgRatio   pvalue       p.adjust     qvalue      \n",
       "GO:0015849 8/39      324/18903 2.647148e-07 0.0002033010 0.0001761050\n",
       "GO:0006730 4/39      39/18903  1.207754e-06 0.0004637777 0.0004017372\n",
       "GO:0015908 5/39      101/18903 1.964306e-06 0.0005028622 0.0004355934\n",
       "GO:0006869 6/39      433/18903 2.398692e-04 0.0460548949 0.0398940428\n",
       "GO:0010876 6/39      483/18903 4.301250e-04 0.0660671986 0.0572292619\n",
       "GO:0120162 3/39      98/18903  1.078484e-03 0.1380459176 0.1195792488\n",
       "GO:0070050 2/39      41/18903  3.232640e-03 0.2582659782 0.2237172399\n",
       "GO:0106106 3/39      147/18903 3.430543e-03 0.2582659782 0.2237172399\n",
       "GO:0120161 3/39      147/18903 3.430543e-03 0.2582659782 0.2237172399\n",
       "GO:1990845 3/39      160/18903 4.350070e-03 0.2582659782 0.2237172399\n",
       "GO:0007034 3/39      162/18903 4.503522e-03 0.2582659782 0.2237172399\n",
       "GO:0051452 2/39      52/18903  5.153269e-03 0.2582659782 0.2237172399\n",
       "GO:0051480 2/39      52/18903  5.153269e-03 0.2582659782 0.2237172399\n",
       "GO:0001659 3/39      178/18903 5.850027e-03 0.2582659782 0.2237172399\n",
       "GO:0072348 2/39      56/18903  5.953962e-03 0.2582659782 0.2237172399\n",
       "GO:0007080 2/39      57/18903  6.162472e-03 0.2582659782 0.2237172399\n",
       "GO:0010972 2/39      64/18903  7.713856e-03 0.2582659782 0.2237172399\n",
       "GO:1902750 2/39      66/18903  8.186211e-03 0.2582659782 0.2237172399\n",
       "GO:0015909 2/39      67/18903  8.427171e-03 0.2582659782 0.2237172399\n",
       "GO:0051310 2/39      71/18903  9.422582e-03 0.2582659782 0.2237172399\n",
       "GO:0008333 2/39      73/18903  9.939042e-03 0.2582659782 0.2237172399\n",
       "GO:0051303 2/39      82/18903  1.241458e-02 0.2582659782 0.2237172399\n",
       "GO:0051453 2/39      85/18903  1.329375e-02 0.2582659782 0.2237172399\n",
       "GO:0045444 3/39      244/18903 1.379051e-02 0.2582659782 0.2237172399\n",
       "GO:0050000 2/39      89/18903  1.450700e-02 0.2582659782 0.2237172399\n",
       "GO:0030641 2/39      90/18903  1.481756e-02 0.2582659782 0.2237172399\n",
       "GO:0006835 2/39      93/18903  1.576640e-02 0.2582659782 0.2237172399\n",
       "GO:0006885 2/39      99/18903  1.774029e-02 0.2582659782 0.2237172399\n",
       "GO:0010389 2/39      99/18903  1.774029e-02 0.2582659782 0.2237172399\n",
       "GO:0030003 4/39      499/18903 1.902800e-02 0.2582659782 0.2237172399\n",
       "⋮          ⋮         ⋮         ⋮            ⋮            ⋮           \n",
       "GO:0001558 1/39      422/18903 0.5858046    0.6087928    0.5273534   \n",
       "GO:0052548 1/39      428/18903 0.5910221    0.6133851    0.5313314   \n",
       "GO:0031331 1/39      429/18903 0.5918854    0.6134521    0.5313894   \n",
       "GO:0022412 1/39      430/18903 0.5927470    0.6135171    0.5314457   \n",
       "GO:0006979 1/39      434/18903 0.5961755    0.6162353    0.5338003   \n",
       "GO:0045936 1/39      440/18903 0.6012657    0.6206614    0.5376343   \n",
       "GO:0010563 1/39      441/18903 0.6021080    0.6206965    0.5376647   \n",
       "GO:0042060 1/39      442/18903 0.6029485    0.6207298    0.5376936   \n",
       "GO:0048568 1/39      449/18903 0.6087839    0.6242413    0.5407354   \n",
       "GO:0072594 1/39      449/18903 0.6087839    0.6242413    0.5407354   \n",
       "GO:0002696 1/39      450/18903 0.6096107    0.6242413    0.5407354   \n",
       "GO:0043161 1/39      450/18903 0.6096107    0.6242413    0.5407354   \n",
       "GO:1903829 1/39      451/18903 0.6104358    0.6242539    0.5407462   \n",
       "GO:0051090 1/39      454/18903 0.6129008    0.6259413    0.5422079   \n",
       "GO:0016055 1/39      456/18903 0.6145357    0.6267775    0.5429323   \n",
       "GO:0198738 1/39      458/18903 0.6161639    0.6275989    0.5436438   \n",
       "GO:0052547 1/39      459/18903 0.6169755    0.6275989    0.5436438   \n",
       "GO:0002443 1/39      463/18903 0.6202052    0.6300497    0.5457667   \n",
       "GO:0050867 1/39      467/18903 0.6234082    0.6324670    0.5478607   \n",
       "GO:0008380 1/39      469/18903 0.6249999    0.6332453    0.5485348   \n",
       "GO:1903131 1/39      473/18903 0.6281636    0.6356122    0.5505851   \n",
       "GO:0045785 1/39      484/18903 0.6367302    0.6432927    0.5572382   \n",
       "GO:0001819 1/39      486/18903 0.6382670    0.6432927    0.5572382   \n",
       "GO:0006417 1/39      486/18903 0.6382670    0.6432927    0.5572382   \n",
       "GO:0022613 1/39      489/18903 0.6405603    0.6446793    0.5584393   \n",
       "GO:0022407 1/39      490/18903 0.6413216    0.6446793    0.5584393   \n",
       "GO:0016049 1/39      493/18903 0.6435960    0.6458563    0.5594589   \n",
       "GO:0019221 1/39      496/18903 0.6458563    0.6458563    0.5594589   \n",
       "GO:0033674 1/39      496/18903 0.6458563    0.6458563    0.5594589   \n",
       "GO:0043410 1/39      496/18903 0.6458563    0.6458563    0.5594589   \n",
       "           geneID                                                Count\n",
       "GO:0015849 FABP5/PMP2/FABP9/FABP4/FABP12/SLC10A5/SLC7A13/SLC26A7 8    \n",
       "GO:0006730 CA13/CA1/CA3/CA2                                      4    \n",
       "GO:0015908 FABP5/PMP2/FABP9/FABP4/FABP12                         5    \n",
       "GO:0006869 FABP5/PMP2/FABP9/FABP4/FABP12/SLC10A5                 6    \n",
       "GO:0010876 FABP5/PMP2/FABP9/FABP4/FABP12/SLC10A5                 6    \n",
       "GO:0120162 FABP5/FABP4/DECR1                                     3    \n",
       "GO:0070050 CA2/CALB1                                             2    \n",
       "GO:0106106 FABP5/FABP4/DECR1                                     3    \n",
       "GO:0120161 FABP5/FABP4/DECR1                                     3    \n",
       "GO:1990845 FABP5/FABP4/DECR1                                     3    \n",
       "GO:0007034 CHMP4C/SNX16/ATP6V0D2                                 3    \n",
       "GO:0051452 CA2/ATP6V0D2                                          2    \n",
       "GO:0051480 CALB1/TMEM64                                          2    \n",
       "GO:0001659 FABP5/FABP4/DECR1                                     3    \n",
       "GO:0072348 SLC7A13/SLC26A7                                       2    \n",
       "GO:0007080 CHMP4C/RMDN1                                          2    \n",
       "GO:0010972 CHMP4C/NBN                                            2    \n",
       "GO:1902750 CHMP4C/NBN                                            2    \n",
       "GO:0015909 FABP5/FABP4                                           2    \n",
       "GO:0051310 CHMP4C/RMDN1                                          2    \n",
       "GO:0008333 CHMP4C/SNX16                                          2    \n",
       "GO:0051303 CHMP4C/RMDN1                                          2    \n",
       "GO:0051453 CA2/ATP6V0D2                                          2    \n",
       "GO:0045444 FABP4/TMEM64/RUNX1T1                                  3    \n",
       "GO:0050000 CHMP4C/RMDN1                                          2    \n",
       "GO:0030641 CA2/ATP6V0D2                                          2    \n",
       "GO:0006835 SLC7A13/SLC26A7                                       2    \n",
       "GO:0006885 CA2/ATP6V0D2                                          2    \n",
       "GO:0010389 CHMP4C/NBN                                            2    \n",
       "GO:0030003 CA2/ATP6V0D2/CALB1/TMEM64                             4    \n",
       "⋮          ⋮                                                     ⋮    \n",
       "GO:0001558 OSGIN2                                                1    \n",
       "GO:0052548 RIPK2                                                 1    \n",
       "GO:0031331 RIPK2                                                 1    \n",
       "GO:0022412 FABP9                                                 1    \n",
       "GO:0006979 CA3                                                   1    \n",
       "GO:0045936 FABP4                                                 1    \n",
       "GO:0010563 FABP4                                                 1    \n",
       "GO:0042060 CHMP4C                                                1    \n",
       "GO:0048568 MMP16                                                 1    \n",
       "GO:0072594 SNX16                                                 1    \n",
       "GO:0002696 RIPK2                                                 1    \n",
       "GO:0043161 WWP1                                                  1    \n",
       "GO:1903829 ZFAND1                                                1    \n",
       "GO:0051090 RIPK2                                                 1    \n",
       "GO:0016055 TMEM64                                                1    \n",
       "GO:0198738 TMEM64                                                1    \n",
       "GO:0052547 RIPK2                                                 1    \n",
       "GO:0002443 NBN                                                   1    \n",
       "GO:0050867 RIPK2                                                 1    \n",
       "GO:0008380 RBM12B                                                1    \n",
       "GO:1903131 RIPK2                                                 1    \n",
       "GO:0045785 RIPK2                                                 1    \n",
       "GO:0001819 RIPK2                                                 1    \n",
       "GO:0006417 C8orf88                                               1    \n",
       "GO:0022613 RBIS                                                  1    \n",
       "GO:0022407 RIPK2                                                 1    \n",
       "GO:0016049 OSGIN2                                                1    \n",
       "GO:0019221 RIPK2                                                 1    \n",
       "GO:0033674 NBN                                                   1    \n",
       "GO:0043410 RIPK2                                                 1    "
      ]
     },
     "metadata": {},
     "output_type": "display_data"
    }
   ],
   "source": [
    "rds@result"
   ]
  },
  {
   "cell_type": "code",
   "execution_count": null,
   "id": "6f2df4b8-5b23-4457-9a87-a94621a7fe5f",
   "metadata": {},
   "outputs": [],
   "source": []
  }
 ],
 "metadata": {
  "kernelspec": {
   "display_name": "R",
   "language": "R",
   "name": "ir"
  },
  "language_info": {
   "codemirror_mode": "r",
   "file_extension": ".r",
   "mimetype": "text/x-r-source",
   "name": "R",
   "pygments_lexer": "r",
   "version": "4.0.2"
  }
 },
 "nbformat": 4,
 "nbformat_minor": 5
}
