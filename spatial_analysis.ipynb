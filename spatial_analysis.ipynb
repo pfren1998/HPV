{
 "cells": [
  {
   "cell_type": "code",
   "execution_count": 1,
   "id": "7f9d3858-0ffa-41d7-987b-c2e9bc4fe90f",
   "metadata": {
    "scrolled": true,
    "tags": []
   },
   "outputs": [
    {
     "name": "stderr",
     "output_type": "stream",
     "text": [
      "Loading required package: SeuratObject\n",
      "\n",
      "Loading required package: sp\n",
      "\n",
      "\n",
      "Attaching package: ‘SeuratObject’\n",
      "\n",
      "\n",
      "The following objects are masked from ‘package:base’:\n",
      "\n",
      "    intersect, t\n",
      "\n",
      "\n",
      "\n",
      "Attaching package: ‘dplyr’\n",
      "\n",
      "\n",
      "The following objects are masked from ‘package:stats’:\n",
      "\n",
      "    filter, lag\n",
      "\n",
      "\n",
      "The following objects are masked from ‘package:base’:\n",
      "\n",
      "    intersect, setdiff, setequal, union\n",
      "\n",
      "\n",
      "Loading required package: grid\n",
      "\n",
      "========================================\n",
      "ComplexHeatmap version 2.14.0\n",
      "Bioconductor page: http://bioconductor.org/packages/ComplexHeatmap/\n",
      "Github page: https://github.com/jokergoo/ComplexHeatmap\n",
      "Documentation: http://jokergoo.github.io/ComplexHeatmap-reference\n",
      "\n",
      "If you use it in published research, please cite either one:\n",
      "- Gu, Z. Complex Heatmap Visualization. iMeta 2022.\n",
      "- Gu, Z. Complex heatmaps reveal patterns and correlations in multidimensional \n",
      "    genomic data. Bioinformatics 2016.\n",
      "\n",
      "\n",
      "The new InteractiveComplexHeatmap package can directly export static \n",
      "complex heatmaps into an interactive Shiny app with zero effort. Have a try!\n",
      "\n",
      "This message can be suppressed by:\n",
      "  suppressPackageStartupMessages(library(ComplexHeatmap))\n",
      "========================================\n",
      "! pheatmap() has been masked by ComplexHeatmap::pheatmap(). Most of the arguments\n",
      "   in the original pheatmap() are identically supported in the new function. You \n",
      "   can still use the original function by explicitly calling pheatmap::pheatmap().\n",
      "\n",
      "\n",
      "\n",
      "Attaching package: ‘ComplexHeatmap’\n",
      "\n",
      "\n",
      "The following object is masked from ‘package:pheatmap’:\n",
      "\n",
      "    pheatmap\n",
      "\n",
      "\n"
     ]
    }
   ],
   "source": [
    "library(Seurat)\n",
    "library(stringr)\n",
    "library(ggplot2)\n",
    "library(dplyr)\n",
    "library(purrr)\n",
    "library(ggplot2)\n",
    "library(pheatmap)\n",
    "library(ComplexHeatmap)"
   ]
  },
  {
   "cell_type": "markdown",
   "id": "d907aa0e-7a1b-43de-866a-32e726d168aa",
   "metadata": {
    "tags": []
   },
   "source": [
    "# hypoxia & normxia"
   ]
  },
  {
   "cell_type": "code",
   "execution_count": 2,
   "id": "0250ad98-a95c-49e4-ac29-44cc592793f5",
   "metadata": {},
   "outputs": [],
   "source": [
    "raw_data = read.csv('~/HPV/data/spatial/gene_to_cell.csv')"
   ]
  },
  {
   "cell_type": "code",
   "execution_count": 3,
   "id": "befb768b-c616-4916-98bf-0733ca140c16",
   "metadata": {},
   "outputs": [
    {
     "data": {
      "text/html": [
       "<table class=\"dataframe\">\n",
       "<caption>A data.frame: 6 × 21</caption>\n",
       "<thead>\n",
       "\t<tr><th></th><th scope=col>cell</th><th scope=col>AICDA</th><th scope=col>CCL3</th><th scope=col>CD4</th><th scope=col>CD8A</th><th scope=col>CXCL13</th><th scope=col>E5</th><th scope=col>E6</th><th scope=col>E7</th><th scope=col>ENTPD1</th><th scope=col>⋯</th><th scope=col>IGHA1</th><th scope=col>IGHG1</th><th scope=col>KRT5</th><th scope=col>MKI67</th><th scope=col>MS4A1</th><th scope=col>MZB1</th><th scope=col>PDCD1</th><th scope=col>TCF7</th><th scope=col>TNFRSF4</th><th scope=col>XCL1</th></tr>\n",
       "\t<tr><th></th><th scope=col>&lt;chr&gt;</th><th scope=col>&lt;int&gt;</th><th scope=col>&lt;int&gt;</th><th scope=col>&lt;int&gt;</th><th scope=col>&lt;int&gt;</th><th scope=col>&lt;int&gt;</th><th scope=col>&lt;int&gt;</th><th scope=col>&lt;int&gt;</th><th scope=col>&lt;int&gt;</th><th scope=col>&lt;int&gt;</th><th scope=col>⋯</th><th scope=col>&lt;int&gt;</th><th scope=col>&lt;int&gt;</th><th scope=col>&lt;int&gt;</th><th scope=col>&lt;int&gt;</th><th scope=col>&lt;int&gt;</th><th scope=col>&lt;int&gt;</th><th scope=col>&lt;int&gt;</th><th scope=col>&lt;int&gt;</th><th scope=col>&lt;int&gt;</th><th scope=col>&lt;int&gt;</th></tr>\n",
       "</thead>\n",
       "<tbody>\n",
       "\t<tr><th scope=row>1</th><td>(0.85, 1124.04) </td><td>0</td><td>0</td><td>0</td><td>0</td><td>0</td><td>0</td><td>0</td><td>0</td><td>0</td><td>⋯</td><td>0</td><td>1</td><td>0</td><td>0</td><td>0</td><td>0</td><td>0</td><td>0</td><td>0</td><td>0</td></tr>\n",
       "\t<tr><th scope=row>2</th><td>(1.15, 1496.38) </td><td>0</td><td>0</td><td>0</td><td>0</td><td>1</td><td>0</td><td>0</td><td>0</td><td>0</td><td>⋯</td><td>1</td><td>2</td><td>0</td><td>0</td><td>0</td><td>0</td><td>0</td><td>0</td><td>0</td><td>0</td></tr>\n",
       "\t<tr><th scope=row>3</th><td>(1.50, 1436.75) </td><td>0</td><td>0</td><td>0</td><td>0</td><td>0</td><td>0</td><td>0</td><td>0</td><td>0</td><td>⋯</td><td>0</td><td>0</td><td>1</td><td>0</td><td>0</td><td>0</td><td>0</td><td>0</td><td>0</td><td>0</td></tr>\n",
       "\t<tr><th scope=row>4</th><td>(1.85, 1084.11) </td><td>0</td><td>0</td><td>0</td><td>0</td><td>0</td><td>0</td><td>0</td><td>0</td><td>0</td><td>⋯</td><td>0</td><td>2</td><td>0</td><td>0</td><td>0</td><td>0</td><td>0</td><td>0</td><td>0</td><td>0</td></tr>\n",
       "\t<tr><th scope=row>5</th><td>(1.96, 1349.41) </td><td>0</td><td>0</td><td>0</td><td>0</td><td>0</td><td>0</td><td>0</td><td>0</td><td>0</td><td>⋯</td><td>0</td><td>0</td><td>1</td><td>0</td><td>0</td><td>0</td><td>0</td><td>0</td><td>0</td><td>0</td></tr>\n",
       "\t<tr><th scope=row>6</th><td>(10.09, 2755.12)</td><td>0</td><td>0</td><td>0</td><td>0</td><td>0</td><td>0</td><td>0</td><td>0</td><td>0</td><td>⋯</td><td>0</td><td>0</td><td>2</td><td>0</td><td>0</td><td>0</td><td>0</td><td>0</td><td>0</td><td>0</td></tr>\n",
       "</tbody>\n",
       "</table>\n"
      ],
      "text/latex": [
       "A data.frame: 6 × 21\n",
       "\\begin{tabular}{r|lllllllllllllllllllll}\n",
       "  & cell & AICDA & CCL3 & CD4 & CD8A & CXCL13 & E5 & E6 & E7 & ENTPD1 & ⋯ & IGHA1 & IGHG1 & KRT5 & MKI67 & MS4A1 & MZB1 & PDCD1 & TCF7 & TNFRSF4 & XCL1\\\\\n",
       "  & <chr> & <int> & <int> & <int> & <int> & <int> & <int> & <int> & <int> & <int> & ⋯ & <int> & <int> & <int> & <int> & <int> & <int> & <int> & <int> & <int> & <int>\\\\\n",
       "\\hline\n",
       "\t1 & (0.85, 1124.04)  & 0 & 0 & 0 & 0 & 0 & 0 & 0 & 0 & 0 & ⋯ & 0 & 1 & 0 & 0 & 0 & 0 & 0 & 0 & 0 & 0\\\\\n",
       "\t2 & (1.15, 1496.38)  & 0 & 0 & 0 & 0 & 1 & 0 & 0 & 0 & 0 & ⋯ & 1 & 2 & 0 & 0 & 0 & 0 & 0 & 0 & 0 & 0\\\\\n",
       "\t3 & (1.50, 1436.75)  & 0 & 0 & 0 & 0 & 0 & 0 & 0 & 0 & 0 & ⋯ & 0 & 0 & 1 & 0 & 0 & 0 & 0 & 0 & 0 & 0\\\\\n",
       "\t4 & (1.85, 1084.11)  & 0 & 0 & 0 & 0 & 0 & 0 & 0 & 0 & 0 & ⋯ & 0 & 2 & 0 & 0 & 0 & 0 & 0 & 0 & 0 & 0\\\\\n",
       "\t5 & (1.96, 1349.41)  & 0 & 0 & 0 & 0 & 0 & 0 & 0 & 0 & 0 & ⋯ & 0 & 0 & 1 & 0 & 0 & 0 & 0 & 0 & 0 & 0\\\\\n",
       "\t6 & (10.09, 2755.12) & 0 & 0 & 0 & 0 & 0 & 0 & 0 & 0 & 0 & ⋯ & 0 & 0 & 2 & 0 & 0 & 0 & 0 & 0 & 0 & 0\\\\\n",
       "\\end{tabular}\n"
      ],
      "text/markdown": [
       "\n",
       "A data.frame: 6 × 21\n",
       "\n",
       "| <!--/--> | cell &lt;chr&gt; | AICDA &lt;int&gt; | CCL3 &lt;int&gt; | CD4 &lt;int&gt; | CD8A &lt;int&gt; | CXCL13 &lt;int&gt; | E5 &lt;int&gt; | E6 &lt;int&gt; | E7 &lt;int&gt; | ENTPD1 &lt;int&gt; | ⋯ ⋯ | IGHA1 &lt;int&gt; | IGHG1 &lt;int&gt; | KRT5 &lt;int&gt; | MKI67 &lt;int&gt; | MS4A1 &lt;int&gt; | MZB1 &lt;int&gt; | PDCD1 &lt;int&gt; | TCF7 &lt;int&gt; | TNFRSF4 &lt;int&gt; | XCL1 &lt;int&gt; |\n",
       "|---|---|---|---|---|---|---|---|---|---|---|---|---|---|---|---|---|---|---|---|---|---|\n",
       "| 1 | (0.85, 1124.04)  | 0 | 0 | 0 | 0 | 0 | 0 | 0 | 0 | 0 | ⋯ | 0 | 1 | 0 | 0 | 0 | 0 | 0 | 0 | 0 | 0 |\n",
       "| 2 | (1.15, 1496.38)  | 0 | 0 | 0 | 0 | 1 | 0 | 0 | 0 | 0 | ⋯ | 1 | 2 | 0 | 0 | 0 | 0 | 0 | 0 | 0 | 0 |\n",
       "| 3 | (1.50, 1436.75)  | 0 | 0 | 0 | 0 | 0 | 0 | 0 | 0 | 0 | ⋯ | 0 | 0 | 1 | 0 | 0 | 0 | 0 | 0 | 0 | 0 |\n",
       "| 4 | (1.85, 1084.11)  | 0 | 0 | 0 | 0 | 0 | 0 | 0 | 0 | 0 | ⋯ | 0 | 2 | 0 | 0 | 0 | 0 | 0 | 0 | 0 | 0 |\n",
       "| 5 | (1.96, 1349.41)  | 0 | 0 | 0 | 0 | 0 | 0 | 0 | 0 | 0 | ⋯ | 0 | 0 | 1 | 0 | 0 | 0 | 0 | 0 | 0 | 0 |\n",
       "| 6 | (10.09, 2755.12) | 0 | 0 | 0 | 0 | 0 | 0 | 0 | 0 | 0 | ⋯ | 0 | 0 | 2 | 0 | 0 | 0 | 0 | 0 | 0 | 0 |\n",
       "\n"
      ],
      "text/plain": [
       "  cell             AICDA CCL3 CD4 CD8A CXCL13 E5 E6 E7 ENTPD1 ⋯ IGHA1 IGHG1\n",
       "1 (0.85, 1124.04)  0     0    0   0    0      0  0  0  0      ⋯ 0     1    \n",
       "2 (1.15, 1496.38)  0     0    0   0    1      0  0  0  0      ⋯ 1     2    \n",
       "3 (1.50, 1436.75)  0     0    0   0    0      0  0  0  0      ⋯ 0     0    \n",
       "4 (1.85, 1084.11)  0     0    0   0    0      0  0  0  0      ⋯ 0     2    \n",
       "5 (1.96, 1349.41)  0     0    0   0    0      0  0  0  0      ⋯ 0     0    \n",
       "6 (10.09, 2755.12) 0     0    0   0    0      0  0  0  0      ⋯ 0     0    \n",
       "  KRT5 MKI67 MS4A1 MZB1 PDCD1 TCF7 TNFRSF4 XCL1\n",
       "1 0    0     0     0    0     0    0       0   \n",
       "2 0    0     0     0    0     0    0       0   \n",
       "3 1    0     0     0    0     0    0       0   \n",
       "4 0    0     0     0    0     0    0       0   \n",
       "5 1    0     0     0    0     0    0       0   \n",
       "6 2    0     0     0    0     0    0       0   "
      ]
     },
     "metadata": {},
     "output_type": "display_data"
    }
   ],
   "source": [
    "head(raw_data)"
   ]
  },
  {
   "cell_type": "code",
   "execution_count": 4,
   "id": "b18a17a3-fcfb-49c5-9aa9-d905a1389e4c",
   "metadata": {},
   "outputs": [
    {
     "data": {
      "text/html": [
       "<style>\n",
       ".list-inline {list-style: none; margin:0; padding: 0}\n",
       ".list-inline>li {display: inline-block}\n",
       ".list-inline>li:not(:last-child)::after {content: \"\\00b7\"; padding: 0 .5ex}\n",
       "</style>\n",
       "<ol class=list-inline><li>'0.85, 1124.04'</li><li>'1.15, 1496.38'</li><li>'1.50, 1436.75'</li><li>'1.85, 1084.11'</li><li>'1.96, 1349.41'</li></ol>\n"
      ],
      "text/latex": [
       "\\begin{enumerate*}\n",
       "\\item '0.85, 1124.04'\n",
       "\\item '1.15, 1496.38'\n",
       "\\item '1.50, 1436.75'\n",
       "\\item '1.85, 1084.11'\n",
       "\\item '1.96, 1349.41'\n",
       "\\end{enumerate*}\n"
      ],
      "text/markdown": [
       "1. '0.85, 1124.04'\n",
       "2. '1.15, 1496.38'\n",
       "3. '1.50, 1436.75'\n",
       "4. '1.85, 1084.11'\n",
       "5. '1.96, 1349.41'\n",
       "\n",
       "\n"
      ],
      "text/plain": [
       "[1] \"0.85, 1124.04\" \"1.15, 1496.38\" \"1.50, 1436.75\" \"1.85, 1084.11\"\n",
       "[5] \"1.96, 1349.41\""
      ]
     },
     "metadata": {},
     "output_type": "display_data"
    }
   ],
   "source": [
    "raw_data = raw_data[-nrow(raw_data),]\n",
    "loc = raw_data[,1]\n",
    "loc = gsub('[()]','',loc)\n",
    "loc[1:5]"
   ]
  },
  {
   "cell_type": "code",
   "execution_count": 5,
   "id": "1186f689-aba0-43ba-8b47-0ea1aa2d6799",
   "metadata": {},
   "outputs": [],
   "source": [
    "x = as.numeric(unlist(lapply(loc,function(x){\n",
    "    unlist(str_split(x,', '))[1]\n",
    "})))\n",
    "y = as.numeric(unlist(lapply(loc,function(x){\n",
    "    unlist(str_split(x,', '))[2]\n",
    "})))"
   ]
  },
  {
   "cell_type": "code",
   "execution_count": 6,
   "id": "ae672005-11b2-4e33-9649-c7015644c426",
   "metadata": {},
   "outputs": [
    {
     "data": {
      "text/html": [
       "<table class=\"dataframe\">\n",
       "<caption>A data.frame: 6 × 21</caption>\n",
       "<thead>\n",
       "\t<tr><th></th><th scope=col>cell</th><th scope=col>AICDA</th><th scope=col>CCL3</th><th scope=col>CD4</th><th scope=col>CD8A</th><th scope=col>CXCL13</th><th scope=col>E5</th><th scope=col>E6</th><th scope=col>E7</th><th scope=col>ENTPD1</th><th scope=col>⋯</th><th scope=col>IGHA1</th><th scope=col>IGHG1</th><th scope=col>KRT5</th><th scope=col>MKI67</th><th scope=col>MS4A1</th><th scope=col>MZB1</th><th scope=col>PDCD1</th><th scope=col>TCF7</th><th scope=col>TNFRSF4</th><th scope=col>XCL1</th></tr>\n",
       "\t<tr><th></th><th scope=col>&lt;chr&gt;</th><th scope=col>&lt;int&gt;</th><th scope=col>&lt;int&gt;</th><th scope=col>&lt;int&gt;</th><th scope=col>&lt;int&gt;</th><th scope=col>&lt;int&gt;</th><th scope=col>&lt;int&gt;</th><th scope=col>&lt;int&gt;</th><th scope=col>&lt;int&gt;</th><th scope=col>&lt;int&gt;</th><th scope=col>⋯</th><th scope=col>&lt;int&gt;</th><th scope=col>&lt;int&gt;</th><th scope=col>&lt;int&gt;</th><th scope=col>&lt;int&gt;</th><th scope=col>&lt;int&gt;</th><th scope=col>&lt;int&gt;</th><th scope=col>&lt;int&gt;</th><th scope=col>&lt;int&gt;</th><th scope=col>&lt;int&gt;</th><th scope=col>&lt;int&gt;</th></tr>\n",
       "</thead>\n",
       "<tbody>\n",
       "\t<tr><th scope=row>1</th><td>(0.85, 1124.04) </td><td>0</td><td>0</td><td>0</td><td>0</td><td>0</td><td>0</td><td>0</td><td>0</td><td>0</td><td>⋯</td><td>0</td><td>1</td><td>0</td><td>0</td><td>0</td><td>0</td><td>0</td><td>0</td><td>0</td><td>0</td></tr>\n",
       "\t<tr><th scope=row>2</th><td>(1.15, 1496.38) </td><td>0</td><td>0</td><td>0</td><td>0</td><td>1</td><td>0</td><td>0</td><td>0</td><td>0</td><td>⋯</td><td>1</td><td>2</td><td>0</td><td>0</td><td>0</td><td>0</td><td>0</td><td>0</td><td>0</td><td>0</td></tr>\n",
       "\t<tr><th scope=row>3</th><td>(1.50, 1436.75) </td><td>0</td><td>0</td><td>0</td><td>0</td><td>0</td><td>0</td><td>0</td><td>0</td><td>0</td><td>⋯</td><td>0</td><td>0</td><td>1</td><td>0</td><td>0</td><td>0</td><td>0</td><td>0</td><td>0</td><td>0</td></tr>\n",
       "\t<tr><th scope=row>4</th><td>(1.85, 1084.11) </td><td>0</td><td>0</td><td>0</td><td>0</td><td>0</td><td>0</td><td>0</td><td>0</td><td>0</td><td>⋯</td><td>0</td><td>2</td><td>0</td><td>0</td><td>0</td><td>0</td><td>0</td><td>0</td><td>0</td><td>0</td></tr>\n",
       "\t<tr><th scope=row>5</th><td>(1.96, 1349.41) </td><td>0</td><td>0</td><td>0</td><td>0</td><td>0</td><td>0</td><td>0</td><td>0</td><td>0</td><td>⋯</td><td>0</td><td>0</td><td>1</td><td>0</td><td>0</td><td>0</td><td>0</td><td>0</td><td>0</td><td>0</td></tr>\n",
       "\t<tr><th scope=row>6</th><td>(10.09, 2755.12)</td><td>0</td><td>0</td><td>0</td><td>0</td><td>0</td><td>0</td><td>0</td><td>0</td><td>0</td><td>⋯</td><td>0</td><td>0</td><td>2</td><td>0</td><td>0</td><td>0</td><td>0</td><td>0</td><td>0</td><td>0</td></tr>\n",
       "</tbody>\n",
       "</table>\n"
      ],
      "text/latex": [
       "A data.frame: 6 × 21\n",
       "\\begin{tabular}{r|lllllllllllllllllllll}\n",
       "  & cell & AICDA & CCL3 & CD4 & CD8A & CXCL13 & E5 & E6 & E7 & ENTPD1 & ⋯ & IGHA1 & IGHG1 & KRT5 & MKI67 & MS4A1 & MZB1 & PDCD1 & TCF7 & TNFRSF4 & XCL1\\\\\n",
       "  & <chr> & <int> & <int> & <int> & <int> & <int> & <int> & <int> & <int> & <int> & ⋯ & <int> & <int> & <int> & <int> & <int> & <int> & <int> & <int> & <int> & <int>\\\\\n",
       "\\hline\n",
       "\t1 & (0.85, 1124.04)  & 0 & 0 & 0 & 0 & 0 & 0 & 0 & 0 & 0 & ⋯ & 0 & 1 & 0 & 0 & 0 & 0 & 0 & 0 & 0 & 0\\\\\n",
       "\t2 & (1.15, 1496.38)  & 0 & 0 & 0 & 0 & 1 & 0 & 0 & 0 & 0 & ⋯ & 1 & 2 & 0 & 0 & 0 & 0 & 0 & 0 & 0 & 0\\\\\n",
       "\t3 & (1.50, 1436.75)  & 0 & 0 & 0 & 0 & 0 & 0 & 0 & 0 & 0 & ⋯ & 0 & 0 & 1 & 0 & 0 & 0 & 0 & 0 & 0 & 0\\\\\n",
       "\t4 & (1.85, 1084.11)  & 0 & 0 & 0 & 0 & 0 & 0 & 0 & 0 & 0 & ⋯ & 0 & 2 & 0 & 0 & 0 & 0 & 0 & 0 & 0 & 0\\\\\n",
       "\t5 & (1.96, 1349.41)  & 0 & 0 & 0 & 0 & 0 & 0 & 0 & 0 & 0 & ⋯ & 0 & 0 & 1 & 0 & 0 & 0 & 0 & 0 & 0 & 0\\\\\n",
       "\t6 & (10.09, 2755.12) & 0 & 0 & 0 & 0 & 0 & 0 & 0 & 0 & 0 & ⋯ & 0 & 0 & 2 & 0 & 0 & 0 & 0 & 0 & 0 & 0\\\\\n",
       "\\end{tabular}\n"
      ],
      "text/markdown": [
       "\n",
       "A data.frame: 6 × 21\n",
       "\n",
       "| <!--/--> | cell &lt;chr&gt; | AICDA &lt;int&gt; | CCL3 &lt;int&gt; | CD4 &lt;int&gt; | CD8A &lt;int&gt; | CXCL13 &lt;int&gt; | E5 &lt;int&gt; | E6 &lt;int&gt; | E7 &lt;int&gt; | ENTPD1 &lt;int&gt; | ⋯ ⋯ | IGHA1 &lt;int&gt; | IGHG1 &lt;int&gt; | KRT5 &lt;int&gt; | MKI67 &lt;int&gt; | MS4A1 &lt;int&gt; | MZB1 &lt;int&gt; | PDCD1 &lt;int&gt; | TCF7 &lt;int&gt; | TNFRSF4 &lt;int&gt; | XCL1 &lt;int&gt; |\n",
       "|---|---|---|---|---|---|---|---|---|---|---|---|---|---|---|---|---|---|---|---|---|---|\n",
       "| 1 | (0.85, 1124.04)  | 0 | 0 | 0 | 0 | 0 | 0 | 0 | 0 | 0 | ⋯ | 0 | 1 | 0 | 0 | 0 | 0 | 0 | 0 | 0 | 0 |\n",
       "| 2 | (1.15, 1496.38)  | 0 | 0 | 0 | 0 | 1 | 0 | 0 | 0 | 0 | ⋯ | 1 | 2 | 0 | 0 | 0 | 0 | 0 | 0 | 0 | 0 |\n",
       "| 3 | (1.50, 1436.75)  | 0 | 0 | 0 | 0 | 0 | 0 | 0 | 0 | 0 | ⋯ | 0 | 0 | 1 | 0 | 0 | 0 | 0 | 0 | 0 | 0 |\n",
       "| 4 | (1.85, 1084.11)  | 0 | 0 | 0 | 0 | 0 | 0 | 0 | 0 | 0 | ⋯ | 0 | 2 | 0 | 0 | 0 | 0 | 0 | 0 | 0 | 0 |\n",
       "| 5 | (1.96, 1349.41)  | 0 | 0 | 0 | 0 | 0 | 0 | 0 | 0 | 0 | ⋯ | 0 | 0 | 1 | 0 | 0 | 0 | 0 | 0 | 0 | 0 |\n",
       "| 6 | (10.09, 2755.12) | 0 | 0 | 0 | 0 | 0 | 0 | 0 | 0 | 0 | ⋯ | 0 | 0 | 2 | 0 | 0 | 0 | 0 | 0 | 0 | 0 |\n",
       "\n"
      ],
      "text/plain": [
       "  cell             AICDA CCL3 CD4 CD8A CXCL13 E5 E6 E7 ENTPD1 ⋯ IGHA1 IGHG1\n",
       "1 (0.85, 1124.04)  0     0    0   0    0      0  0  0  0      ⋯ 0     1    \n",
       "2 (1.15, 1496.38)  0     0    0   0    1      0  0  0  0      ⋯ 1     2    \n",
       "3 (1.50, 1436.75)  0     0    0   0    0      0  0  0  0      ⋯ 0     0    \n",
       "4 (1.85, 1084.11)  0     0    0   0    0      0  0  0  0      ⋯ 0     2    \n",
       "5 (1.96, 1349.41)  0     0    0   0    0      0  0  0  0      ⋯ 0     0    \n",
       "6 (10.09, 2755.12) 0     0    0   0    0      0  0  0  0      ⋯ 0     0    \n",
       "  KRT5 MKI67 MS4A1 MZB1 PDCD1 TCF7 TNFRSF4 XCL1\n",
       "1 0    0     0     0    0     0    0       0   \n",
       "2 0    0     0     0    0     0    0       0   \n",
       "3 1    0     0     0    0     0    0       0   \n",
       "4 0    0     0     0    0     0    0       0   \n",
       "5 1    0     0     0    0     0    0       0   \n",
       "6 2    0     0     0    0     0    0       0   "
      ]
     },
     "metadata": {},
     "output_type": "display_data"
    }
   ],
   "source": [
    "head(raw_data)"
   ]
  },
  {
   "cell_type": "code",
   "execution_count": 7,
   "id": "11625ffe-f9b1-41d9-875b-46c8c60b9a64",
   "metadata": {},
   "outputs": [],
   "source": [
    "raw_data = raw_data[,-1]\n",
    "raw_data = t(raw_data)\n",
    "raw_data = as.data.frame(raw_data)\n",
    "colnames(raw_data) = paste0('c',1:ncol(raw_data))"
   ]
  },
  {
   "cell_type": "code",
   "execution_count": 8,
   "id": "5a8bc152-9a51-48be-9b89-a253a192b4ac",
   "metadata": {},
   "outputs": [
    {
     "data": {
      "text/html": [
       "<table class=\"dataframe\">\n",
       "<caption>A data.frame: 6 × 43239</caption>\n",
       "<thead>\n",
       "\t<tr><th></th><th scope=col>c1</th><th scope=col>c2</th><th scope=col>c3</th><th scope=col>c4</th><th scope=col>c5</th><th scope=col>c6</th><th scope=col>c7</th><th scope=col>c8</th><th scope=col>c9</th><th scope=col>c10</th><th scope=col>⋯</th><th scope=col>c43230</th><th scope=col>c43231</th><th scope=col>c43232</th><th scope=col>c43233</th><th scope=col>c43234</th><th scope=col>c43235</th><th scope=col>c43236</th><th scope=col>c43237</th><th scope=col>c43238</th><th scope=col>c43239</th></tr>\n",
       "\t<tr><th></th><th scope=col>&lt;int&gt;</th><th scope=col>&lt;int&gt;</th><th scope=col>&lt;int&gt;</th><th scope=col>&lt;int&gt;</th><th scope=col>&lt;int&gt;</th><th scope=col>&lt;int&gt;</th><th scope=col>&lt;int&gt;</th><th scope=col>&lt;int&gt;</th><th scope=col>&lt;int&gt;</th><th scope=col>&lt;int&gt;</th><th scope=col>⋯</th><th scope=col>&lt;int&gt;</th><th scope=col>&lt;int&gt;</th><th scope=col>&lt;int&gt;</th><th scope=col>&lt;int&gt;</th><th scope=col>&lt;int&gt;</th><th scope=col>&lt;int&gt;</th><th scope=col>&lt;int&gt;</th><th scope=col>&lt;int&gt;</th><th scope=col>&lt;int&gt;</th><th scope=col>&lt;int&gt;</th></tr>\n",
       "</thead>\n",
       "<tbody>\n",
       "\t<tr><th scope=row>AICDA</th><td>0</td><td>0</td><td>0</td><td>0</td><td>0</td><td>0</td><td>0</td><td>0</td><td>0</td><td>0</td><td>⋯</td><td>0</td><td>0</td><td>0</td><td>0</td><td>0</td><td>0</td><td>0</td><td>0</td><td>0</td><td>0</td></tr>\n",
       "\t<tr><th scope=row>CCL3</th><td>0</td><td>0</td><td>0</td><td>0</td><td>0</td><td>0</td><td>0</td><td>0</td><td>0</td><td>0</td><td>⋯</td><td>0</td><td>0</td><td>0</td><td>0</td><td>0</td><td>0</td><td>0</td><td>0</td><td>0</td><td>0</td></tr>\n",
       "\t<tr><th scope=row>CD4</th><td>0</td><td>0</td><td>0</td><td>0</td><td>0</td><td>0</td><td>0</td><td>0</td><td>0</td><td>0</td><td>⋯</td><td>0</td><td>0</td><td>0</td><td>0</td><td>0</td><td>0</td><td>0</td><td>0</td><td>0</td><td>0</td></tr>\n",
       "\t<tr><th scope=row>CD8A</th><td>0</td><td>0</td><td>0</td><td>0</td><td>0</td><td>0</td><td>0</td><td>0</td><td>0</td><td>0</td><td>⋯</td><td>0</td><td>0</td><td>0</td><td>0</td><td>0</td><td>0</td><td>0</td><td>0</td><td>0</td><td>0</td></tr>\n",
       "\t<tr><th scope=row>CXCL13</th><td>0</td><td>1</td><td>0</td><td>0</td><td>0</td><td>0</td><td>0</td><td>0</td><td>0</td><td>2</td><td>⋯</td><td>0</td><td>0</td><td>0</td><td>0</td><td>0</td><td>0</td><td>0</td><td>0</td><td>1</td><td>0</td></tr>\n",
       "\t<tr><th scope=row>E5</th><td>0</td><td>0</td><td>0</td><td>0</td><td>0</td><td>0</td><td>0</td><td>0</td><td>0</td><td>0</td><td>⋯</td><td>0</td><td>0</td><td>0</td><td>0</td><td>0</td><td>0</td><td>0</td><td>0</td><td>1</td><td>0</td></tr>\n",
       "</tbody>\n",
       "</table>\n"
      ],
      "text/latex": [
       "A data.frame: 6 × 43239\n",
       "\\begin{tabular}{r|lllllllllllllllllllll}\n",
       "  & c1 & c2 & c3 & c4 & c5 & c6 & c7 & c8 & c9 & c10 & ⋯ & c43230 & c43231 & c43232 & c43233 & c43234 & c43235 & c43236 & c43237 & c43238 & c43239\\\\\n",
       "  & <int> & <int> & <int> & <int> & <int> & <int> & <int> & <int> & <int> & <int> & ⋯ & <int> & <int> & <int> & <int> & <int> & <int> & <int> & <int> & <int> & <int>\\\\\n",
       "\\hline\n",
       "\tAICDA & 0 & 0 & 0 & 0 & 0 & 0 & 0 & 0 & 0 & 0 & ⋯ & 0 & 0 & 0 & 0 & 0 & 0 & 0 & 0 & 0 & 0\\\\\n",
       "\tCCL3 & 0 & 0 & 0 & 0 & 0 & 0 & 0 & 0 & 0 & 0 & ⋯ & 0 & 0 & 0 & 0 & 0 & 0 & 0 & 0 & 0 & 0\\\\\n",
       "\tCD4 & 0 & 0 & 0 & 0 & 0 & 0 & 0 & 0 & 0 & 0 & ⋯ & 0 & 0 & 0 & 0 & 0 & 0 & 0 & 0 & 0 & 0\\\\\n",
       "\tCD8A & 0 & 0 & 0 & 0 & 0 & 0 & 0 & 0 & 0 & 0 & ⋯ & 0 & 0 & 0 & 0 & 0 & 0 & 0 & 0 & 0 & 0\\\\\n",
       "\tCXCL13 & 0 & 1 & 0 & 0 & 0 & 0 & 0 & 0 & 0 & 2 & ⋯ & 0 & 0 & 0 & 0 & 0 & 0 & 0 & 0 & 1 & 0\\\\\n",
       "\tE5 & 0 & 0 & 0 & 0 & 0 & 0 & 0 & 0 & 0 & 0 & ⋯ & 0 & 0 & 0 & 0 & 0 & 0 & 0 & 0 & 1 & 0\\\\\n",
       "\\end{tabular}\n"
      ],
      "text/markdown": [
       "\n",
       "A data.frame: 6 × 43239\n",
       "\n",
       "| <!--/--> | c1 &lt;int&gt; | c2 &lt;int&gt; | c3 &lt;int&gt; | c4 &lt;int&gt; | c5 &lt;int&gt; | c6 &lt;int&gt; | c7 &lt;int&gt; | c8 &lt;int&gt; | c9 &lt;int&gt; | c10 &lt;int&gt; | ⋯ ⋯ | c43230 &lt;int&gt; | c43231 &lt;int&gt; | c43232 &lt;int&gt; | c43233 &lt;int&gt; | c43234 &lt;int&gt; | c43235 &lt;int&gt; | c43236 &lt;int&gt; | c43237 &lt;int&gt; | c43238 &lt;int&gt; | c43239 &lt;int&gt; |\n",
       "|---|---|---|---|---|---|---|---|---|---|---|---|---|---|---|---|---|---|---|---|---|---|\n",
       "| AICDA | 0 | 0 | 0 | 0 | 0 | 0 | 0 | 0 | 0 | 0 | ⋯ | 0 | 0 | 0 | 0 | 0 | 0 | 0 | 0 | 0 | 0 |\n",
       "| CCL3 | 0 | 0 | 0 | 0 | 0 | 0 | 0 | 0 | 0 | 0 | ⋯ | 0 | 0 | 0 | 0 | 0 | 0 | 0 | 0 | 0 | 0 |\n",
       "| CD4 | 0 | 0 | 0 | 0 | 0 | 0 | 0 | 0 | 0 | 0 | ⋯ | 0 | 0 | 0 | 0 | 0 | 0 | 0 | 0 | 0 | 0 |\n",
       "| CD8A | 0 | 0 | 0 | 0 | 0 | 0 | 0 | 0 | 0 | 0 | ⋯ | 0 | 0 | 0 | 0 | 0 | 0 | 0 | 0 | 0 | 0 |\n",
       "| CXCL13 | 0 | 1 | 0 | 0 | 0 | 0 | 0 | 0 | 0 | 2 | ⋯ | 0 | 0 | 0 | 0 | 0 | 0 | 0 | 0 | 1 | 0 |\n",
       "| E5 | 0 | 0 | 0 | 0 | 0 | 0 | 0 | 0 | 0 | 0 | ⋯ | 0 | 0 | 0 | 0 | 0 | 0 | 0 | 0 | 1 | 0 |\n",
       "\n"
      ],
      "text/plain": [
       "       c1 c2 c3 c4 c5 c6 c7 c8 c9 c10 ⋯ c43230 c43231 c43232 c43233 c43234\n",
       "AICDA  0  0  0  0  0  0  0  0  0  0   ⋯ 0      0      0      0      0     \n",
       "CCL3   0  0  0  0  0  0  0  0  0  0   ⋯ 0      0      0      0      0     \n",
       "CD4    0  0  0  0  0  0  0  0  0  0   ⋯ 0      0      0      0      0     \n",
       "CD8A   0  0  0  0  0  0  0  0  0  0   ⋯ 0      0      0      0      0     \n",
       "CXCL13 0  1  0  0  0  0  0  0  0  2   ⋯ 0      0      0      0      0     \n",
       "E5     0  0  0  0  0  0  0  0  0  0   ⋯ 0      0      0      0      0     \n",
       "       c43235 c43236 c43237 c43238 c43239\n",
       "AICDA  0      0      0      0      0     \n",
       "CCL3   0      0      0      0      0     \n",
       "CD4    0      0      0      0      0     \n",
       "CD8A   0      0      0      0      0     \n",
       "CXCL13 0      0      0      1      0     \n",
       "E5     0      0      0      1      0     "
      ]
     },
     "metadata": {},
     "output_type": "display_data"
    }
   ],
   "source": [
    "head(raw_data)"
   ]
  },
  {
   "cell_type": "code",
   "execution_count": 9,
   "id": "5a7cc598-b319-443f-9327-424d3df27f04",
   "metadata": {},
   "outputs": [
    {
     "name": "stderr",
     "output_type": "stream",
     "text": [
      "Warning message:\n",
      "“Data is of class data.frame. Coercing to dgCMatrix.”\n"
     ]
    }
   ],
   "source": [
    "spatial <- CreateSeuratObject(counts = raw_data, assay = \"RNA\")\n",
    "coords = data.frame(x = x, y = y, cell = colnames(spatial))\n",
    "cents <- CreateCentroids(coords)\n",
    "segmentations.data <- list(\n",
    "    \"centroids\" = cents\n",
    ")\n",
    "coords <- CreateFOV(\n",
    "    coords = segmentations.data,\n",
    "    type = \"centroids\",\n",
    "    molecules = NULL,\n",
    "    assay = \"RNA\"\n",
    "  )\n",
    "spatial[[\"p2s2\"]] <- coords"
   ]
  },
  {
   "cell_type": "code",
   "execution_count": 10,
   "id": "4900cb85-9df4-4450-9a1a-d4477b5c24d4",
   "metadata": {},
   "outputs": [],
   "source": [
    "mat = as.data.frame(spatial@assays$RNA@layers$counts)"
   ]
  },
  {
   "cell_type": "code",
   "execution_count": 11,
   "id": "8a2152ed-4529-4e00-a5ff-3d4d78b9a7c6",
   "metadata": {},
   "outputs": [],
   "source": [
    "rownames(mat) = rownames(spatial)"
   ]
  },
  {
   "cell_type": "code",
   "execution_count": 12,
   "id": "5f3f4642-95ad-46b2-b111-c517aeb4b2db",
   "metadata": {},
   "outputs": [
    {
     "data": {
      "image/png": "[encoded data removed]",
      "text/plain": [
       "plot without title"
      ]
     },
     "metadata": {
      "image/png": {
       "height": 180,
       "width": 180
      }
     },
     "output_type": "display_data"
    }
   ],
   "source": [
    "options(repr.plot.width = 3, repr.plot.height = 3)\n",
    "# suppressWarnings(ImageFeaturePlot(spatial, features = \"E6\",size = 1,dark.background = FALSE))\n",
    "suppressWarnings(ImageFeaturePlot(spatial[,mat['E5',] > 0 & mat['KRT5',] > 0], features = \"E5\"))"
   ]
  },
  {
   "cell_type": "code",
   "execution_count": 13,
   "id": "d58d109e-c5a2-4e57-a896-24d604ca8188",
   "metadata": {},
   "outputs": [
    {
     "data": {
      "image/png": "[encoded data removed]",
      "text/plain": [
       "plot without title"
      ]
     },
     "metadata": {
      "image/png": {
       "height": 180,
       "width": 180
      }
     },
     "output_type": "display_data"
    }
   ],
   "source": [
    "suppressWarnings(ImageFeaturePlot(spatial[,mat['E6',] > 0 & mat['KRT5',] > 0], features = \"E6\"))"
   ]
  },
  {
   "cell_type": "code",
   "execution_count": 14,
   "id": "f0e7d571-f98a-4705-ac82-cf4172484898",
   "metadata": {},
   "outputs": [
    {
     "data": {
      "image/png": "[encoded data removed]",
      "text/plain": [
       "plot without title"
      ]
     },
     "metadata": {
      "image/png": {
       "height": 180,
       "width": 180
      }
     },
     "output_type": "display_data"
    }
   ],
   "source": [
    "suppressWarnings(ImageFeaturePlot(spatial[,mat['E7',] > 0 & mat['KRT5',] > 0], features = \"E7\"))"
   ]
  },
  {
   "cell_type": "code",
   "execution_count": 15,
   "id": "674ebf7f-093e-4d67-9fda-687eb8ed0255",
   "metadata": {},
   "outputs": [
    {
     "data": {
      "text/html": [
       "187"
      ],
      "text/latex": [
       "187"
      ],
      "text/markdown": [
       "187"
      ],
      "text/plain": [
       "[1] 187"
      ]
     },
     "metadata": {},
     "output_type": "display_data"
    }
   ],
   "source": [
    "sum(mat['ERO1A',] >0 & mat['KRT5',] > 0 & mat['MKI67',] ==0)"
   ]
  },
  {
   "cell_type": "code",
   "execution_count": 16,
   "id": "5996b824-295f-46d7-8957-3e3bcd951429",
   "metadata": {},
   "outputs": [
    {
     "data": {
      "text/html": [
       "2049"
      ],
      "text/latex": [
       "2049"
      ],
      "text/markdown": [
       "2049"
      ],
      "text/plain": [
       "[1] 2049"
      ]
     },
     "metadata": {},
     "output_type": "display_data"
    }
   ],
   "source": [
    "sum(mat['ERO1A',] == 0 & mat['KRT5',] > 0 & mat['MKI67',] > 0)"
   ]
  },
  {
   "cell_type": "code",
   "execution_count": 17,
   "id": "c66abb23-4dac-4a5b-8d57-e7b6c3cf0020",
   "metadata": {},
   "outputs": [
    {
     "data": {
      "image/png": "[encoded data removed]",
      "text/plain": [
       "plot without title"
      ]
     },
     "metadata": {
      "image/png": {
       "height": 180,
       "width": 180
      }
     },
     "output_type": "display_data"
    }
   ],
   "source": [
    "suppressWarnings(ImageFeaturePlot(spatial[,mat['ERO1A',] >0 & mat['KRT5',] > 0 & mat['MKI67',] ==0], features = \"ERO1A\"))"
   ]
  },
  {
   "cell_type": "code",
   "execution_count": 18,
   "id": "b42ed2a0-ce6f-48ea-afe4-c31e59d70d92",
   "metadata": {},
   "outputs": [
    {
     "data": {
      "image/png": "[encoded data removed]",
      "text/plain": [
       "plot without title"
      ]
     },
     "metadata": {
      "image/png": {
       "height": 180,
       "width": 180
      }
     },
     "output_type": "display_data"
    }
   ],
   "source": [
    "suppressWarnings(ImageFeaturePlot(spatial[,mat['ERO1A',] == 0 & mat['KRT5',] > 0 & mat['MKI67',] > 0], features = \"MKI67\"))"
   ]
  },
  {
   "cell_type": "code",
   "execution_count": 19,
   "id": "376bf0fc-5d63-4a81-bfaa-2b2dbe1c10e5",
   "metadata": {},
   "outputs": [
    {
     "data": {
      "image/png": "[encoded data removed]",
      "text/plain": [
       "plot without title"
      ]
     },
     "metadata": {
      "image/png": {
       "height": 180,
       "width": 180
      }
     },
     "output_type": "display_data"
    }
   ],
   "source": [
    "suppressWarnings(ImageFeaturePlot(spatial[,mat['CD8A',] > 0], features = \"CD8A\"))"
   ]
  },
  {
   "cell_type": "code",
   "execution_count": 20,
   "id": "35b175d3-8196-49e8-b8d7-0170e8551575",
   "metadata": {},
   "outputs": [
    {
     "data": {
      "image/png": "[encoded data removed]",
      "text/plain": [
       "plot without title"
      ]
     },
     "metadata": {
      "image/png": {
       "height": 180,
       "width": 180
      }
     },
     "output_type": "display_data"
    }
   ],
   "source": [
    "suppressWarnings(ImageFeaturePlot(spatial[,mat['CD4',] > 0], features = \"CD4\"))"
   ]
  },
  {
   "cell_type": "code",
   "execution_count": 21,
   "id": "be5ea3c9-b291-411a-8fb2-2ef0e101fe71",
   "metadata": {},
   "outputs": [
    {
     "data": {
      "image/png": "[encoded data removed]",
      "text/plain": [
       "plot without title"
      ]
     },
     "metadata": {
      "image/png": {
       "height": 180,
       "width": 180
      }
     },
     "output_type": "display_data"
    }
   ],
   "source": [
    "suppressWarnings(ImageFeaturePlot(spatial[,mat['MZB1',] > 0], features = \"MZB1\"))"
   ]
  },
  {
   "cell_type": "code",
   "execution_count": 22,
   "id": "ba280e85-98ed-40f5-946e-ad05804798cf",
   "metadata": {},
   "outputs": [
    {
     "data": {
      "image/png": "[encoded data removed]",
      "text/plain": [
       "plot without title"
      ]
     },
     "metadata": {
      "image/png": {
       "height": 180,
       "width": 180
      }
     },
     "output_type": "display_data"
    }
   ],
   "source": [
    "suppressWarnings(ImageFeaturePlot(spatial[,mat['MS4A1',] > 0], features = \"MS4A1\"))"
   ]
  },
  {
   "cell_type": "code",
   "execution_count": 23,
   "id": "423c0c2a-54d5-479e-8947-6feb64f98d03",
   "metadata": {},
   "outputs": [
    {
     "data": {
      "image/png": "[encoded data removed]",
      "text/plain": [
       "plot without title"
      ]
     },
     "metadata": {
      "image/png": {
       "height": 180,
       "width": 180
      }
     },
     "output_type": "display_data"
    }
   ],
   "source": [
    "suppressWarnings(ImageFeaturePlot(spatial[,mat['CD4',] > 0 & mat['TNFRSF4',] > 0], features = \"TNFRSF4\"))"
   ]
  },
  {
   "cell_type": "code",
   "execution_count": 24,
   "id": "515502d8-d9e5-4999-b174-e329a5f187ba",
   "metadata": {},
   "outputs": [
    {
     "data": {
      "image/png": "[encoded data removed]",
      "text/plain": [
       "plot without title"
      ]
     },
     "metadata": {
      "image/png": {
       "height": 180,
       "width": 180
      }
     },
     "output_type": "display_data"
    }
   ],
   "source": [
    "suppressWarnings(ImageFeaturePlot(spatial[,mat['CD4',] > 0 & mat['CXCL13',] > 0], features = \"CXCL13\"))"
   ]
  },
  {
   "cell_type": "code",
   "execution_count": 25,
   "id": "0641a149-bc1c-4b2f-ba8a-6a99ae4afc0a",
   "metadata": {},
   "outputs": [
    {
     "data": {
      "image/png": "[encoded data removed]",
      "text/plain": [
       "plot without title"
      ]
     },
     "metadata": {
      "image/png": {
       "height": 180,
       "width": 180
      }
     },
     "output_type": "display_data"
    }
   ],
   "source": [
    "suppressWarnings(ImageFeaturePlot(spatial[,mat['CD8A',] > 0 & mat['TCF7',] > 0], features = \"TCF7\"))"
   ]
  },
  {
   "cell_type": "code",
   "execution_count": 26,
   "id": "a695e480-9d42-4b95-ab4a-80cbe39c4ed1",
   "metadata": {},
   "outputs": [],
   "source": [
    "# suppressWarnings(ImageFeaturePlot(spatial[,mat['CD8A',] > 0 & mat['ENTPD1',] > 0], features = \"ENTPD1\"))\n",
    "# No cells found"
   ]
  },
  {
   "cell_type": "code",
   "execution_count": 27,
   "id": "5c98a6cd-7824-4d65-b8b5-0b6629118795",
   "metadata": {},
   "outputs": [
    {
     "data": {
      "image/png": "[encoded data removed]",
      "text/plain": [
       "plot without title"
      ]
     },
     "metadata": {
      "image/png": {
       "height": 180,
       "width": 180
      }
     },
     "output_type": "display_data"
    }
   ],
   "source": [
    "suppressWarnings(ImageFeaturePlot(spatial[,mat['CD8A',] > 0 & mat['CCL3',] > 0], features = \"CCL3\"))"
   ]
  },
  {
   "cell_type": "code",
   "execution_count": 28,
   "id": "ab4a65fb-01f3-4440-8ce2-30f0635a6d13",
   "metadata": {},
   "outputs": [
    {
     "data": {
      "image/png": "[encoded data removed]",
      "text/plain": [
       "plot without title"
      ]
     },
     "metadata": {
      "image/png": {
       "height": 180,
       "width": 180
      }
     },
     "output_type": "display_data"
    }
   ],
   "source": [
    "suppressWarnings(ImageFeaturePlot(spatial[,mat['CD8A',] > 0 & mat['PDCD1',] > 0], features = \"PDCD1\"))"
   ]
  },
  {
   "cell_type": "code",
   "execution_count": 29,
   "id": "924a3bce-e022-4555-a8d6-e30ae4095aa4",
   "metadata": {},
   "outputs": [],
   "source": [
    "#No cells found\n",
    "#suppressWarnings(ImageFeaturePlot(spatial[,mat['CD8A',] > 0 & mat['XCL1',] > 0], features = \"XCL1\"))"
   ]
  },
  {
   "cell_type": "code",
   "execution_count": 30,
   "id": "4f81318d-7a7e-425a-ac30-e03b142a6f1a",
   "metadata": {},
   "outputs": [],
   "source": [
    "#No cells found\n",
    "#suppressWarnings(ImageFeaturePlot(spatial[,mat['MS4A1',] > 0 & mat['AICDA',] > 0], features = \"AICDA\"))"
   ]
  },
  {
   "cell_type": "code",
   "execution_count": 31,
   "id": "e16132fc-031a-4259-adc9-8fed2e58fa50",
   "metadata": {},
   "outputs": [
    {
     "data": {
      "image/png": "[encoded data removed]",
      "text/plain": [
       "plot without title"
      ]
     },
     "metadata": {
      "image/png": {
       "height": 180,
       "width": 180
      }
     },
     "output_type": "display_data"
    }
   ],
   "source": [
    "suppressWarnings(ImageFeaturePlot(spatial[,mat['MZB1',] > 0 & mat['IGHG1',] > 0], features = \"IGHG1\"))"
   ]
  },
  {
   "cell_type": "code",
   "execution_count": 32,
   "id": "643aa72d-c2d0-4d35-91c3-49145092deb5",
   "metadata": {},
   "outputs": [
    {
     "data": {
      "image/png": "[encoded data removed]",
      "text/plain": [
       "plot without title"
      ]
     },
     "metadata": {
      "image/png": {
       "height": 180,
       "width": 180
      }
     },
     "output_type": "display_data"
    }
   ],
   "source": [
    "suppressWarnings(ImageFeaturePlot(spatial[,mat['MZB1',] > 0 & mat['IGHA1',] > 0], features = \"IGHA1\"))"
   ]
  },
  {
   "cell_type": "code",
   "execution_count": 33,
   "id": "17c8e7df-66d4-4fba-b62c-59ed9a673fb3",
   "metadata": {},
   "outputs": [
    {
     "data": {
      "text/html": [
       "<style>\n",
       ".list-inline {list-style: none; margin:0; padding: 0}\n",
       ".list-inline>li {display: inline-block}\n",
       ".list-inline>li:not(:last-child)::after {content: \"\\00b7\"; padding: 0 .5ex}\n",
       "</style>\n",
       "<ol class=list-inline><li>'AICDA'</li><li>'CCL3'</li><li>'CD4'</li><li>'CD8A'</li><li>'CXCL13'</li><li>'E5'</li><li>'E6'</li><li>'E7'</li><li>'ENTPD1'</li><li>'ERO1A'</li><li>'IGHA1'</li><li>'IGHG1'</li><li>'KRT5'</li><li>'MKI67'</li><li>'MS4A1'</li><li>'MZB1'</li><li>'PDCD1'</li><li>'TCF7'</li><li>'TNFRSF4'</li><li>'XCL1'</li></ol>\n"
      ],
      "text/latex": [
       "\\begin{enumerate*}\n",
       "\\item 'AICDA'\n",
       "\\item 'CCL3'\n",
       "\\item 'CD4'\n",
       "\\item 'CD8A'\n",
       "\\item 'CXCL13'\n",
       "\\item 'E5'\n",
       "\\item 'E6'\n",
       "\\item 'E7'\n",
       "\\item 'ENTPD1'\n",
       "\\item 'ERO1A'\n",
       "\\item 'IGHA1'\n",
       "\\item 'IGHG1'\n",
       "\\item 'KRT5'\n",
       "\\item 'MKI67'\n",
       "\\item 'MS4A1'\n",
       "\\item 'MZB1'\n",
       "\\item 'PDCD1'\n",
       "\\item 'TCF7'\n",
       "\\item 'TNFRSF4'\n",
       "\\item 'XCL1'\n",
       "\\end{enumerate*}\n"
      ],
      "text/markdown": [
       "1. 'AICDA'\n",
       "2. 'CCL3'\n",
       "3. 'CD4'\n",
       "4. 'CD8A'\n",
       "5. 'CXCL13'\n",
       "6. 'E5'\n",
       "7. 'E6'\n",
       "8. 'E7'\n",
       "9. 'ENTPD1'\n",
       "10. 'ERO1A'\n",
       "11. 'IGHA1'\n",
       "12. 'IGHG1'\n",
       "13. 'KRT5'\n",
       "14. 'MKI67'\n",
       "15. 'MS4A1'\n",
       "16. 'MZB1'\n",
       "17. 'PDCD1'\n",
       "18. 'TCF7'\n",
       "19. 'TNFRSF4'\n",
       "20. 'XCL1'\n",
       "\n",
       "\n"
      ],
      "text/plain": [
       " [1] \"AICDA\"   \"CCL3\"    \"CD4\"     \"CD8A\"    \"CXCL13\"  \"E5\"      \"E6\"     \n",
       " [8] \"E7\"      \"ENTPD1\"  \"ERO1A\"   \"IGHA1\"   \"IGHG1\"   \"KRT5\"    \"MKI67\"  \n",
       "[15] \"MS4A1\"   \"MZB1\"    \"PDCD1\"   \"TCF7\"    \"TNFRSF4\" \"XCL1\"   "
      ]
     },
     "metadata": {},
     "output_type": "display_data"
    }
   ],
   "source": [
    "rownames(spatial)"
   ]
  },
  {
   "cell_type": "code",
   "execution_count": 34,
   "id": "fc957712-2bf2-4277-a7d8-f87c52149a50",
   "metadata": {},
   "outputs": [],
   "source": [
    "spatial$major = 'cts'\n",
    "spatial$major[mat['CD8A',]>0] = 'CD8T'\n",
    "spatial$major[mat['CD4',]>0 & mat['CXCL13',]>0] = 'Tfh'\n",
    "spatial$major[mat['MS4A1',]>0] = 'B'\n",
    "spatial$major[mat['MZB1',]>0] = 'Plasma'\n",
    "spatial$major[mat['ERO1A',] == 0 & mat['KRT5',] > 0 & mat['MKI67',] > 0] = 'Epi_Normoxia'\n",
    "spatial$major[mat['ERO1A',] > 0 & mat['KRT5',] > 0 & mat['MKI67',] == 0] = 'Epi_Hypoxia'"
   ]
  },
  {
   "cell_type": "code",
   "execution_count": 35,
   "id": "dd1e0b12-f6a0-415e-8380-bae4278b2447",
   "metadata": {},
   "outputs": [],
   "source": [
    "Idents(spatial) = 'major'"
   ]
  },
  {
   "cell_type": "code",
   "execution_count": 36,
   "id": "92ff2efb-d043-407f-a649-ae21341a19bb",
   "metadata": {},
   "outputs": [
    {
     "data": {
      "text/html": [
       "<style>\n",
       ".list-inline {list-style: none; margin:0; padding: 0}\n",
       ".list-inline>li {display: inline-block}\n",
       ".list-inline>li:not(:last-child)::after {content: \"\\00b7\"; padding: 0 .5ex}\n",
       "</style>\n",
       "<ol class=list-inline><li>20</li><li>43239</li></ol>\n"
      ],
      "text/latex": [
       "\\begin{enumerate*}\n",
       "\\item 20\n",
       "\\item 43239\n",
       "\\end{enumerate*}\n"
      ],
      "text/markdown": [
       "1. 20\n",
       "2. 43239\n",
       "\n",
       "\n"
      ],
      "text/plain": [
       "[1]    20 43239"
      ]
     },
     "metadata": {},
     "output_type": "display_data"
    }
   ],
   "source": [
    "dim(spatial)"
   ]
  },
  {
   "cell_type": "code",
   "execution_count": 37,
   "id": "68e6e367-665f-4e08-ac46-2f5cf996e126",
   "metadata": {},
   "outputs": [
    {
     "name": "stderr",
     "output_type": "stream",
     "text": [
      "Warning message:\n",
      "“Not validating Centroids objects”\n",
      "Warning message:\n",
      "“Not validating Centroids objects”\n",
      "Warning message:\n",
      "“Not validating FOV objects”\n",
      "Warning message:\n",
      "“Not validating FOV objects”\n",
      "Warning message:\n",
      "“Not validating FOV objects”\n",
      "Warning message:\n",
      "“Not validating Seurat objects”\n",
      "Computing nearest neighbor graph\n",
      "\n",
      "Warning message:\n",
      "“Feature names cannot have underscores ('_'), replacing with dashes ('-')”\n",
      "Warning message:\n",
      "“Feature names cannot have underscores ('_'), replacing with dashes ('-')”\n",
      "Centering and scaling data matrix\n",
      "\n"
     ]
    }
   ],
   "source": [
    "spatial <- BuildNicheAssay(object = spatial[,spatial$major!='cts'], group.by = \"major\",\n",
    "    niches.k = 2, neighbors.k = 30, fov = 'p2s2')"
   ]
  },
  {
   "cell_type": "code",
   "execution_count": 38,
   "id": "d5725054-c1be-4d24-aa58-b56e6c58f7ff",
   "metadata": {},
   "outputs": [
    {
     "data": {
      "text/html": [
       "<style>\n",
       ".list-inline {list-style: none; margin:0; padding: 0}\n",
       ".list-inline>li {display: inline-block}\n",
       ".list-inline>li:not(:last-child)::after {content: \"\\00b7\"; padding: 0 .5ex}\n",
       "</style>\n",
       "<ol class=list-inline><li>6</li><li>2919</li></ol>\n"
      ],
      "text/latex": [
       "\\begin{enumerate*}\n",
       "\\item 6\n",
       "\\item 2919\n",
       "\\end{enumerate*}\n"
      ],
      "text/markdown": [
       "1. 6\n",
       "2. 2919\n",
       "\n",
       "\n"
      ],
      "text/plain": [
       "[1]    6 2919"
      ]
     },
     "metadata": {},
     "output_type": "display_data"
    }
   ],
   "source": [
    "dim(spatial@assays$niche)"
   ]
  },
  {
   "cell_type": "code",
   "execution_count": 39,
   "id": "03d34cda-e4c0-4bec-b1ce-cf8df0cb3df9",
   "metadata": {},
   "outputs": [],
   "source": [
    "neigbor_mat = as.data.frame(spatial@assays$niche@counts)"
   ]
  },
  {
   "cell_type": "code",
   "execution_count": 40,
   "id": "ef2b7711-eeef-402c-865a-a9c83b83e51a",
   "metadata": {},
   "outputs": [
    {
     "data": {
      "text/html": [
       "<table class=\"dataframe\">\n",
       "<caption>A data.frame: 6 × 2919</caption>\n",
       "<thead>\n",
       "\t<tr><th></th><th scope=col>c16</th><th scope=col>c17</th><th scope=col>c33</th><th scope=col>c58</th><th scope=col>c76</th><th scope=col>c93</th><th scope=col>c103</th><th scope=col>c114</th><th scope=col>c117</th><th scope=col>c128</th><th scope=col>⋯</th><th scope=col>c43113</th><th scope=col>c43149</th><th scope=col>c43158</th><th scope=col>c43165</th><th scope=col>c43178</th><th scope=col>c43186</th><th scope=col>c43215</th><th scope=col>c43220</th><th scope=col>c43224</th><th scope=col>c43238</th></tr>\n",
       "\t<tr><th></th><th scope=col>&lt;dbl&gt;</th><th scope=col>&lt;dbl&gt;</th><th scope=col>&lt;dbl&gt;</th><th scope=col>&lt;dbl&gt;</th><th scope=col>&lt;dbl&gt;</th><th scope=col>&lt;dbl&gt;</th><th scope=col>&lt;dbl&gt;</th><th scope=col>&lt;dbl&gt;</th><th scope=col>&lt;dbl&gt;</th><th scope=col>&lt;dbl&gt;</th><th scope=col>⋯</th><th scope=col>&lt;dbl&gt;</th><th scope=col>&lt;dbl&gt;</th><th scope=col>&lt;dbl&gt;</th><th scope=col>&lt;dbl&gt;</th><th scope=col>&lt;dbl&gt;</th><th scope=col>&lt;dbl&gt;</th><th scope=col>&lt;dbl&gt;</th><th scope=col>&lt;dbl&gt;</th><th scope=col>&lt;dbl&gt;</th><th scope=col>&lt;dbl&gt;</th></tr>\n",
       "</thead>\n",
       "<tbody>\n",
       "\t<tr><th scope=row>B</th><td> 1</td><td> 1</td><td> 2</td><td> 1</td><td> 0</td><td> 1</td><td> 1</td><td> 3</td><td> 0</td><td> 2</td><td>⋯</td><td> 2</td><td> 1</td><td> 0</td><td> 0</td><td> 0</td><td> 2</td><td> 0</td><td> 3</td><td>2</td><td> 1</td></tr>\n",
       "\t<tr><th scope=row>CD8T</th><td> 3</td><td> 3</td><td> 4</td><td> 2</td><td> 2</td><td> 3</td><td> 3</td><td>12</td><td> 0</td><td> 0</td><td>⋯</td><td> 4</td><td> 3</td><td> 0</td><td> 1</td><td> 0</td><td> 0</td><td> 0</td><td>11</td><td>7</td><td> 0</td></tr>\n",
       "\t<tr><th scope=row>Epi-Hypoxia</th><td> 2</td><td> 1</td><td> 3</td><td> 1</td><td> 1</td><td> 3</td><td> 3</td><td> 0</td><td> 0</td><td> 0</td><td>⋯</td><td> 2</td><td> 2</td><td> 0</td><td> 0</td><td> 4</td><td> 0</td><td> 5</td><td> 0</td><td>1</td><td> 0</td></tr>\n",
       "\t<tr><th scope=row>Epi-Normoxia</th><td>21</td><td>20</td><td>15</td><td>17</td><td>22</td><td>19</td><td>22</td><td> 3</td><td>28</td><td>25</td><td>⋯</td><td>14</td><td>23</td><td>13</td><td>15</td><td>23</td><td>24</td><td>23</td><td> 4</td><td>9</td><td>19</td></tr>\n",
       "\t<tr><th scope=row>Plasma</th><td> 3</td><td> 4</td><td> 5</td><td> 7</td><td> 4</td><td> 3</td><td> 1</td><td> 5</td><td> 2</td><td> 3</td><td>⋯</td><td> 5</td><td> 1</td><td>12</td><td>12</td><td> 3</td><td> 4</td><td> 2</td><td> 5</td><td>4</td><td> 8</td></tr>\n",
       "\t<tr><th scope=row>Tfh</th><td> 0</td><td> 1</td><td> 1</td><td> 2</td><td> 1</td><td> 1</td><td> 0</td><td> 7</td><td> 0</td><td> 0</td><td>⋯</td><td> 3</td><td> 0</td><td> 5</td><td> 2</td><td> 0</td><td> 0</td><td> 0</td><td> 7</td><td>7</td><td> 2</td></tr>\n",
       "</tbody>\n",
       "</table>\n"
      ],
      "text/latex": [
       "A data.frame: 6 × 2919\n",
       "\\begin{tabular}{r|lllllllllllllllllllll}\n",
       "  & c16 & c17 & c33 & c58 & c76 & c93 & c103 & c114 & c117 & c128 & ⋯ & c43113 & c43149 & c43158 & c43165 & c43178 & c43186 & c43215 & c43220 & c43224 & c43238\\\\\n",
       "  & <dbl> & <dbl> & <dbl> & <dbl> & <dbl> & <dbl> & <dbl> & <dbl> & <dbl> & <dbl> & ⋯ & <dbl> & <dbl> & <dbl> & <dbl> & <dbl> & <dbl> & <dbl> & <dbl> & <dbl> & <dbl>\\\\\n",
       "\\hline\n",
       "\tB &  1 &  1 &  2 &  1 &  0 &  1 &  1 &  3 &  0 &  2 & ⋯ &  2 &  1 &  0 &  0 &  0 &  2 &  0 &  3 & 2 &  1\\\\\n",
       "\tCD8T &  3 &  3 &  4 &  2 &  2 &  3 &  3 & 12 &  0 &  0 & ⋯ &  4 &  3 &  0 &  1 &  0 &  0 &  0 & 11 & 7 &  0\\\\\n",
       "\tEpi-Hypoxia &  2 &  1 &  3 &  1 &  1 &  3 &  3 &  0 &  0 &  0 & ⋯ &  2 &  2 &  0 &  0 &  4 &  0 &  5 &  0 & 1 &  0\\\\\n",
       "\tEpi-Normoxia & 21 & 20 & 15 & 17 & 22 & 19 & 22 &  3 & 28 & 25 & ⋯ & 14 & 23 & 13 & 15 & 23 & 24 & 23 &  4 & 9 & 19\\\\\n",
       "\tPlasma &  3 &  4 &  5 &  7 &  4 &  3 &  1 &  5 &  2 &  3 & ⋯ &  5 &  1 & 12 & 12 &  3 &  4 &  2 &  5 & 4 &  8\\\\\n",
       "\tTfh &  0 &  1 &  1 &  2 &  1 &  1 &  0 &  7 &  0 &  0 & ⋯ &  3 &  0 &  5 &  2 &  0 &  0 &  0 &  7 & 7 &  2\\\\\n",
       "\\end{tabular}\n"
      ],
      "text/markdown": [
       "\n",
       "A data.frame: 6 × 2919\n",
       "\n",
       "| <!--/--> | c16 &lt;dbl&gt; | c17 &lt;dbl&gt; | c33 &lt;dbl&gt; | c58 &lt;dbl&gt; | c76 &lt;dbl&gt; | c93 &lt;dbl&gt; | c103 &lt;dbl&gt; | c114 &lt;dbl&gt; | c117 &lt;dbl&gt; | c128 &lt;dbl&gt; | ⋯ ⋯ | c43113 &lt;dbl&gt; | c43149 &lt;dbl&gt; | c43158 &lt;dbl&gt; | c43165 &lt;dbl&gt; | c43178 &lt;dbl&gt; | c43186 &lt;dbl&gt; | c43215 &lt;dbl&gt; | c43220 &lt;dbl&gt; | c43224 &lt;dbl&gt; | c43238 &lt;dbl&gt; |\n",
       "|---|---|---|---|---|---|---|---|---|---|---|---|---|---|---|---|---|---|---|---|---|---|\n",
       "| B |  1 |  1 |  2 |  1 |  0 |  1 |  1 |  3 |  0 |  2 | ⋯ |  2 |  1 |  0 |  0 |  0 |  2 |  0 |  3 | 2 |  1 |\n",
       "| CD8T |  3 |  3 |  4 |  2 |  2 |  3 |  3 | 12 |  0 |  0 | ⋯ |  4 |  3 |  0 |  1 |  0 |  0 |  0 | 11 | 7 |  0 |\n",
       "| Epi-Hypoxia |  2 |  1 |  3 |  1 |  1 |  3 |  3 |  0 |  0 |  0 | ⋯ |  2 |  2 |  0 |  0 |  4 |  0 |  5 |  0 | 1 |  0 |\n",
       "| Epi-Normoxia | 21 | 20 | 15 | 17 | 22 | 19 | 22 |  3 | 28 | 25 | ⋯ | 14 | 23 | 13 | 15 | 23 | 24 | 23 |  4 | 9 | 19 |\n",
       "| Plasma |  3 |  4 |  5 |  7 |  4 |  3 |  1 |  5 |  2 |  3 | ⋯ |  5 |  1 | 12 | 12 |  3 |  4 |  2 |  5 | 4 |  8 |\n",
       "| Tfh |  0 |  1 |  1 |  2 |  1 |  1 |  0 |  7 |  0 |  0 | ⋯ |  3 |  0 |  5 |  2 |  0 |  0 |  0 |  7 | 7 |  2 |\n",
       "\n"
      ],
      "text/plain": [
       "             c16 c17 c33 c58 c76 c93 c103 c114 c117 c128 ⋯ c43113 c43149 c43158\n",
       "B             1   1   2   1   0   1   1    3    0    2   ⋯  2      1      0    \n",
       "CD8T          3   3   4   2   2   3   3   12    0    0   ⋯  4      3      0    \n",
       "Epi-Hypoxia   2   1   3   1   1   3   3    0    0    0   ⋯  2      2      0    \n",
       "Epi-Normoxia 21  20  15  17  22  19  22    3   28   25   ⋯ 14     23     13    \n",
       "Plasma        3   4   5   7   4   3   1    5    2    3   ⋯  5      1     12    \n",
       "Tfh           0   1   1   2   1   1   0    7    0    0   ⋯  3      0      5    \n",
       "             c43165 c43178 c43186 c43215 c43220 c43224 c43238\n",
       "B             0      0      2      0      3     2       1    \n",
       "CD8T          1      0      0      0     11     7       0    \n",
       "Epi-Hypoxia   0      4      0      5      0     1       0    \n",
       "Epi-Normoxia 15     23     24     23      4     9      19    \n",
       "Plasma       12      3      4      2      5     4       8    \n",
       "Tfh           2      0      0      0      7     7       2    "
      ]
     },
     "metadata": {},
     "output_type": "display_data"
    }
   ],
   "source": [
    "head(neigbor_mat)"
   ]
  },
  {
   "cell_type": "code",
   "execution_count": 41,
   "id": "92848783-3ac9-4954-a0fb-b24773dc52b5",
   "metadata": {},
   "outputs": [
    {
     "name": "stderr",
     "output_type": "stream",
     "text": [
      "Warning message:\n",
      "“The input is a data frame-like object, convert it to a matrix.”\n"
     ]
    }
   ],
   "source": [
    "ht = Heatmap(neigbor_mat,show_column_names = FALSE,show_row_names = FALSE,column_split = 2,clustering_method_columns = 'ward.D2')"
   ]
  },
  {
   "cell_type": "code",
   "execution_count": 42,
   "id": "f7f5d30e-ecc4-4e2a-9837-7ae90d685853",
   "metadata": {},
   "outputs": [
    {
     "data": {
      "image/png": "[encoded data removed]",
      "text/plain": [
       "plot without title"
      ]
     },
     "metadata": {
      "image/png": {
       "height": 180,
       "width": 180
      }
     },
     "output_type": "display_data"
    }
   ],
   "source": [
    "ht = draw(ht)"
   ]
  },
  {
   "cell_type": "code",
   "execution_count": 43,
   "id": "55b5004a-b7fb-4eec-8534-e11f5f6b9c53",
   "metadata": {},
   "outputs": [],
   "source": [
    "spatial$niches[column_order(ht)[[2]]] = 'IA'\n",
    "spatial$niches[column_order(ht)[[1]]] = 'IS'"
   ]
  },
  {
   "cell_type": "code",
   "execution_count": 44,
   "id": "119dabaf-99fe-416e-9621-553df6bd3570",
   "metadata": {},
   "outputs": [
    {
     "name": "stderr",
     "output_type": "stream",
     "text": [
      "Warning message:\n",
      "“No FOV associated with assay 'niche', using global default FOV”\n"
     ]
    }
   ],
   "source": [
    "niche.plot <- ImageDimPlot(spatial, group.by = \"niches\", size = 1.5, dark.background = F) +\n",
    "    scale_fill_manual(values = c(\"#442288\", \"#6CA2EA\", \"#B5D33D\", \"#FED23F\", \"#EB7D5B\"))"
   ]
  },
  {
   "cell_type": "code",
   "execution_count": 45,
   "id": "a031efed-c7ca-4aec-9d47-77176d4df3ad",
   "metadata": {},
   "outputs": [
    {
     "data": {
      "image/png": "[encoded data removed]",
      "text/plain": [
       "plot without title"
      ]
     },
     "metadata": {
      "image/png": {
       "height": 180,
       "width": 180
      }
     },
     "output_type": "display_data"
    }
   ],
   "source": [
    "niche.plot"
   ]
  },
  {
   "cell_type": "code",
   "execution_count": 46,
   "id": "368483bc-1197-4224-8bbc-20d6a46dadd6",
   "metadata": {},
   "outputs": [
    {
     "data": {
      "text/plain": [
       "\n",
       "           B         CD8T  Epi_Hypoxia Epi_Normoxia       Plasma          Tfh \n",
       "          35          118           66          348          199           83 "
      ]
     },
     "metadata": {},
     "output_type": "display_data"
    }
   ],
   "source": [
    "table(spatial$major[spatial$niches=='IA'])"
   ]
  },
  {
   "cell_type": "code",
   "execution_count": 47,
   "id": "ee89d3a0-7db9-402d-aee8-18861ce8705b",
   "metadata": {},
   "outputs": [
    {
     "data": {
      "text/plain": [
       "\n",
       "           B         CD8T  Epi_Hypoxia Epi_Normoxia       Plasma          Tfh \n",
       "          38           80          121         1701          105           25 "
      ]
     },
     "metadata": {},
     "output_type": "display_data"
    }
   ],
   "source": [
    "table(spatial$major[spatial$niches=='IS'])"
   ]
  },
  {
   "cell_type": "code",
   "execution_count": 48,
   "id": "c98efd92-4f9c-49be-b848-6c57ba9d0491",
   "metadata": {},
   "outputs": [
    {
     "data": {
      "text/plain": [
       "\n",
       "           B         CD8T  Epi_Hypoxia Epi_Normoxia       Plasma          Tfh \n",
       "   0.4794521    0.5959596    0.3529412    0.1698389    0.6546053    0.7685185 "
      ]
     },
     "metadata": {},
     "output_type": "display_data"
    }
   ],
   "source": [
    "table(spatial$major[spatial$niches=='IA'])/table(spatial$major)"
   ]
  },
  {
   "cell_type": "code",
   "execution_count": 49,
   "id": "069d1c4c-9f1c-4504-a0f7-afd7b5edd8c7",
   "metadata": {},
   "outputs": [
    {
     "data": {
      "text/plain": [
       "\n",
       "           B         CD8T  Epi_Hypoxia Epi_Normoxia       Plasma          Tfh \n",
       "   0.5205479    0.4040404    0.6470588    0.8301611    0.3453947    0.2314815 "
      ]
     },
     "metadata": {},
     "output_type": "display_data"
    }
   ],
   "source": [
    "table(spatial$major[spatial$niches=='IS'])/table(spatial$major)"
   ]
  },
  {
   "cell_type": "code",
   "execution_count": 50,
   "id": "c3093bad-0883-4c80-aaed-cb8fde8c6ed9",
   "metadata": {},
   "outputs": [
    {
     "data": {
      "text/plain": [
       "\n",
       "           B         CD8T  Epi_Hypoxia Epi_Normoxia       Plasma          Tfh \n",
       "  0.04122497   0.13898704   0.07773852   0.40989399   0.23439340   0.09776207 "
      ]
     },
     "metadata": {},
     "output_type": "display_data"
    }
   ],
   "source": [
    "table(spatial$major[spatial$niches=='IA'])/sum(spatial$niches=='IA')"
   ]
  },
  {
   "cell_type": "code",
   "execution_count": 51,
   "id": "cc54c19d-c0e4-42cf-97eb-ccedca7a5f05",
   "metadata": {},
   "outputs": [
    {
     "data": {
      "text/plain": [
       "\n",
       "           B         CD8T  Epi_Hypoxia Epi_Normoxia       Plasma          Tfh \n",
       "  0.01835749   0.03864734   0.05845411   0.82173913   0.05072464   0.01207729 "
      ]
     },
     "metadata": {},
     "output_type": "display_data"
    }
   ],
   "source": [
    "table(spatial$major[spatial$niches=='IS'])/sum(spatial$niches=='IS')"
   ]
  },
  {
   "cell_type": "code",
   "execution_count": 52,
   "id": "4feeb2a4-c960-4735-a067-2f59e252c565",
   "metadata": {},
   "outputs": [],
   "source": [
    "percent1 = table(spatial$major[spatial$niches=='IA'])/sum(spatial$niches=='IA')"
   ]
  },
  {
   "cell_type": "code",
   "execution_count": 53,
   "id": "f418c067-82bb-4a95-a3ba-a7ce7ad7ed53",
   "metadata": {},
   "outputs": [],
   "source": [
    "percent2 = table(spatial$major[spatial$niches=='IS'])/sum(spatial$niches=='IS')"
   ]
  },
  {
   "cell_type": "code",
   "execution_count": 54,
   "id": "e28dab8a-b89b-4711-b954-ee33e886e7d7",
   "metadata": {},
   "outputs": [],
   "source": [
    "percent1 = percent1[c('Tfh','CD8T','B','Plasma')]\n",
    "percent2 = percent2[c('Tfh','CD8T','B','Plasma')]"
   ]
  },
  {
   "cell_type": "code",
   "execution_count": 55,
   "id": "8712150a-6560-4179-ab33-28974ffc4fd4",
   "metadata": {},
   "outputs": [],
   "source": [
    "percent = data.frame(percentage = c(as.vector(percent1),as.vector(percent2)), immune_ct = rep(c('Tfh','CD8T','B','Plasma'),2), module = rep(c('IA','IS'),each = 4))"
   ]
  },
  {
   "cell_type": "code",
   "execution_count": 56,
   "id": "e4b9bf44-553b-446e-b703-d361011e1cc0",
   "metadata": {},
   "outputs": [
    {
     "data": {
      "text/html": [
       "<table class=\"dataframe\">\n",
       "<caption>A data.frame: 8 × 3</caption>\n",
       "<thead>\n",
       "\t<tr><th scope=col>percentage</th><th scope=col>immune_ct</th><th scope=col>module</th></tr>\n",
       "\t<tr><th scope=col>&lt;dbl&gt;</th><th scope=col>&lt;chr&gt;</th><th scope=col>&lt;chr&gt;</th></tr>\n",
       "</thead>\n",
       "<tbody>\n",
       "\t<tr><td>0.09776207</td><td>Tfh   </td><td>IA</td></tr>\n",
       "\t<tr><td>0.13898704</td><td>CD8T  </td><td>IA</td></tr>\n",
       "\t<tr><td>0.04122497</td><td>B     </td><td>IA</td></tr>\n",
       "\t<tr><td>0.23439340</td><td>Plasma</td><td>IA</td></tr>\n",
       "\t<tr><td>0.01207729</td><td>Tfh   </td><td>IS</td></tr>\n",
       "\t<tr><td>0.03864734</td><td>CD8T  </td><td>IS</td></tr>\n",
       "\t<tr><td>0.01835749</td><td>B     </td><td>IS</td></tr>\n",
       "\t<tr><td>0.05072464</td><td>Plasma</td><td>IS</td></tr>\n",
       "</tbody>\n",
       "</table>\n"
      ],
      "text/latex": [
       "A data.frame: 8 × 3\n",
       "\\begin{tabular}{lll}\n",
       " percentage & immune\\_ct & module\\\\\n",
       " <dbl> & <chr> & <chr>\\\\\n",
       "\\hline\n",
       "\t 0.09776207 & Tfh    & IA\\\\\n",
       "\t 0.13898704 & CD8T   & IA\\\\\n",
       "\t 0.04122497 & B      & IA\\\\\n",
       "\t 0.23439340 & Plasma & IA\\\\\n",
       "\t 0.01207729 & Tfh    & IS\\\\\n",
       "\t 0.03864734 & CD8T   & IS\\\\\n",
       "\t 0.01835749 & B      & IS\\\\\n",
       "\t 0.05072464 & Plasma & IS\\\\\n",
       "\\end{tabular}\n"
      ],
      "text/markdown": [
       "\n",
       "A data.frame: 8 × 3\n",
       "\n",
       "| percentage &lt;dbl&gt; | immune_ct &lt;chr&gt; | module &lt;chr&gt; |\n",
       "|---|---|---|\n",
       "| 0.09776207 | Tfh    | IA |\n",
       "| 0.13898704 | CD8T   | IA |\n",
       "| 0.04122497 | B      | IA |\n",
       "| 0.23439340 | Plasma | IA |\n",
       "| 0.01207729 | Tfh    | IS |\n",
       "| 0.03864734 | CD8T   | IS |\n",
       "| 0.01835749 | B      | IS |\n",
       "| 0.05072464 | Plasma | IS |\n",
       "\n"
      ],
      "text/plain": [
       "  percentage immune_ct module\n",
       "1 0.09776207 Tfh       IA    \n",
       "2 0.13898704 CD8T      IA    \n",
       "3 0.04122497 B         IA    \n",
       "4 0.23439340 Plasma    IA    \n",
       "5 0.01207729 Tfh       IS    \n",
       "6 0.03864734 CD8T      IS    \n",
       "7 0.01835749 B         IS    \n",
       "8 0.05072464 Plasma    IS    "
      ]
     },
     "metadata": {},
     "output_type": "display_data"
    }
   ],
   "source": [
    "percent"
   ]
  },
  {
   "cell_type": "code",
   "execution_count": 57,
   "id": "4edb2b37-09e0-4cd6-8c6a-feeb52c41461",
   "metadata": {},
   "outputs": [],
   "source": [
    "saveRDS(percent,file = '~/HPV/res/spatial/percent.rds')"
   ]
  },
  {
   "cell_type": "code",
   "execution_count": 58,
   "id": "d488e610-6c1d-4627-bbe2-84f04c96c2c9",
   "metadata": {},
   "outputs": [],
   "source": [
    "res = data.frame(m2 = c(66,121), m1 = c(348,1701))"
   ]
  },
  {
   "cell_type": "code",
   "execution_count": 59,
   "id": "267313f8-510a-40ed-a521-54bf364c7cee",
   "metadata": {},
   "outputs": [],
   "source": [
    "rownames(res) = c('IA','IS')"
   ]
  },
  {
   "cell_type": "code",
   "execution_count": 60,
   "id": "294ca74e-37d7-4e6c-8453-926fe1517327",
   "metadata": {},
   "outputs": [
    {
     "data": {
      "text/plain": [
       "\n",
       "\tFisher's Exact Test for Count Data\n",
       "\n",
       "data:  res\n",
       "p-value = 1.069e-08\n",
       "alternative hypothesis: true odds ratio is not equal to 1\n",
       "95 percent confidence interval:\n",
       " 1.900660 3.712145\n",
       "sample estimates:\n",
       "odds ratio \n",
       "  2.664638 \n"
      ]
     },
     "metadata": {},
     "output_type": "display_data"
    }
   ],
   "source": [
    "fisher.test(res)"
   ]
  },
  {
   "cell_type": "code",
   "execution_count": 61,
   "id": "a2cef911-6375-4d9c-955d-dde890195f13",
   "metadata": {},
   "outputs": [
    {
     "data": {
      "text/html": [
       "<table class=\"dataframe\">\n",
       "<caption>A data.frame: 2 × 2</caption>\n",
       "<thead>\n",
       "\t<tr><th></th><th scope=col>m2</th><th scope=col>m1</th></tr>\n",
       "\t<tr><th></th><th scope=col>&lt;dbl&gt;</th><th scope=col>&lt;dbl&gt;</th></tr>\n",
       "</thead>\n",
       "<tbody>\n",
       "\t<tr><th scope=row>IA</th><td> 66</td><td> 348</td></tr>\n",
       "\t<tr><th scope=row>IS</th><td>121</td><td>1701</td></tr>\n",
       "</tbody>\n",
       "</table>\n"
      ],
      "text/latex": [
       "A data.frame: 2 × 2\n",
       "\\begin{tabular}{r|ll}\n",
       "  & m2 & m1\\\\\n",
       "  & <dbl> & <dbl>\\\\\n",
       "\\hline\n",
       "\tIA &  66 &  348\\\\\n",
       "\tIS & 121 & 1701\\\\\n",
       "\\end{tabular}\n"
      ],
      "text/markdown": [
       "\n",
       "A data.frame: 2 × 2\n",
       "\n",
       "| <!--/--> | m2 &lt;dbl&gt; | m1 &lt;dbl&gt; |\n",
       "|---|---|---|\n",
       "| IA |  66 |  348 |\n",
       "| IS | 121 | 1701 |\n",
       "\n"
      ],
      "text/plain": [
       "   m2  m1  \n",
       "IA  66  348\n",
       "IS 121 1701"
      ]
     },
     "metadata": {},
     "output_type": "display_data"
    }
   ],
   "source": [
    "res"
   ]
  },
  {
   "cell_type": "code",
   "execution_count": 62,
   "id": "06cfbca5-7db1-4c2a-a3e2-628c7db8f06d",
   "metadata": {},
   "outputs": [],
   "source": [
    "saveRDS(res,file = '~/HPV/res/spatial/fisher.rds')"
   ]
  },
  {
   "cell_type": "code",
   "execution_count": 63,
   "id": "c26de6eb-b690-46f2-b721-dc2f6bc72c88",
   "metadata": {},
   "outputs": [
    {
     "data": {
      "text/html": [
       "2919"
      ],
      "text/latex": [
       "2919"
      ],
      "text/markdown": [
       "2919"
      ],
      "text/plain": [
       "[1] 2919"
      ]
     },
     "metadata": {},
     "output_type": "display_data"
    }
   ],
   "source": [
    "ncol(spatial)"
   ]
  },
  {
   "cell_type": "code",
   "execution_count": 64,
   "id": "362e18fb-22e0-4ccf-aae8-4e8b3eb958be",
   "metadata": {},
   "outputs": [],
   "source": [
    "spatial$major = factor(spatial$major,levels = c('Epi_Normoxia','Epi_Hypoxia','Tfh','CD8T','B','Plasma'))"
   ]
  },
  {
   "cell_type": "code",
   "execution_count": 65,
   "id": "4410d1a1-b1b7-4a75-aa63-b231b0737384",
   "metadata": {},
   "outputs": [
    {
     "name": "stderr",
     "output_type": "stream",
     "text": [
      "Warning message:\n",
      "“No FOV associated with assay 'niche', using global default FOV”\n"
     ]
    },
    {
     "data": {
      "image/png": "[encoded data removed]",
      "text/plain": [
       "plot without title"
      ]
     },
     "metadata": {
      "image/png": {
       "height": 360,
       "width": 360
      }
     },
     "output_type": "display_data"
    }
   ],
   "source": [
    "options(repr.plot.width = 6, repr.plot.height = 6)\n",
    "ImageDimPlot(spatial, group.by = \"major\", size = 1.5, dark.background = F) + scale_fill_manual(values = c(\"#D62727\", \"#1F77B4\", \"#6CA2EA\", \"#9467BD\", \"#DBDB8D\", '#FF7F0F'))"
   ]
  },
  {
   "cell_type": "code",
   "execution_count": 66,
   "id": "5b810e08-86fe-4896-b331-302b03af6f05",
   "metadata": {},
   "outputs": [
    {
     "name": "stderr",
     "output_type": "stream",
     "text": [
      "Warning message:\n",
      "“Not validating Centroids objects”\n",
      "Warning message:\n",
      "“Not validating Centroids objects”\n",
      "Warning message:\n",
      "“Not validating FOV objects”\n",
      "Warning message:\n",
      "“Not validating FOV objects”\n",
      "Warning message:\n",
      "“Not validating FOV objects”\n",
      "Warning message:\n",
      "“Not validating Seurat objects”\n",
      "Warning message:\n",
      "“No FOV associated with assay 'niche', using global default FOV”\n"
     ]
    },
    {
     "data": {
      "image/png": "[encoded data removed]",
      "text/plain": [
       "plot without title"
      ]
     },
     "metadata": {
      "image/png": {
       "height": 360,
       "width": 360
      }
     },
     "output_type": "display_data"
    }
   ],
   "source": [
    "options(repr.plot.width = 6, repr.plot.height = 6)\n",
    "ImageDimPlot(spatial[,spatial$major %in% c('Epi_Normoxia','Epi_Hypoxia')], group.by = \"major\", size = 1.5, dark.background = F) + scale_fill_manual(values = c(\"#D62727\", \"#1F77B4\", \"#6CA2EA\", \"#9467BD\", \"#DBDB8D\", '#FF7F0F'))"
   ]
  },
  {
   "cell_type": "code",
   "execution_count": 67,
   "id": "b974056f-6807-4f84-b94d-e253e06c6a2f",
   "metadata": {},
   "outputs": [],
   "source": [
    "DefaultAssay(spatial) = 'RNA'\n",
    "saveRDS(spatial,file = '~/HPV/res/seurat_rds/spatial.rds')"
   ]
  },
  {
   "cell_type": "code",
   "execution_count": 68,
   "id": "767a61e0-5a19-4e9a-9338-f794abe81e8b",
   "metadata": {},
   "outputs": [],
   "source": [
    "loc = GetTissueCoordinates(spatial)"
   ]
  },
  {
   "cell_type": "code",
   "execution_count": 69,
   "id": "87d535c9-b361-4ed8-87ad-dc7f8843b153",
   "metadata": {},
   "outputs": [],
   "source": [
    "loc$ct = spatial$major"
   ]
  },
  {
   "cell_type": "code",
   "execution_count": 70,
   "id": "efd70ffa-9dfa-4baf-a156-8b77fa2ce841",
   "metadata": {},
   "outputs": [
    {
     "data": {
      "text/html": [
       "<table class=\"dataframe\">\n",
       "<caption>A data.frame: 6 × 4</caption>\n",
       "<thead>\n",
       "\t<tr><th></th><th scope=col>x</th><th scope=col>y</th><th scope=col>cell</th><th scope=col>ct</th></tr>\n",
       "\t<tr><th></th><th scope=col>&lt;dbl&gt;</th><th scope=col>&lt;dbl&gt;</th><th scope=col>&lt;chr&gt;</th><th scope=col>&lt;fct&gt;</th></tr>\n",
       "</thead>\n",
       "<tbody>\n",
       "\t<tr><th scope=row>1</th><td>  10.98</td><td>4026.52</td><td>c16</td><td>Epi_Normoxia</td></tr>\n",
       "\t<tr><th scope=row>2</th><td> 100.15</td><td>1215.44</td><td>c17</td><td>CD8T        </td></tr>\n",
       "\t<tr><th scope=row>3</th><td>1001.71</td><td>2473.53</td><td>c33</td><td>Epi_Hypoxia </td></tr>\n",
       "\t<tr><th scope=row>4</th><td>1004.23</td><td> 817.88</td><td>c58</td><td>Epi_Normoxia</td></tr>\n",
       "\t<tr><th scope=row>5</th><td>1006.02</td><td>1539.46</td><td>c76</td><td>Epi_Normoxia</td></tr>\n",
       "\t<tr><th scope=row>6</th><td>1007.50</td><td>2401.42</td><td>c93</td><td>Epi_Normoxia</td></tr>\n",
       "</tbody>\n",
       "</table>\n"
      ],
      "text/latex": [
       "A data.frame: 6 × 4\n",
       "\\begin{tabular}{r|llll}\n",
       "  & x & y & cell & ct\\\\\n",
       "  & <dbl> & <dbl> & <chr> & <fct>\\\\\n",
       "\\hline\n",
       "\t1 &   10.98 & 4026.52 & c16 & Epi\\_Normoxia\\\\\n",
       "\t2 &  100.15 & 1215.44 & c17 & CD8T        \\\\\n",
       "\t3 & 1001.71 & 2473.53 & c33 & Epi\\_Hypoxia \\\\\n",
       "\t4 & 1004.23 &  817.88 & c58 & Epi\\_Normoxia\\\\\n",
       "\t5 & 1006.02 & 1539.46 & c76 & Epi\\_Normoxia\\\\\n",
       "\t6 & 1007.50 & 2401.42 & c93 & Epi\\_Normoxia\\\\\n",
       "\\end{tabular}\n"
      ],
      "text/markdown": [
       "\n",
       "A data.frame: 6 × 4\n",
       "\n",
       "| <!--/--> | x &lt;dbl&gt; | y &lt;dbl&gt; | cell &lt;chr&gt; | ct &lt;fct&gt; |\n",
       "|---|---|---|---|---|\n",
       "| 1 |   10.98 | 4026.52 | c16 | Epi_Normoxia |\n",
       "| 2 |  100.15 | 1215.44 | c17 | CD8T         |\n",
       "| 3 | 1001.71 | 2473.53 | c33 | Epi_Hypoxia  |\n",
       "| 4 | 1004.23 |  817.88 | c58 | Epi_Normoxia |\n",
       "| 5 | 1006.02 | 1539.46 | c76 | Epi_Normoxia |\n",
       "| 6 | 1007.50 | 2401.42 | c93 | Epi_Normoxia |\n",
       "\n"
      ],
      "text/plain": [
       "  x       y       cell ct          \n",
       "1   10.98 4026.52 c16  Epi_Normoxia\n",
       "2  100.15 1215.44 c17  CD8T        \n",
       "3 1001.71 2473.53 c33  Epi_Hypoxia \n",
       "4 1004.23  817.88 c58  Epi_Normoxia\n",
       "5 1006.02 1539.46 c76  Epi_Normoxia\n",
       "6 1007.50 2401.42 c93  Epi_Normoxia"
      ]
     },
     "metadata": {},
     "output_type": "display_data"
    }
   ],
   "source": [
    "head(loc)"
   ]
  },
  {
   "cell_type": "code",
   "execution_count": 71,
   "id": "55957c48-6c78-4df1-a7e6-8af2d808ba21",
   "metadata": {},
   "outputs": [],
   "source": [
    "epithelial <- subset(loc, ct %in% c('Epi_Normoxia','Epi_Hypoxia'))\n",
    "immune <- subset(loc, !(ct %in% c('Epi_Normoxia','Epi_Hypoxia')))"
   ]
  },
  {
   "cell_type": "code",
   "execution_count": 72,
   "id": "a43c7ca0-235a-40c4-a6aa-5c88416caf3f",
   "metadata": {},
   "outputs": [
    {
     "data": {
      "text/html": [
       "<style>\n",
       ".list-inline {list-style: none; margin:0; padding: 0}\n",
       ".list-inline>li {display: inline-block}\n",
       ".list-inline>li:not(:last-child)::after {content: \"\\00b7\"; padding: 0 .5ex}\n",
       "</style>\n",
       "<ol class=list-inline><li>2236</li><li>4</li></ol>\n"
      ],
      "text/latex": [
       "\\begin{enumerate*}\n",
       "\\item 2236\n",
       "\\item 4\n",
       "\\end{enumerate*}\n"
      ],
      "text/markdown": [
       "1. 2236\n",
       "2. 4\n",
       "\n",
       "\n"
      ],
      "text/plain": [
       "[1] 2236    4"
      ]
     },
     "metadata": {},
     "output_type": "display_data"
    }
   ],
   "source": [
    "dim(epithelial)"
   ]
  },
  {
   "cell_type": "code",
   "execution_count": 73,
   "id": "3a3e5ccf-778f-4ac6-a8e7-ba1022f54cbf",
   "metadata": {},
   "outputs": [
    {
     "data": {
      "text/html": [
       "<style>\n",
       ".list-inline {list-style: none; margin:0; padding: 0}\n",
       ".list-inline>li {display: inline-block}\n",
       ".list-inline>li:not(:last-child)::after {content: \"\\00b7\"; padding: 0 .5ex}\n",
       "</style>\n",
       "<ol class=list-inline><li>683</li><li>4</li></ol>\n"
      ],
      "text/latex": [
       "\\begin{enumerate*}\n",
       "\\item 683\n",
       "\\item 4\n",
       "\\end{enumerate*}\n"
      ],
      "text/markdown": [
       "1. 683\n",
       "2. 4\n",
       "\n",
       "\n"
      ],
      "text/plain": [
       "[1] 683   4"
      ]
     },
     "metadata": {},
     "output_type": "display_data"
    }
   ],
   "source": [
    "dim(immune)"
   ]
  },
  {
   "cell_type": "code",
   "execution_count": 76,
   "id": "d32c93fa-151a-4019-8703-edb0f59343c6",
   "metadata": {},
   "outputs": [],
   "source": [
    "distances = readRDS('~/HPV/res/spatial/distances.rds')"
   ]
  },
  {
   "cell_type": "code",
   "execution_count": 77,
   "id": "6367ac50-440a-4fa8-91bb-719471800a70",
   "metadata": {},
   "outputs": [
    {
     "data": {
      "text/html": [
       "<style>\n",
       ".list-inline {list-style: none; margin:0; padding: 0}\n",
       ".list-inline>li {display: inline-block}\n",
       ".list-inline>li:not(:last-child)::after {content: \"\\00b7\"; padding: 0 .5ex}\n",
       "</style>\n",
       "<ol class=list-inline><li>2236</li><li>683</li></ol>\n"
      ],
      "text/latex": [
       "\\begin{enumerate*}\n",
       "\\item 2236\n",
       "\\item 683\n",
       "\\end{enumerate*}\n"
      ],
      "text/markdown": [
       "1. 2236\n",
       "2. 683\n",
       "\n",
       "\n"
      ],
      "text/plain": [
       "[1] 2236  683"
      ]
     },
     "metadata": {},
     "output_type": "display_data"
    }
   ],
   "source": [
    "dim(distances)"
   ]
  },
  {
   "cell_type": "code",
   "execution_count": 78,
   "id": "351e4209-a66b-4287-a69d-3db24c99466c",
   "metadata": {},
   "outputs": [],
   "source": [
    "distance_immune = list()"
   ]
  },
  {
   "cell_type": "code",
   "execution_count": 79,
   "id": "4418b101-9c7d-4469-b3d6-0e450edaa8b3",
   "metadata": {},
   "outputs": [
    {
     "data": {
      "text/html": [
       "<style>\n",
       ".list-inline {list-style: none; margin:0; padding: 0}\n",
       ".list-inline>li {display: inline-block}\n",
       ".list-inline>li:not(:last-child)::after {content: \"\\00b7\"; padding: 0 .5ex}\n",
       "</style>\n",
       "<ol class=list-inline><li>Epi_Normoxia</li><li>CD8T</li><li>Epi_Hypoxia</li><li>Plasma</li><li>B</li><li>Tfh</li></ol>\n",
       "\n",
       "<details>\n",
       "\t<summary style=display:list-item;cursor:pointer>\n",
       "\t\t<strong>Levels</strong>:\n",
       "\t</summary>\n",
       "\t<style>\n",
       "\t.list-inline {list-style: none; margin:0; padding: 0}\n",
       "\t.list-inline>li {display: inline-block}\n",
       "\t.list-inline>li:not(:last-child)::after {content: \"\\00b7\"; padding: 0 .5ex}\n",
       "\t</style>\n",
       "\t<ol class=list-inline><li>'Epi_Normoxia'</li><li>'Epi_Hypoxia'</li><li>'Tfh'</li><li>'CD8T'</li><li>'B'</li><li>'Plasma'</li></ol>\n",
       "</details>"
      ],
      "text/latex": [
       "\\begin{enumerate*}\n",
       "\\item Epi\\_Normoxia\n",
       "\\item CD8T\n",
       "\\item Epi\\_Hypoxia\n",
       "\\item Plasma\n",
       "\\item B\n",
       "\\item Tfh\n",
       "\\end{enumerate*}\n",
       "\n",
       "\\emph{Levels}: \\begin{enumerate*}\n",
       "\\item 'Epi\\_Normoxia'\n",
       "\\item 'Epi\\_Hypoxia'\n",
       "\\item 'Tfh'\n",
       "\\item 'CD8T'\n",
       "\\item 'B'\n",
       "\\item 'Plasma'\n",
       "\\end{enumerate*}\n"
      ],
      "text/markdown": [
       "1. Epi_Normoxia\n",
       "2. CD8T\n",
       "3. Epi_Hypoxia\n",
       "4. Plasma\n",
       "5. B\n",
       "6. Tfh\n",
       "\n",
       "\n",
       "\n",
       "**Levels**: 1. 'Epi_Normoxia'\n",
       "2. 'Epi_Hypoxia'\n",
       "3. 'Tfh'\n",
       "4. 'CD8T'\n",
       "5. 'B'\n",
       "6. 'Plasma'\n",
       "\n",
       "\n"
      ],
      "text/plain": [
       "[1] Epi_Normoxia CD8T         Epi_Hypoxia  Plasma       B           \n",
       "[6] Tfh         \n",
       "Levels: Epi_Normoxia Epi_Hypoxia Tfh CD8T B Plasma"
      ]
     },
     "metadata": {},
     "output_type": "display_data"
    }
   ],
   "source": [
    "unique(spatial$major)"
   ]
  },
  {
   "cell_type": "code",
   "execution_count": 80,
   "id": "786e1cb7-1120-4b20-a719-38aaf7928559",
   "metadata": {},
   "outputs": [],
   "source": [
    "for (ct in c('Tfh','CD8T','Plasma','B')){\n",
    "    sub_mat = distances[,colnames(distances) == ct]\n",
    "    distance_immune[[ct]] = apply(sub_mat,1,function(x){\n",
    "        x = sort(x,decreasing = FALSE)\n",
    "        x = mean(x[1:3])\n",
    "    })\n",
    "}"
   ]
  },
  {
   "cell_type": "code",
   "execution_count": 81,
   "id": "6c50231d-da82-41a1-89d3-e402b0a1b2ec",
   "metadata": {},
   "outputs": [],
   "source": [
    "distance_immune = data.frame(distance = unlist(distance_immune), immune_ct = rep(c('Tfh','CD8T','Plasma','B'),each = 2236), epi_ct = rep(epithelial$ct,4))"
   ]
  },
  {
   "cell_type": "code",
   "execution_count": 82,
   "id": "15a81e78-2e5e-495f-8d51-bd6242c561f6",
   "metadata": {},
   "outputs": [
    {
     "data": {
      "text/html": [
       "<table class=\"dataframe\">\n",
       "<caption>A data.frame: 6 × 3</caption>\n",
       "<thead>\n",
       "\t<tr><th></th><th scope=col>distance</th><th scope=col>immune_ct</th><th scope=col>epi_ct</th></tr>\n",
       "\t<tr><th></th><th scope=col>&lt;dbl&gt;</th><th scope=col>&lt;chr&gt;</th><th scope=col>&lt;fct&gt;</th></tr>\n",
       "</thead>\n",
       "<tbody>\n",
       "\t<tr><th scope=row>1</th><td>326.2990</td><td>Tfh</td><td>Epi_Normoxia</td></tr>\n",
       "\t<tr><th scope=row>2</th><td>244.9707</td><td>Tfh</td><td>Epi_Hypoxia </td></tr>\n",
       "\t<tr><th scope=row>3</th><td>153.2412</td><td>Tfh</td><td>Epi_Normoxia</td></tr>\n",
       "\t<tr><th scope=row>4</th><td>250.8095</td><td>Tfh</td><td>Epi_Normoxia</td></tr>\n",
       "\t<tr><th scope=row>5</th><td>303.7637</td><td>Tfh</td><td>Epi_Normoxia</td></tr>\n",
       "\t<tr><th scope=row>6</th><td>598.4452</td><td>Tfh</td><td>Epi_Normoxia</td></tr>\n",
       "</tbody>\n",
       "</table>\n"
      ],
      "text/latex": [
       "A data.frame: 6 × 3\n",
       "\\begin{tabular}{r|lll}\n",
       "  & distance & immune\\_ct & epi\\_ct\\\\\n",
       "  & <dbl> & <chr> & <fct>\\\\\n",
       "\\hline\n",
       "\t1 & 326.2990 & Tfh & Epi\\_Normoxia\\\\\n",
       "\t2 & 244.9707 & Tfh & Epi\\_Hypoxia \\\\\n",
       "\t3 & 153.2412 & Tfh & Epi\\_Normoxia\\\\\n",
       "\t4 & 250.8095 & Tfh & Epi\\_Normoxia\\\\\n",
       "\t5 & 303.7637 & Tfh & Epi\\_Normoxia\\\\\n",
       "\t6 & 598.4452 & Tfh & Epi\\_Normoxia\\\\\n",
       "\\end{tabular}\n"
      ],
      "text/markdown": [
       "\n",
       "A data.frame: 6 × 3\n",
       "\n",
       "| <!--/--> | distance &lt;dbl&gt; | immune_ct &lt;chr&gt; | epi_ct &lt;fct&gt; |\n",
       "|---|---|---|---|\n",
       "| 1 | 326.2990 | Tfh | Epi_Normoxia |\n",
       "| 2 | 244.9707 | Tfh | Epi_Hypoxia  |\n",
       "| 3 | 153.2412 | Tfh | Epi_Normoxia |\n",
       "| 4 | 250.8095 | Tfh | Epi_Normoxia |\n",
       "| 5 | 303.7637 | Tfh | Epi_Normoxia |\n",
       "| 6 | 598.4452 | Tfh | Epi_Normoxia |\n",
       "\n"
      ],
      "text/plain": [
       "  distance immune_ct epi_ct      \n",
       "1 326.2990 Tfh       Epi_Normoxia\n",
       "2 244.9707 Tfh       Epi_Hypoxia \n",
       "3 153.2412 Tfh       Epi_Normoxia\n",
       "4 250.8095 Tfh       Epi_Normoxia\n",
       "5 303.7637 Tfh       Epi_Normoxia\n",
       "6 598.4452 Tfh       Epi_Normoxia"
      ]
     },
     "metadata": {},
     "output_type": "display_data"
    }
   ],
   "source": [
    "head(distance_immune)"
   ]
  },
  {
   "cell_type": "code",
   "execution_count": 83,
   "id": "114a4ace-0eee-4aac-886a-b0207fef8f34",
   "metadata": {},
   "outputs": [
    {
     "data": {
      "image/png": "[encoded data removed]",
      "text/plain": [
       "plot without title"
      ]
     },
     "metadata": {
      "image/png": {
       "height": 360,
       "width": 360
      }
     },
     "output_type": "display_data"
    }
   ],
   "source": [
    "ggplot(distance_immune) + geom_boxplot(aes(x = immune_ct, y = distance, fill = epi_ct))"
   ]
  },
  {
   "cell_type": "code",
   "execution_count": 84,
   "id": "9ac8bf8e-d2da-4f5a-9944-82d72df384bd",
   "metadata": {},
   "outputs": [],
   "source": [
    "saveRDS(distance_immune,file = '~/HPV/res/spatial/distance_immune.rds')"
   ]
  },
  {
   "cell_type": "code",
   "execution_count": 85,
   "id": "1a35d379-7d09-4a7e-bef7-475d792d9a9d",
   "metadata": {},
   "outputs": [],
   "source": [
    "mat = as.data.frame(spatial@assays$RNA@layers$counts)"
   ]
  },
  {
   "cell_type": "code",
   "execution_count": 86,
   "id": "701b8676-949b-4121-8924-4e4e5d0eb211",
   "metadata": {},
   "outputs": [],
   "source": [
    "rownames(mat) = rownames(spatial)"
   ]
  },
  {
   "cell_type": "code",
   "execution_count": 87,
   "id": "b0c508db-2b13-4973-a9db-9de5e7b1d432",
   "metadata": {},
   "outputs": [
    {
     "data": {
      "text/html": [
       "<strong>png:</strong> 2"
      ],
      "text/latex": [
       "\\textbf{png:} 2"
      ],
      "text/markdown": [
       "**png:** 2"
      ],
      "text/plain": [
       "png \n",
       "  2 "
      ]
     },
     "metadata": {},
     "output_type": "display_data"
    }
   ],
   "source": [
    "pdf('~/HPV/figure/figure4/spatial_ero1a.pdf',width = 3,height = 3)\n",
    "suppressWarnings(ImageFeaturePlot(spatial[,mat['ERO1A',] >0 & mat['KRT5',] > 0 & mat['MKI67',] ==0], features = \"ERO1A\",size = 1.5))\n",
    "dev.off()"
   ]
  },
  {
   "cell_type": "code",
   "execution_count": 88,
   "id": "fa9a1c78-26f0-4cfe-b0d7-25fd9e0ca7ba",
   "metadata": {},
   "outputs": [
    {
     "data": {
      "text/html": [
       "<strong>png:</strong> 2"
      ],
      "text/latex": [
       "\\textbf{png:} 2"
      ],
      "text/markdown": [
       "**png:** 2"
      ],
      "text/plain": [
       "png \n",
       "  2 "
      ]
     },
     "metadata": {},
     "output_type": "display_data"
    }
   ],
   "source": [
    "pdf('~/HPV/figure/figure4/spatial_mki67.pdf',width = 3,height = 3)\n",
    "suppressWarnings(ImageFeaturePlot(spatial[,mat['ERO1A',] == 0 & mat['KRT5',] > 0 & mat['MKI67',] > 0], features = \"MKI67\",size = 1.5))\n",
    "dev.off()"
   ]
  },
  {
   "cell_type": "code",
   "execution_count": 89,
   "id": "979b2434-db04-49ca-8ba7-14b449f89ec0",
   "metadata": {},
   "outputs": [
    {
     "data": {
      "text/html": [
       "<strong>png:</strong> 2"
      ],
      "text/latex": [
       "\\textbf{png:} 2"
      ],
      "text/markdown": [
       "**png:** 2"
      ],
      "text/plain": [
       "png \n",
       "  2 "
      ]
     },
     "metadata": {},
     "output_type": "display_data"
    }
   ],
   "source": [
    "pdf('~/HPV/figure/figure4/spatial_cd8a.pdf',width = 3,height = 3)\n",
    "suppressWarnings(ImageFeaturePlot(spatial[,mat['CD8A',] > 0], features = \"CD8A\"))\n",
    "dev.off()"
   ]
  },
  {
   "cell_type": "code",
   "execution_count": 90,
   "id": "ae28f0b7-d713-42d3-8f0e-5216b4dc48f6",
   "metadata": {},
   "outputs": [
    {
     "data": {
      "text/html": [
       "<strong>png:</strong> 2"
      ],
      "text/latex": [
       "\\textbf{png:} 2"
      ],
      "text/markdown": [
       "**png:** 2"
      ],
      "text/plain": [
       "png \n",
       "  2 "
      ]
     },
     "metadata": {},
     "output_type": "display_data"
    }
   ],
   "source": [
    "pdf('~/HPV/figure/figure4/spatial_mzb1.pdf',width = 3,height = 3)\n",
    "suppressWarnings(ImageFeaturePlot(spatial[,mat['MZB1',] > 0], features = \"MZB1\"))\n",
    "dev.off()"
   ]
  },
  {
   "cell_type": "code",
   "execution_count": 91,
   "id": "2807e033-0ad3-49d7-86bd-6a10f3942117",
   "metadata": {},
   "outputs": [
    {
     "data": {
      "text/html": [
       "<strong>png:</strong> 2"
      ],
      "text/latex": [
       "\\textbf{png:} 2"
      ],
      "text/markdown": [
       "**png:** 2"
      ],
      "text/plain": [
       "png \n",
       "  2 "
      ]
     },
     "metadata": {},
     "output_type": "display_data"
    }
   ],
   "source": [
    "pdf('~/HPV/figure/figure4/spatial_ms4a1.pdf',width = 3,height = 3)\n",
    "suppressWarnings(ImageFeaturePlot(spatial[,mat['MS4A1',] > 0], features = \"MS4A1\"))\n",
    "dev.off()"
   ]
  },
  {
   "cell_type": "code",
   "execution_count": 92,
   "id": "b7e9d600-86b0-4422-9ebe-3d197312170e",
   "metadata": {},
   "outputs": [
    {
     "data": {
      "text/html": [
       "<strong>png:</strong> 2"
      ],
      "text/latex": [
       "\\textbf{png:} 2"
      ],
      "text/markdown": [
       "**png:** 2"
      ],
      "text/plain": [
       "png \n",
       "  2 "
      ]
     },
     "metadata": {},
     "output_type": "display_data"
    }
   ],
   "source": [
    "pdf('~/HPV/figure/figure4/spatial_cxcl13.pdf',width = 3,height = 3)\n",
    "suppressWarnings(ImageFeaturePlot(spatial[,mat['CD4',] > 0 & mat['CXCL13',] > 0], features = \"CXCL13\"))\n",
    "dev.off()"
   ]
  },
  {
   "cell_type": "code",
   "execution_count": 93,
   "id": "0fbbbaa3-8629-42e8-88df-c5451b0fe31a",
   "metadata": {},
   "outputs": [],
   "source": [
    "spatial$major = factor(spatial$major,levels = c('Epi_Normoxia','Epi_Hypoxia','Tfh','CD8T','B','Plasma'))"
   ]
  },
  {
   "cell_type": "code",
   "execution_count": 94,
   "id": "5c66bdcd-c2dc-4502-b0e7-7b1e2e6da7ef",
   "metadata": {},
   "outputs": [
    {
     "name": "stderr",
     "output_type": "stream",
     "text": [
      "Warning message:\n",
      "“No layers found matching search pattern provided”\n",
      "Warning message in FetchData.Assay5(object = object[[DefaultAssay(object = object)]], :\n",
      "“data layer is not found and counts layer is used”\n"
     ]
    },
    {
     "data": {
      "text/html": [
       "<strong>png:</strong> 2"
      ],
      "text/latex": [
       "\\textbf{png:} 2"
      ],
      "text/markdown": [
       "**png:** 2"
      ],
      "text/plain": [
       "png \n",
       "  2 "
      ]
     },
     "metadata": {},
     "output_type": "display_data"
    }
   ],
   "source": [
    "pdf('~/HPV/figure/figure4/spatial_marker_gene.pdf',width = 6,height = 3.5)\n",
    "DotPlot(spatial,features = c('CD4','CXCL13','MS4A1','MZB1','KRT5','ERO1A','MKI67','CD8A')) + theme(axis.text.x = element_text(angle = 45, hjust = 1, vjust = 1))\n",
    "dev.off()"
   ]
  },
  {
   "cell_type": "code",
   "execution_count": null,
   "id": "6c19e51d-4490-4050-948c-ae70bda45249",
   "metadata": {},
   "outputs": [],
   "source": []
  }
 ],
 "metadata": {
  "kernelspec": {
   "display_name": "seurat5",
   "language": "R",
   "name": "ir"
  },
  "language_info": {
   "codemirror_mode": "r",
   "file_extension": ".r",
   "mimetype": "text/x-r-source",
   "name": "R",
   "pygments_lexer": "r",
   "version": "4.2.3"
  }
 },
 "nbformat": 4,
 "nbformat_minor": 5
}
